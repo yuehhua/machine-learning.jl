{
 "cells": [
  {
   "cell_type": "markdown",
   "metadata": {},
   "source": [
    "# Logistic Regression"
   ]
  },
  {
   "cell_type": "markdown",
   "metadata": {},
   "source": [
    "## Using GLM"
   ]
  },
  {
   "cell_type": "code",
   "execution_count": 1,
   "metadata": {},
   "outputs": [],
   "source": [
    "using GLM\n",
    "using Statistics\n",
    "using RDatasets\n",
    "using MLDataUtils"
   ]
  },
  {
   "cell_type": "markdown",
   "metadata": {},
   "source": [
    "### Load data"
   ]
  },
  {
   "cell_type": "code",
   "execution_count": 2,
   "metadata": {},
   "outputs": [
    {
     "data": {
      "text/html": [
       "<div class=\"data-frame\"><p>6 rows × 4 columns</p><table class=\"data-frame\"><thead><tr><th></th><th>Default</th><th>Student</th><th>Balance</th><th>Income</th></tr><tr><th></th><th title=\"CategoricalArrays.CategoricalValue{String, UInt8}\">Cat…</th><th title=\"CategoricalArrays.CategoricalValue{String, UInt8}\">Cat…</th><th title=\"Float64\">Float64</th><th title=\"Float64\">Float64</th></tr></thead><tbody><tr><th>1</th><td>No</td><td>No</td><td>729.526</td><td>44361.6</td></tr><tr><th>2</th><td>No</td><td>Yes</td><td>817.18</td><td>12106.1</td></tr><tr><th>3</th><td>No</td><td>No</td><td>1073.55</td><td>31767.1</td></tr><tr><th>4</th><td>No</td><td>No</td><td>529.251</td><td>35704.5</td></tr><tr><th>5</th><td>No</td><td>No</td><td>785.656</td><td>38463.5</td></tr><tr><th>6</th><td>No</td><td>Yes</td><td>919.589</td><td>7491.56</td></tr></tbody></table></div>"
      ],
      "text/latex": [
       "\\begin{tabular}{r|cccc}\n",
       "\t& Default & Student & Balance & Income\\\\\n",
       "\t\\hline\n",
       "\t& Cat… & Cat… & Float64 & Float64\\\\\n",
       "\t\\hline\n",
       "\t1 & No & No & 729.526 & 44361.6 \\\\\n",
       "\t2 & No & Yes & 817.18 & 12106.1 \\\\\n",
       "\t3 & No & No & 1073.55 & 31767.1 \\\\\n",
       "\t4 & No & No & 529.251 & 35704.5 \\\\\n",
       "\t5 & No & No & 785.656 & 38463.5 \\\\\n",
       "\t6 & No & Yes & 919.589 & 7491.56 \\\\\n",
       "\\end{tabular}\n"
      ],
      "text/plain": [
       "\u001b[1m6×4 DataFrame\u001b[0m\n",
       "\u001b[1m Row \u001b[0m│\u001b[1m Default \u001b[0m\u001b[1m Student \u001b[0m\u001b[1m Balance  \u001b[0m\u001b[1m Income   \u001b[0m\n",
       "\u001b[1m     \u001b[0m│\u001b[90m Cat…    \u001b[0m\u001b[90m Cat…    \u001b[0m\u001b[90m Float64  \u001b[0m\u001b[90m Float64  \u001b[0m\n",
       "─────┼──────────────────────────────────────\n",
       "   1 │ No       No        729.526  44361.6\n",
       "   2 │ No       Yes       817.18   12106.1\n",
       "   3 │ No       No       1073.55   31767.1\n",
       "   4 │ No       No        529.251  35704.5\n",
       "   5 │ No       No        785.656  38463.5\n",
       "   6 │ No       Yes       919.589   7491.56"
      ]
     },
     "execution_count": 2,
     "metadata": {},
     "output_type": "execute_result"
    }
   ],
   "source": [
    "data = RDatasets.dataset(\"ISLR\", \"Default\")\n",
    "first(data, 6)"
   ]
  },
  {
   "cell_type": "markdown",
   "metadata": {},
   "source": [
    "### Preprocessing"
   ]
  },
  {
   "cell_type": "code",
   "execution_count": 3,
   "metadata": {},
   "outputs": [
    {
     "data": {
      "text/html": [
       "<div class=\"data-frame\"><p>6 rows × 6 columns</p><table class=\"data-frame\"><thead><tr><th></th><th>Default</th><th>Student</th><th>Balance</th><th>Income</th><th>DefaultNum</th><th>StudentNum</th></tr><tr><th></th><th title=\"CategoricalArrays.CategoricalValue{String, UInt8}\">Cat…</th><th title=\"CategoricalArrays.CategoricalValue{String, UInt8}\">Cat…</th><th title=\"Float64\">Float64</th><th title=\"Float64\">Float64</th><th title=\"Float64\">Float64</th><th title=\"Float64\">Float64</th></tr></thead><tbody><tr><th>1</th><td>No</td><td>No</td><td>729.526</td><td>44361.6</td><td>0.0</td><td>0.0</td></tr><tr><th>2</th><td>No</td><td>Yes</td><td>817.18</td><td>12106.1</td><td>0.0</td><td>1.0</td></tr><tr><th>3</th><td>No</td><td>No</td><td>1073.55</td><td>31767.1</td><td>0.0</td><td>0.0</td></tr><tr><th>4</th><td>No</td><td>No</td><td>529.251</td><td>35704.5</td><td>0.0</td><td>0.0</td></tr><tr><th>5</th><td>No</td><td>No</td><td>785.656</td><td>38463.5</td><td>0.0</td><td>0.0</td></tr><tr><th>6</th><td>No</td><td>Yes</td><td>919.589</td><td>7491.56</td><td>0.0</td><td>1.0</td></tr></tbody></table></div>"
      ],
      "text/latex": [
       "\\begin{tabular}{r|cccccc}\n",
       "\t& Default & Student & Balance & Income & DefaultNum & StudentNum\\\\\n",
       "\t\\hline\n",
       "\t& Cat… & Cat… & Float64 & Float64 & Float64 & Float64\\\\\n",
       "\t\\hline\n",
       "\t1 & No & No & 729.526 & 44361.6 & 0.0 & 0.0 \\\\\n",
       "\t2 & No & Yes & 817.18 & 12106.1 & 0.0 & 1.0 \\\\\n",
       "\t3 & No & No & 1073.55 & 31767.1 & 0.0 & 0.0 \\\\\n",
       "\t4 & No & No & 529.251 & 35704.5 & 0.0 & 0.0 \\\\\n",
       "\t5 & No & No & 785.656 & 38463.5 & 0.0 & 0.0 \\\\\n",
       "\t6 & No & Yes & 919.589 & 7491.56 & 0.0 & 1.0 \\\\\n",
       "\\end{tabular}\n"
      ],
      "text/plain": [
       "\u001b[1m6×6 DataFrame\u001b[0m\n",
       "\u001b[1m Row \u001b[0m│\u001b[1m Default \u001b[0m\u001b[1m Student \u001b[0m\u001b[1m Balance  \u001b[0m\u001b[1m Income   \u001b[0m\u001b[1m DefaultNum \u001b[0m\u001b[1m StudentNum \u001b[0m\n",
       "\u001b[1m     \u001b[0m│\u001b[90m Cat…    \u001b[0m\u001b[90m Cat…    \u001b[0m\u001b[90m Float64  \u001b[0m\u001b[90m Float64  \u001b[0m\u001b[90m Float64    \u001b[0m\u001b[90m Float64    \u001b[0m\n",
       "─────┼──────────────────────────────────────────────────────────────\n",
       "   1 │ No       No        729.526  44361.6          0.0         0.0\n",
       "   2 │ No       Yes       817.18   12106.1          0.0         1.0\n",
       "   3 │ No       No       1073.55   31767.1          0.0         0.0\n",
       "   4 │ No       No        529.251  35704.5          0.0         0.0\n",
       "   5 │ No       No        785.656  38463.5          0.0         0.0\n",
       "   6 │ No       Yes       919.589   7491.56         0.0         1.0"
      ]
     },
     "execution_count": 3,
     "metadata": {},
     "output_type": "execute_result"
    }
   ],
   "source": [
    "isyes(x) = x == \"Yes\" ? 1.0 : 0.0\n",
    "\n",
    "data[!, :DefaultNum] = isyes.(data[!, :Default])\n",
    "data[!, :StudentNum] = isyes.(data[!, :Student])\n",
    "first(data, 6)"
   ]
  },
  {
   "cell_type": "markdown",
   "metadata": {},
   "source": [
    "### Training/Testing set"
   ]
  },
  {
   "cell_type": "code",
   "execution_count": 4,
   "metadata": {},
   "outputs": [],
   "source": [
    "indecies = MLDataUtils.shuffleobs(collect(1:nrow(data)))\n",
    "train_ind, test_ind = MLDataUtils.splitobs(indecies, at=0.8);"
   ]
  },
  {
   "cell_type": "code",
   "execution_count": 5,
   "metadata": {},
   "outputs": [
    {
     "data": {
      "text/html": [
       "<div class=\"data-frame\"><p>2,000 rows × 6 columns</p><table class=\"data-frame\"><thead><tr><th></th><th>Default</th><th>Student</th><th>Balance</th><th>Income</th><th>DefaultNum</th><th>StudentNum</th></tr><tr><th></th><th title=\"CategoricalArrays.CategoricalValue{String, UInt8}\">Cat…</th><th title=\"CategoricalArrays.CategoricalValue{String, UInt8}\">Cat…</th><th title=\"Float64\">Float64</th><th title=\"Float64\">Float64</th><th title=\"Float64\">Float64</th><th title=\"Float64\">Float64</th></tr></thead><tbody><tr><th>1</th><td>No</td><td>Yes</td><td>1752.74</td><td>15596.9</td><td>0.0</td><td>1.0</td></tr><tr><th>2</th><td>No</td><td>No</td><td>51.186</td><td>39385.8</td><td>0.0</td><td>0.0</td></tr><tr><th>3</th><td>No</td><td>No</td><td>979.851</td><td>44869.0</td><td>0.0</td><td>0.0</td></tr><tr><th>4</th><td>No</td><td>No</td><td>1228.31</td><td>37408.5</td><td>0.0</td><td>0.0</td></tr><tr><th>5</th><td>No</td><td>Yes</td><td>1464.39</td><td>13968.5</td><td>0.0</td><td>1.0</td></tr><tr><th>6</th><td>No</td><td>Yes</td><td>1423.94</td><td>22634.5</td><td>0.0</td><td>1.0</td></tr><tr><th>7</th><td>No</td><td>No</td><td>796.991</td><td>25159.6</td><td>0.0</td><td>0.0</td></tr><tr><th>8</th><td>Yes</td><td>No</td><td>1610.48</td><td>35589.7</td><td>1.0</td><td>0.0</td></tr><tr><th>9</th><td>No</td><td>No</td><td>0.0</td><td>39893.3</td><td>0.0</td><td>0.0</td></tr><tr><th>10</th><td>No</td><td>Yes</td><td>220.556</td><td>16872.9</td><td>0.0</td><td>1.0</td></tr><tr><th>11</th><td>No</td><td>No</td><td>363.994</td><td>38110.4</td><td>0.0</td><td>0.0</td></tr><tr><th>12</th><td>No</td><td>Yes</td><td>886.059</td><td>10378.6</td><td>0.0</td><td>1.0</td></tr><tr><th>13</th><td>No</td><td>No</td><td>506.462</td><td>36596.1</td><td>0.0</td><td>0.0</td></tr><tr><th>14</th><td>No</td><td>Yes</td><td>1135.01</td><td>24005.0</td><td>0.0</td><td>1.0</td></tr><tr><th>15</th><td>No</td><td>Yes</td><td>681.972</td><td>19925.4</td><td>0.0</td><td>1.0</td></tr><tr><th>16</th><td>No</td><td>No</td><td>796.837</td><td>29397.9</td><td>0.0</td><td>0.0</td></tr><tr><th>17</th><td>No</td><td>No</td><td>1236.16</td><td>19682.7</td><td>0.0</td><td>0.0</td></tr><tr><th>18</th><td>No</td><td>No</td><td>0.0</td><td>54659.2</td><td>0.0</td><td>0.0</td></tr><tr><th>19</th><td>No</td><td>No</td><td>253.517</td><td>53125.5</td><td>0.0</td><td>0.0</td></tr><tr><th>20</th><td>Yes</td><td>Yes</td><td>2182.35</td><td>22037.9</td><td>1.0</td><td>1.0</td></tr><tr><th>21</th><td>No</td><td>Yes</td><td>1082.75</td><td>26096.3</td><td>0.0</td><td>1.0</td></tr><tr><th>22</th><td>No</td><td>No</td><td>869.308</td><td>32571.2</td><td>0.0</td><td>0.0</td></tr><tr><th>23</th><td>No</td><td>No</td><td>1143.43</td><td>35773.4</td><td>0.0</td><td>0.0</td></tr><tr><th>24</th><td>Yes</td><td>Yes</td><td>2125.79</td><td>19539.1</td><td>1.0</td><td>1.0</td></tr><tr><th>25</th><td>No</td><td>No</td><td>1382.45</td><td>40394.3</td><td>0.0</td><td>0.0</td></tr><tr><th>26</th><td>No</td><td>No</td><td>0.0</td><td>36887.0</td><td>0.0</td><td>0.0</td></tr><tr><th>27</th><td>No</td><td>No</td><td>914.881</td><td>39789.1</td><td>0.0</td><td>0.0</td></tr><tr><th>28</th><td>No</td><td>No</td><td>1248.28</td><td>41100.6</td><td>0.0</td><td>0.0</td></tr><tr><th>29</th><td>No</td><td>No</td><td>332.674</td><td>22938.6</td><td>0.0</td><td>0.0</td></tr><tr><th>30</th><td>No</td><td>Yes</td><td>1231.21</td><td>20000.1</td><td>0.0</td><td>1.0</td></tr><tr><th>&vellip;</th><td>&vellip;</td><td>&vellip;</td><td>&vellip;</td><td>&vellip;</td><td>&vellip;</td><td>&vellip;</td></tr></tbody></table></div>"
      ],
      "text/latex": [
       "\\begin{tabular}{r|cccccc}\n",
       "\t& Default & Student & Balance & Income & DefaultNum & StudentNum\\\\\n",
       "\t\\hline\n",
       "\t& Cat… & Cat… & Float64 & Float64 & Float64 & Float64\\\\\n",
       "\t\\hline\n",
       "\t1 & No & Yes & 1752.74 & 15596.9 & 0.0 & 1.0 \\\\\n",
       "\t2 & No & No & 51.186 & 39385.8 & 0.0 & 0.0 \\\\\n",
       "\t3 & No & No & 979.851 & 44869.0 & 0.0 & 0.0 \\\\\n",
       "\t4 & No & No & 1228.31 & 37408.5 & 0.0 & 0.0 \\\\\n",
       "\t5 & No & Yes & 1464.39 & 13968.5 & 0.0 & 1.0 \\\\\n",
       "\t6 & No & Yes & 1423.94 & 22634.5 & 0.0 & 1.0 \\\\\n",
       "\t7 & No & No & 796.991 & 25159.6 & 0.0 & 0.0 \\\\\n",
       "\t8 & Yes & No & 1610.48 & 35589.7 & 1.0 & 0.0 \\\\\n",
       "\t9 & No & No & 0.0 & 39893.3 & 0.0 & 0.0 \\\\\n",
       "\t10 & No & Yes & 220.556 & 16872.9 & 0.0 & 1.0 \\\\\n",
       "\t11 & No & No & 363.994 & 38110.4 & 0.0 & 0.0 \\\\\n",
       "\t12 & No & Yes & 886.059 & 10378.6 & 0.0 & 1.0 \\\\\n",
       "\t13 & No & No & 506.462 & 36596.1 & 0.0 & 0.0 \\\\\n",
       "\t14 & No & Yes & 1135.01 & 24005.0 & 0.0 & 1.0 \\\\\n",
       "\t15 & No & Yes & 681.972 & 19925.4 & 0.0 & 1.0 \\\\\n",
       "\t16 & No & No & 796.837 & 29397.9 & 0.0 & 0.0 \\\\\n",
       "\t17 & No & No & 1236.16 & 19682.7 & 0.0 & 0.0 \\\\\n",
       "\t18 & No & No & 0.0 & 54659.2 & 0.0 & 0.0 \\\\\n",
       "\t19 & No & No & 253.517 & 53125.5 & 0.0 & 0.0 \\\\\n",
       "\t20 & Yes & Yes & 2182.35 & 22037.9 & 1.0 & 1.0 \\\\\n",
       "\t21 & No & Yes & 1082.75 & 26096.3 & 0.0 & 1.0 \\\\\n",
       "\t22 & No & No & 869.308 & 32571.2 & 0.0 & 0.0 \\\\\n",
       "\t23 & No & No & 1143.43 & 35773.4 & 0.0 & 0.0 \\\\\n",
       "\t24 & Yes & Yes & 2125.79 & 19539.1 & 1.0 & 1.0 \\\\\n",
       "\t25 & No & No & 1382.45 & 40394.3 & 0.0 & 0.0 \\\\\n",
       "\t26 & No & No & 0.0 & 36887.0 & 0.0 & 0.0 \\\\\n",
       "\t27 & No & No & 914.881 & 39789.1 & 0.0 & 0.0 \\\\\n",
       "\t28 & No & No & 1248.28 & 41100.6 & 0.0 & 0.0 \\\\\n",
       "\t29 & No & No & 332.674 & 22938.6 & 0.0 & 0.0 \\\\\n",
       "\t30 & No & Yes & 1231.21 & 20000.1 & 0.0 & 1.0 \\\\\n",
       "\t$\\dots$ & $\\dots$ & $\\dots$ & $\\dots$ & $\\dots$ & $\\dots$ & $\\dots$ \\\\\n",
       "\\end{tabular}\n"
      ],
      "text/plain": [
       "\u001b[1m2000×6 DataFrame\u001b[0m\n",
       "\u001b[1m  Row \u001b[0m│\u001b[1m Default \u001b[0m\u001b[1m Student \u001b[0m\u001b[1m Balance  \u001b[0m\u001b[1m Income  \u001b[0m\u001b[1m DefaultNum \u001b[0m\u001b[1m StudentNum \u001b[0m\n",
       "\u001b[1m      \u001b[0m│\u001b[90m Cat…    \u001b[0m\u001b[90m Cat…    \u001b[0m\u001b[90m Float64  \u001b[0m\u001b[90m Float64 \u001b[0m\u001b[90m Float64    \u001b[0m\u001b[90m Float64    \u001b[0m\n",
       "──────┼─────────────────────────────────────────────────────────────\n",
       "    1 │ No       Yes      1752.74   15596.9         0.0         1.0\n",
       "    2 │ No       No         51.186  39385.8         0.0         0.0\n",
       "    3 │ No       No        979.851  44869.0         0.0         0.0\n",
       "    4 │ No       No       1228.31   37408.5         0.0         0.0\n",
       "    5 │ No       Yes      1464.39   13968.5         0.0         1.0\n",
       "    6 │ No       Yes      1423.94   22634.5         0.0         1.0\n",
       "    7 │ No       No        796.991  25159.6         0.0         0.0\n",
       "    8 │ Yes      No       1610.48   35589.7         1.0         0.0\n",
       "    9 │ No       No          0.0    39893.3         0.0         0.0\n",
       "   10 │ No       Yes       220.556  16872.9         0.0         1.0\n",
       "   11 │ No       No        363.994  38110.4         0.0         0.0\n",
       "  ⋮   │    ⋮        ⋮        ⋮         ⋮         ⋮           ⋮\n",
       " 1991 │ No       No        943.199  41765.1         0.0         0.0\n",
       " 1992 │ No       No        645.075  43244.5         0.0         0.0\n",
       " 1993 │ No       No       1042.51   37170.1         0.0         0.0\n",
       " 1994 │ No       No          0.0    32720.6         0.0         0.0\n",
       " 1995 │ No       Yes       728.549  22891.9         0.0         1.0\n",
       " 1996 │ No       No        268.443  55295.0         0.0         0.0\n",
       " 1997 │ Yes      Yes      2654.32   21930.4         1.0         1.0\n",
       " 1998 │ No       No       1493.61   38744.2         0.0         0.0\n",
       " 1999 │ No       Yes      1409.3    21508.5         0.0         1.0\n",
       " 2000 │ No       No        999.654  27564.7         0.0         0.0\n",
       "\u001b[36m                                                   1979 rows omitted\u001b[0m"
      ]
     },
     "execution_count": 5,
     "metadata": {},
     "output_type": "execute_result"
    }
   ],
   "source": [
    "train = data[train_ind, :]\n",
    "test = data[test_ind, :]"
   ]
  },
  {
   "cell_type": "markdown",
   "metadata": {},
   "source": [
    "### Model"
   ]
  },
  {
   "cell_type": "code",
   "execution_count": 6,
   "metadata": {},
   "outputs": [
    {
     "data": {
      "text/plain": [
       "StatsModels.TableRegressionModel{GeneralizedLinearModel{GLM.GlmResp{Vector{Float64}, Binomial{Float64}, LogitLink}, GLM.DensePredChol{Float64, LinearAlgebra.Cholesky{Float64, Matrix{Float64}}}}, Matrix{Float64}}\n",
       "\n",
       "DefaultNum ~ 1 + Balance + Income\n",
       "\n",
       "Coefficients:\n",
       "────────────────────────────────────────────────────────────────────────────────────\n",
       "                    Coef.   Std. Error       z  Pr(>|z|)     Lower 95%     Upper 95%\n",
       "────────────────────────────────────────────────────────────────────────────────────\n",
       "(Intercept)  -11.5226      0.480836     -23.96    <1e-99  -12.465       -10.5802\n",
       "Balance        0.00563487  0.000251878   22.37    <1e-99    0.0051412     0.00612854\n",
       "Income         2.18582e-5  5.45605e-6     4.01    <1e-04    1.11646e-5    3.25519e-5\n",
       "────────────────────────────────────────────────────────────────────────────────────"
      ]
     },
     "execution_count": 6,
     "metadata": {},
     "output_type": "execute_result"
    }
   ],
   "source": [
    "logreg = glm(@formula(DefaultNum ~ Balance + Income), train, Binomial(), LogitLink())"
   ]
  },
  {
   "cell_type": "markdown",
   "metadata": {},
   "source": [
    "### Prediction"
   ]
  },
  {
   "cell_type": "code",
   "execution_count": 7,
   "metadata": {},
   "outputs": [
    {
     "data": {
      "text/plain": [
       "2000-element Vector{Union{Missing, Float64}}:\n",
       " 0.21328625454571212\n",
       " 3.125612838928029e-5\n",
       " 0.006557933523560017\n",
       " 0.022236137055162565\n",
       " 0.04900485991424943\n",
       " 0.04723963605465983\n",
       " 0.001528854259701545\n",
       " 0.15845169642308257\n",
       " 2.3686135678251725e-5\n",
       " 4.962441404369916e-5\n",
       " 0.00017711989399314524\n",
       " 0.0018276337069826445\n",
       " 0.0003823405425518227\n",
       " ⋮\n",
       " 0.0029645402339915877\n",
       " 8.933402494237131e-5\n",
       " 0.004992202023964724\n",
       " 0.0009649886232806776\n",
       " 0.007878355817466555\n",
       " 2.024910853402094e-5\n",
       " 0.0009898826715552314\n",
       " 0.0001505145966882297\n",
       " 0.980421178398864\n",
       " 0.09454087048209255\n",
       " 0.04264618321679343\n",
       " 0.005030685046548807"
      ]
     },
     "execution_count": 7,
     "metadata": {},
     "output_type": "execute_result"
    }
   ],
   "source": [
    "pred = predict(logreg, test)"
   ]
  },
  {
   "cell_type": "markdown",
   "metadata": {},
   "source": [
    "### Validation"
   ]
  },
  {
   "cell_type": "code",
   "execution_count": 8,
   "metadata": {},
   "outputs": [
    {
     "data": {
      "text/plain": [
       "accuracy (generic function with 1 method)"
      ]
     },
     "execution_count": 8,
     "metadata": {},
     "output_type": "execute_result"
    }
   ],
   "source": [
    "error(x, y) = ((x > 0.5) ? 1.0 : 0.0) == y\n",
    "accuracy(xs, ys) = mean(error.(xs, ys))"
   ]
  },
  {
   "cell_type": "code",
   "execution_count": 9,
   "metadata": {},
   "outputs": [
    {
     "data": {
      "text/plain": [
       "0.978"
      ]
     },
     "execution_count": 9,
     "metadata": {},
     "output_type": "execute_result"
    }
   ],
   "source": [
    "accuracy(pred, test[!, :DefaultNum])"
   ]
  },
  {
   "cell_type": "markdown",
   "metadata": {},
   "source": [
    "## Using MLJ"
   ]
  },
  {
   "cell_type": "code",
   "execution_count": 10,
   "metadata": {},
   "outputs": [
    {
     "name": "stderr",
     "output_type": "stream",
     "text": [
      "┌ Info: Precompiling MLJ [add582a8-e3ab-11e8-2d5e-e98b27df1bc7]\n",
      "└ @ Base loading.jl:1423\n",
      "\u001b[33m\u001b[1m┌ \u001b[22m\u001b[39m\u001b[33m\u001b[1mWarning: \u001b[22m\u001b[39mModule Distributions with build ID 106535861419595 is missing from the cache.\n",
      "\u001b[33m\u001b[1m│ \u001b[22m\u001b[39mThis may mean Distributions [31c24e10-a181-5473-b8eb-7969acd0382f] does not support precompilation but is imported by a module that does.\n",
      "\u001b[33m\u001b[1m└ \u001b[22m\u001b[39m\u001b[90m@ Base loading.jl:1107\u001b[39m\n",
      "\u001b[33m\u001b[1m┌ \u001b[22m\u001b[39m\u001b[33m\u001b[1mWarning: \u001b[22m\u001b[39mModule Distributions with build ID 106535861419595 is missing from the cache.\n",
      "\u001b[33m\u001b[1m│ \u001b[22m\u001b[39mThis may mean Distributions [31c24e10-a181-5473-b8eb-7969acd0382f] does not support precompilation but is imported by a module that does.\n",
      "\u001b[33m\u001b[1m└ \u001b[22m\u001b[39m\u001b[90m@ Base loading.jl:1107\u001b[39m\n",
      "\u001b[33m\u001b[1m┌ \u001b[22m\u001b[39m\u001b[33m\u001b[1mWarning: \u001b[22m\u001b[39mModule Distributions with build ID 106535861419595 is missing from the cache.\n",
      "\u001b[33m\u001b[1m│ \u001b[22m\u001b[39mThis may mean Distributions [31c24e10-a181-5473-b8eb-7969acd0382f] does not support precompilation but is imported by a module that does.\n",
      "\u001b[33m\u001b[1m└ \u001b[22m\u001b[39m\u001b[90m@ Base loading.jl:1107\u001b[39m\n",
      "\u001b[33m\u001b[1m┌ \u001b[22m\u001b[39m\u001b[33m\u001b[1mWarning: \u001b[22m\u001b[39mModule Distributions with build ID 106535861419595 is missing from the cache.\n",
      "\u001b[33m\u001b[1m│ \u001b[22m\u001b[39mThis may mean Distributions [31c24e10-a181-5473-b8eb-7969acd0382f] does not support precompilation but is imported by a module that does.\n",
      "\u001b[33m\u001b[1m└ \u001b[22m\u001b[39m\u001b[90m@ Base loading.jl:1107\u001b[39m\n",
      "┌ Info: Skipping precompilation since __precompile__(false). Importing MLJ [add582a8-e3ab-11e8-2d5e-e98b27df1bc7].\n",
      "└ @ Base loading.jl:1124\n",
      "┌ Info: Precompiling MLJBase [a7f614a8-145f-11e9-1d2a-a57a1082229d]\n",
      "└ @ Base loading.jl:1423\n",
      "\u001b[33m\u001b[1m┌ \u001b[22m\u001b[39m\u001b[33m\u001b[1mWarning: \u001b[22m\u001b[39mModule Distributions with build ID 106535861419595 is missing from the cache.\n",
      "\u001b[33m\u001b[1m│ \u001b[22m\u001b[39mThis may mean Distributions [31c24e10-a181-5473-b8eb-7969acd0382f] does not support precompilation but is imported by a module that does.\n",
      "\u001b[33m\u001b[1m└ \u001b[22m\u001b[39m\u001b[90m@ Base loading.jl:1107\u001b[39m\n",
      "\u001b[33m\u001b[1m┌ \u001b[22m\u001b[39m\u001b[33m\u001b[1mWarning: \u001b[22m\u001b[39mModule Distributions with build ID 106535861419595 is missing from the cache.\n",
      "\u001b[33m\u001b[1m│ \u001b[22m\u001b[39mThis may mean Distributions [31c24e10-a181-5473-b8eb-7969acd0382f] does not support precompilation but is imported by a module that does.\n",
      "\u001b[33m\u001b[1m└ \u001b[22m\u001b[39m\u001b[90m@ Base loading.jl:1107\u001b[39m\n",
      "┌ Info: Skipping precompilation since __precompile__(false). Importing MLJBase [a7f614a8-145f-11e9-1d2a-a57a1082229d].\n",
      "└ @ Base loading.jl:1124\n",
      "┌ Warning: Replacing module `Distributions`\n",
      "└ @ Base loading.jl:1036\n",
      "┌ Info: Precompiling CategoricalDistributions [af321ab8-2d2e-40a6-b165-3d674595d28e]\n",
      "└ @ Base loading.jl:1423\n",
      "\u001b[33m\u001b[1m┌ \u001b[22m\u001b[39m\u001b[33m\u001b[1mWarning: \u001b[22m\u001b[39mModule Distributions with build ID 106548130345052 is missing from the cache.\n",
      "\u001b[33m\u001b[1m│ \u001b[22m\u001b[39mThis may mean Distributions [31c24e10-a181-5473-b8eb-7969acd0382f] does not support precompilation but is imported by a module that does.\n",
      "\u001b[33m\u001b[1m└ \u001b[22m\u001b[39m\u001b[90m@ Base loading.jl:1107\u001b[39m\n",
      "┌ Info: Skipping precompilation since __precompile__(false). Importing CategoricalDistributions [af321ab8-2d2e-40a6-b165-3d674595d28e].\n",
      "└ @ Base loading.jl:1124\n",
      "┌ Info: Precompiling MLJEnsembles [50ed68f4-41fd-4504-931a-ed422449fee0]\n",
      "└ @ Base loading.jl:1423\n",
      "\u001b[33m\u001b[1m┌ \u001b[22m\u001b[39m\u001b[33m\u001b[1mWarning: \u001b[22m\u001b[39mModule MLJBase with build ID 108916576939137 is missing from the cache.\n",
      "\u001b[33m\u001b[1m│ \u001b[22m\u001b[39mThis may mean MLJBase [a7f614a8-145f-11e9-1d2a-a57a1082229d] does not support precompilation but is imported by a module that does.\n",
      "\u001b[33m\u001b[1m└ \u001b[22m\u001b[39m\u001b[90m@ Base loading.jl:1107\u001b[39m\n",
      "┌ Info: Skipping precompilation since __precompile__(false). Importing MLJEnsembles [50ed68f4-41fd-4504-931a-ed422449fee0].\n",
      "└ @ Base loading.jl:1124\n",
      "┌ Info: Precompiling MLJTuning [03970b2e-30c4-11ea-3135-d1576263f10f]\n",
      "└ @ Base loading.jl:1423\n",
      "\u001b[33m\u001b[1m┌ \u001b[22m\u001b[39m\u001b[33m\u001b[1mWarning: \u001b[22m\u001b[39mModule MLJBase with build ID 108916576939137 is missing from the cache.\n",
      "\u001b[33m\u001b[1m│ \u001b[22m\u001b[39mThis may mean MLJBase [a7f614a8-145f-11e9-1d2a-a57a1082229d] does not support precompilation but is imported by a module that does.\n",
      "\u001b[33m\u001b[1m└ \u001b[22m\u001b[39m\u001b[90m@ Base loading.jl:1107\u001b[39m\n",
      "┌ Info: Skipping precompilation since __precompile__(false). Importing MLJTuning [03970b2e-30c4-11ea-3135-d1576263f10f].\n",
      "└ @ Base loading.jl:1124\n",
      "┌ Warning: Replacing module `CategoricalDistributions`\n",
      "└ @ Base loading.jl:1036\n",
      "┌ Info: Precompiling MLJIteration [614be32b-d00c-4edb-bd02-1eb411ab5e55]\n",
      "└ @ Base loading.jl:1423\n",
      "\u001b[33m\u001b[1m┌ \u001b[22m\u001b[39m\u001b[33m\u001b[1mWarning: \u001b[22m\u001b[39mModule MLJBase with build ID 108916576939137 is missing from the cache.\n",
      "\u001b[33m\u001b[1m│ \u001b[22m\u001b[39mThis may mean MLJBase [a7f614a8-145f-11e9-1d2a-a57a1082229d] does not support precompilation but is imported by a module that does.\n",
      "\u001b[33m\u001b[1m└ \u001b[22m\u001b[39m\u001b[90m@ Base loading.jl:1107\u001b[39m\n",
      "┌ Info: Skipping precompilation since __precompile__(false). Importing MLJIteration [614be32b-d00c-4edb-bd02-1eb411ab5e55].\n",
      "└ @ Base loading.jl:1124\n",
      "WARNING: using MLJ.predict in module Main conflicts with an existing identifier.\n"
     ]
    }
   ],
   "source": [
    "using MLJ"
   ]
  },
  {
   "cell_type": "markdown",
   "metadata": {},
   "source": [
    "### Load data"
   ]
  },
  {
   "cell_type": "code",
   "execution_count": 11,
   "metadata": {},
   "outputs": [
    {
     "data": {
      "text/html": [
       "<div class=\"data-frame\"><p>6 rows × 9 columns</p><table class=\"data-frame\"><thead><tr><th></th><th>Year</th><th>Lag1</th><th>Lag2</th><th>Lag3</th><th>Lag4</th><th>Lag5</th><th>Volume</th><th>Today</th><th>Direction</th></tr><tr><th></th><th title=\"Float64\">Float64</th><th title=\"Float64\">Float64</th><th title=\"Float64\">Float64</th><th title=\"Float64\">Float64</th><th title=\"Float64\">Float64</th><th title=\"Float64\">Float64</th><th title=\"Float64\">Float64</th><th title=\"Float64\">Float64</th><th title=\"CategoricalArrays.CategoricalValue{String, UInt8}\">Cat…</th></tr></thead><tbody><tr><th>1</th><td>2001.0</td><td>0.381</td><td>-0.192</td><td>-2.624</td><td>-1.055</td><td>5.01</td><td>1.1913</td><td>0.959</td><td>Up</td></tr><tr><th>2</th><td>2001.0</td><td>0.959</td><td>0.381</td><td>-0.192</td><td>-2.624</td><td>-1.055</td><td>1.2965</td><td>1.032</td><td>Up</td></tr><tr><th>3</th><td>2001.0</td><td>1.032</td><td>0.959</td><td>0.381</td><td>-0.192</td><td>-2.624</td><td>1.4112</td><td>-0.623</td><td>Down</td></tr><tr><th>4</th><td>2001.0</td><td>-0.623</td><td>1.032</td><td>0.959</td><td>0.381</td><td>-0.192</td><td>1.276</td><td>0.614</td><td>Up</td></tr><tr><th>5</th><td>2001.0</td><td>0.614</td><td>-0.623</td><td>1.032</td><td>0.959</td><td>0.381</td><td>1.2057</td><td>0.213</td><td>Up</td></tr><tr><th>6</th><td>2001.0</td><td>0.213</td><td>0.614</td><td>-0.623</td><td>1.032</td><td>0.959</td><td>1.3491</td><td>1.392</td><td>Up</td></tr></tbody></table></div>"
      ],
      "text/latex": [
       "\\begin{tabular}{r|ccccccccc}\n",
       "\t& Year & Lag1 & Lag2 & Lag3 & Lag4 & Lag5 & Volume & Today & Direction\\\\\n",
       "\t\\hline\n",
       "\t& Float64 & Float64 & Float64 & Float64 & Float64 & Float64 & Float64 & Float64 & Cat…\\\\\n",
       "\t\\hline\n",
       "\t1 & 2001.0 & 0.381 & -0.192 & -2.624 & -1.055 & 5.01 & 1.1913 & 0.959 & Up \\\\\n",
       "\t2 & 2001.0 & 0.959 & 0.381 & -0.192 & -2.624 & -1.055 & 1.2965 & 1.032 & Up \\\\\n",
       "\t3 & 2001.0 & 1.032 & 0.959 & 0.381 & -0.192 & -2.624 & 1.4112 & -0.623 & Down \\\\\n",
       "\t4 & 2001.0 & -0.623 & 1.032 & 0.959 & 0.381 & -0.192 & 1.276 & 0.614 & Up \\\\\n",
       "\t5 & 2001.0 & 0.614 & -0.623 & 1.032 & 0.959 & 0.381 & 1.2057 & 0.213 & Up \\\\\n",
       "\t6 & 2001.0 & 0.213 & 0.614 & -0.623 & 1.032 & 0.959 & 1.3491 & 1.392 & Up \\\\\n",
       "\\end{tabular}\n"
      ],
      "text/plain": [
       "\u001b[1m6×9 DataFrame\u001b[0m\n",
       "\u001b[1m Row \u001b[0m│\u001b[1m Year    \u001b[0m\u001b[1m Lag1    \u001b[0m\u001b[1m Lag2    \u001b[0m\u001b[1m Lag3    \u001b[0m\u001b[1m Lag4    \u001b[0m\u001b[1m Lag5    \u001b[0m\u001b[1m Volume  \u001b[0m\u001b[1m Today   \u001b[0m\u001b[1m\u001b[0m ⋯\n",
       "\u001b[1m     \u001b[0m│\u001b[90m Float64 \u001b[0m\u001b[90m Float64 \u001b[0m\u001b[90m Float64 \u001b[0m\u001b[90m Float64 \u001b[0m\u001b[90m Float64 \u001b[0m\u001b[90m Float64 \u001b[0m\u001b[90m Float64 \u001b[0m\u001b[90m Float64 \u001b[0m\u001b[90m\u001b[0m ⋯\n",
       "─────┼──────────────────────────────────────────────────────────────────────────\n",
       "   1 │  2001.0    0.381   -0.192   -2.624   -1.055    5.01    1.1913    0.959  ⋯\n",
       "   2 │  2001.0    0.959    0.381   -0.192   -2.624   -1.055   1.2965    1.032\n",
       "   3 │  2001.0    1.032    0.959    0.381   -0.192   -2.624   1.4112   -0.623\n",
       "   4 │  2001.0   -0.623    1.032    0.959    0.381   -0.192   1.276     0.614\n",
       "   5 │  2001.0    0.614   -0.623    1.032    0.959    0.381   1.2057    0.213  ⋯\n",
       "   6 │  2001.0    0.213    0.614   -0.623    1.032    0.959   1.3491    1.392\n",
       "\u001b[36m                                                                1 column omitted\u001b[0m"
      ]
     },
     "execution_count": 11,
     "metadata": {},
     "output_type": "execute_result"
    }
   ],
   "source": [
    "smarket = dataset(\"ISLR\", \"Smarket\")\n",
    "first(smarket, 6)"
   ]
  },
  {
   "cell_type": "markdown",
   "metadata": {},
   "source": [
    "### Casting scientific types"
   ]
  },
  {
   "cell_type": "code",
   "execution_count": 12,
   "metadata": {},
   "outputs": [
    {
     "data": {
      "text/html": [
       "<div class=\"data-frame\"><p>6 rows × 6 columns</p><table class=\"data-frame\"><thead><tr><th></th><th>Lag1</th><th>Lag2</th><th>Lag3</th><th>Lag4</th><th>Lag5</th><th>Volume</th></tr><tr><th></th><th title=\"Float64\">Float64</th><th title=\"Float64\">Float64</th><th title=\"Float64\">Float64</th><th title=\"Float64\">Float64</th><th title=\"Float64\">Float64</th><th title=\"Float64\">Float64</th></tr></thead><tbody><tr><th>1</th><td>0.381</td><td>-0.192</td><td>-2.624</td><td>-1.055</td><td>5.01</td><td>1.1913</td></tr><tr><th>2</th><td>0.959</td><td>0.381</td><td>-0.192</td><td>-2.624</td><td>-1.055</td><td>1.2965</td></tr><tr><th>3</th><td>1.032</td><td>0.959</td><td>0.381</td><td>-0.192</td><td>-2.624</td><td>1.4112</td></tr><tr><th>4</th><td>-0.623</td><td>1.032</td><td>0.959</td><td>0.381</td><td>-0.192</td><td>1.276</td></tr><tr><th>5</th><td>0.614</td><td>-0.623</td><td>1.032</td><td>0.959</td><td>0.381</td><td>1.2057</td></tr><tr><th>6</th><td>0.213</td><td>0.614</td><td>-0.623</td><td>1.032</td><td>0.959</td><td>1.3491</td></tr></tbody></table></div>"
      ],
      "text/latex": [
       "\\begin{tabular}{r|cccccc}\n",
       "\t& Lag1 & Lag2 & Lag3 & Lag4 & Lag5 & Volume\\\\\n",
       "\t\\hline\n",
       "\t& Float64 & Float64 & Float64 & Float64 & Float64 & Float64\\\\\n",
       "\t\\hline\n",
       "\t1 & 0.381 & -0.192 & -2.624 & -1.055 & 5.01 & 1.1913 \\\\\n",
       "\t2 & 0.959 & 0.381 & -0.192 & -2.624 & -1.055 & 1.2965 \\\\\n",
       "\t3 & 1.032 & 0.959 & 0.381 & -0.192 & -2.624 & 1.4112 \\\\\n",
       "\t4 & -0.623 & 1.032 & 0.959 & 0.381 & -0.192 & 1.276 \\\\\n",
       "\t5 & 0.614 & -0.623 & 1.032 & 0.959 & 0.381 & 1.2057 \\\\\n",
       "\t6 & 0.213 & 0.614 & -0.623 & 1.032 & 0.959 & 1.3491 \\\\\n",
       "\\end{tabular}\n"
      ],
      "text/plain": [
       "\u001b[1m6×6 DataFrame\u001b[0m\n",
       "\u001b[1m Row \u001b[0m│\u001b[1m Lag1    \u001b[0m\u001b[1m Lag2    \u001b[0m\u001b[1m Lag3    \u001b[0m\u001b[1m Lag4    \u001b[0m\u001b[1m Lag5    \u001b[0m\u001b[1m Volume  \u001b[0m\n",
       "\u001b[1m     \u001b[0m│\u001b[90m Float64 \u001b[0m\u001b[90m Float64 \u001b[0m\u001b[90m Float64 \u001b[0m\u001b[90m Float64 \u001b[0m\u001b[90m Float64 \u001b[0m\u001b[90m Float64 \u001b[0m\n",
       "─────┼──────────────────────────────────────────────────────\n",
       "   1 │   0.381   -0.192   -2.624   -1.055    5.01    1.1913\n",
       "   2 │   0.959    0.381   -0.192   -2.624   -1.055   1.2965\n",
       "   3 │   1.032    0.959    0.381   -0.192   -2.624   1.4112\n",
       "   4 │  -0.623    1.032    0.959    0.381   -0.192   1.276\n",
       "   5 │   0.614   -0.623    1.032    0.959    0.381   1.2057\n",
       "   6 │   0.213    0.614   -0.623    1.032    0.959   1.3491"
      ]
     },
     "execution_count": 12,
     "metadata": {},
     "output_type": "execute_result"
    }
   ],
   "source": [
    "y, X = unpack(smarket, ==(:Direction), colname -> true);\n",
    "X = select(X, Not([:Year, :Today]))\n",
    "first(X, 6)"
   ]
  },
  {
   "cell_type": "code",
   "execution_count": 13,
   "metadata": {},
   "outputs": [
    {
     "data": {
      "text/plain": [
       "2-element CategoricalArrays.CategoricalArray{String,1,UInt8}:\n",
       " \"Down\"\n",
       " \"Up\""
      ]
     },
     "execution_count": 13,
     "metadata": {},
     "output_type": "execute_result"
    }
   ],
   "source": [
    "y = coerce(y, OrderedFactor)\n",
    "classes(y[1])"
   ]
  },
  {
   "cell_type": "markdown",
   "metadata": {},
   "source": [
    "### Training/testing set"
   ]
  },
  {
   "cell_type": "code",
   "execution_count": 14,
   "metadata": {},
   "outputs": [
    {
     "data": {
      "text/plain": [
       "([829, 1, 409, 417, 820, 617, 1013, 142, 610, 238  …  170, 988, 695, 522, 159, 16, 749, 340, 1117, 1063], [428, 329, 41, 520, 334, 100, 39, 496, 868, 1046  …  893, 1041, 1233, 566, 690, 422, 620, 862, 1099, 253])"
      ]
     },
     "execution_count": 14,
     "metadata": {},
     "output_type": "execute_result"
    }
   ],
   "source": [
    "train, test = partition(eachindex(y), 0.7, shuffle=true)"
   ]
  },
  {
   "cell_type": "markdown",
   "metadata": {},
   "source": [
    "### Model"
   ]
  },
  {
   "cell_type": "code",
   "execution_count": 15,
   "metadata": {},
   "outputs": [
    {
     "name": "stdout",
     "output_type": "stream",
     "text": [
      "import MLJLinearModels ✔\n"
     ]
    },
    {
     "name": "stderr",
     "output_type": "stream",
     "text": [
      "┌ Info: For silent loading, specify `verbosity=0`. \n",
      "└ @ Main /home/yuehhua/.julia/packages/MLJModels/lDzCR/src/loading.jl:168\n"
     ]
    },
    {
     "data": {
      "text/plain": [
       "MLJLinearModels.LogisticClassifier"
      ]
     },
     "execution_count": 15,
     "metadata": {},
     "output_type": "execute_result"
    }
   ],
   "source": [
    "LogisticClassifier = @load LogisticClassifier pkg=MLJLinearModels"
   ]
  },
  {
   "cell_type": "code",
   "execution_count": 16,
   "metadata": {},
   "outputs": [
    {
     "data": {
      "text/plain": [
       "Machine trained 0 times; caches data\n",
       "  model: LogisticClassifier(lambda = 1.0, …)\n",
       "  args: \n",
       "    1:\tSource @632 ⏎ `Table{AbstractVector{Continuous}}`\n",
       "    2:\tSource @470 ⏎ `AbstractVector{OrderedFactor{2}}`\n"
      ]
     },
     "execution_count": 16,
     "metadata": {},
     "output_type": "execute_result"
    }
   ],
   "source": [
    "logreg = machine(LogisticClassifier(), X, y)"
   ]
  },
  {
   "cell_type": "markdown",
   "metadata": {},
   "source": [
    "### Training"
   ]
  },
  {
   "cell_type": "code",
   "execution_count": 17,
   "metadata": {},
   "outputs": [
    {
     "name": "stderr",
     "output_type": "stream",
     "text": [
      "┌ Info: Training machine(LogisticClassifier(lambda = 1.0, …), …).\n",
      "└ @ MLJBase /home/yuehhua/.julia/packages/MLJBase/rQDaq/src/machines.jl:487\n",
      "┌ Info: Solver: MLJLinearModels.LBFGS()\n",
      "└ @ MLJLinearModels /home/yuehhua/.julia/packages/MLJLinearModels/2qDvV/src/mlj/interface.jl:76\n"
     ]
    },
    {
     "data": {
      "text/plain": [
       "Machine trained 1 time; caches data\n",
       "  model: LogisticClassifier(lambda = 1.0, …)\n",
       "  args: \n",
       "    1:\tSource @632 ⏎ `Table{AbstractVector{Continuous}}`\n",
       "    2:\tSource @470 ⏎ `AbstractVector{OrderedFactor{2}}`\n"
      ]
     },
     "execution_count": 17,
     "metadata": {},
     "output_type": "execute_result"
    }
   ],
   "source": [
    "fit!(logreg, rows=train)"
   ]
  },
  {
   "cell_type": "markdown",
   "metadata": {},
   "source": [
    "### Predict"
   ]
  },
  {
   "cell_type": "code",
   "execution_count": 18,
   "metadata": {},
   "outputs": [
    {
     "data": {
      "text/plain": [
       "375-element CategoricalArrays.CategoricalArray{String,1,UInt8}:\n",
       " \"Up\"\n",
       " \"Up\"\n",
       " \"Up\"\n",
       " \"Up\"\n",
       " \"Up\"\n",
       " \"Up\"\n",
       " \"Up\"\n",
       " \"Up\"\n",
       " \"Up\"\n",
       " \"Up\"\n",
       " \"Up\"\n",
       " \"Up\"\n",
       " \"Up\"\n",
       " ⋮\n",
       " \"Up\"\n",
       " \"Up\"\n",
       " \"Up\"\n",
       " \"Up\"\n",
       " \"Up\"\n",
       " \"Up\"\n",
       " \"Up\"\n",
       " \"Up\"\n",
       " \"Up\"\n",
       " \"Up\"\n",
       " \"Up\"\n",
       " \"Up\""
      ]
     },
     "execution_count": 18,
     "metadata": {},
     "output_type": "execute_result"
    }
   ],
   "source": [
    "ŷ = predict_mode(logreg, rows=test)"
   ]
  },
  {
   "cell_type": "markdown",
   "metadata": {},
   "source": [
    "### Evaluation"
   ]
  },
  {
   "cell_type": "code",
   "execution_count": 19,
   "metadata": {},
   "outputs": [
    {
     "data": {
      "text/plain": [
       "375-element CategoricalDistributions.UnivariateFiniteVector{OrderedFactor{2}, String, UInt8, Float64}:\n",
       " UnivariateFinite{OrderedFactor{2}}(Down=>0.49, Up=>0.51)\n",
       " UnivariateFinite{OrderedFactor{2}}(Down=>0.472, Up=>0.528)\n",
       " UnivariateFinite{OrderedFactor{2}}(Down=>0.479, Up=>0.521)\n",
       " UnivariateFinite{OrderedFactor{2}}(Down=>0.474, Up=>0.526)\n",
       " UnivariateFinite{OrderedFactor{2}}(Down=>0.483, Up=>0.517)\n",
       " UnivariateFinite{OrderedFactor{2}}(Down=>0.482, Up=>0.518)\n",
       " UnivariateFinite{OrderedFactor{2}}(Down=>0.483, Up=>0.517)\n",
       " UnivariateFinite{OrderedFactor{2}}(Down=>0.489, Up=>0.511)\n",
       " UnivariateFinite{OrderedFactor{2}}(Down=>0.476, Up=>0.524)\n",
       " UnivariateFinite{OrderedFactor{2}}(Down=>0.477, Up=>0.523)\n",
       " UnivariateFinite{OrderedFactor{2}}(Down=>0.478, Up=>0.522)\n",
       " UnivariateFinite{OrderedFactor{2}}(Down=>0.479, Up=>0.521)\n",
       " UnivariateFinite{OrderedFactor{2}}(Down=>0.478, Up=>0.522)\n",
       " ⋮\n",
       " UnivariateFinite{OrderedFactor{2}}(Down=>0.478, Up=>0.522)\n",
       " UnivariateFinite{OrderedFactor{2}}(Down=>0.466, Up=>0.534)\n",
       " UnivariateFinite{OrderedFactor{2}}(Down=>0.478, Up=>0.522)\n",
       " UnivariateFinite{OrderedFactor{2}}(Down=>0.477, Up=>0.523)\n",
       " UnivariateFinite{OrderedFactor{2}}(Down=>0.476, Up=>0.524)\n",
       " UnivariateFinite{OrderedFactor{2}}(Down=>0.485, Up=>0.515)\n",
       " UnivariateFinite{OrderedFactor{2}}(Down=>0.477, Up=>0.523)\n",
       " UnivariateFinite{OrderedFactor{2}}(Down=>0.474, Up=>0.526)\n",
       " UnivariateFinite{OrderedFactor{2}}(Down=>0.481, Up=>0.519)\n",
       " UnivariateFinite{OrderedFactor{2}}(Down=>0.477, Up=>0.523)\n",
       " UnivariateFinite{OrderedFactor{2}}(Down=>0.476, Up=>0.524)\n",
       " UnivariateFinite{OrderedFactor{2}}(Down=>0.481, Up=>0.519)"
      ]
     },
     "execution_count": 19,
     "metadata": {},
     "output_type": "execute_result"
    }
   ],
   "source": [
    "ŷ = MLJ.predict(logreg, rows=test)"
   ]
  },
  {
   "cell_type": "code",
   "execution_count": 20,
   "metadata": {},
   "outputs": [
    {
     "data": {
      "text/plain": [
       "0.6930377928406966"
      ]
     },
     "execution_count": 20,
     "metadata": {},
     "output_type": "execute_result"
    }
   ],
   "source": [
    "cross_entropy(ŷ, y[test]) |> mean"
   ]
  },
  {
   "cell_type": "markdown",
   "metadata": {},
   "source": [
    "### Evaluation methods"
   ]
  },
  {
   "cell_type": "code",
   "execution_count": 21,
   "metadata": {},
   "outputs": [
    {
     "data": {
      "text/plain": [
       "375-element CategoricalArrays.CategoricalArray{String,1,UInt8}:\n",
       " \"Up\"\n",
       " \"Up\"\n",
       " \"Up\"\n",
       " \"Up\"\n",
       " \"Up\"\n",
       " \"Up\"\n",
       " \"Up\"\n",
       " \"Up\"\n",
       " \"Up\"\n",
       " \"Up\"\n",
       " \"Up\"\n",
       " \"Up\"\n",
       " \"Up\"\n",
       " ⋮\n",
       " \"Up\"\n",
       " \"Up\"\n",
       " \"Up\"\n",
       " \"Up\"\n",
       " \"Up\"\n",
       " \"Up\"\n",
       " \"Up\"\n",
       " \"Up\"\n",
       " \"Up\"\n",
       " \"Up\"\n",
       " \"Up\"\n",
       " \"Up\""
      ]
     },
     "execution_count": 21,
     "metadata": {},
     "output_type": "execute_result"
    }
   ],
   "source": [
    "ŷ = predict_mode(logreg, rows=test)"
   ]
  },
  {
   "cell_type": "code",
   "execution_count": 22,
   "metadata": {},
   "outputs": [
    {
     "data": {
      "text/plain": [
       "0.49066666666666664"
      ]
     },
     "execution_count": 22,
     "metadata": {},
     "output_type": "execute_result"
    }
   ],
   "source": [
    "misclassification_rate(ŷ, y[test])"
   ]
  },
  {
   "cell_type": "code",
   "execution_count": 23,
   "metadata": {},
   "outputs": [
    {
     "data": {
      "text/plain": [
       "              ┌───────────────────────────┐\n",
       "              │       Ground Truth        │\n",
       "┌─────────────┼─────────────┬─────────────┤\n",
       "│  Predicted  │    Down     │     Up      │\n",
       "├─────────────┼─────────────┼─────────────┤\n",
       "│    Down     │      0      │      0      │\n",
       "├─────────────┼─────────────┼─────────────┤\n",
       "│     Up      │     184     │     191     │\n",
       "└─────────────┴─────────────┴─────────────┘\n"
      ]
     },
     "execution_count": 23,
     "metadata": {},
     "output_type": "execute_result"
    }
   ],
   "source": [
    "cm = confusion_matrix(ŷ, y[test])"
   ]
  },
  {
   "cell_type": "code",
   "execution_count": 24,
   "metadata": {},
   "outputs": [
    {
     "data": {
      "text/plain": [
       "184"
      ]
     },
     "execution_count": 24,
     "metadata": {},
     "output_type": "execute_result"
    }
   ],
   "source": [
    "false_positive(cm)"
   ]
  },
  {
   "cell_type": "code",
   "execution_count": 25,
   "metadata": {},
   "outputs": [
    {
     "data": {
      "text/plain": [
       "0.5093333333333333"
      ]
     },
     "execution_count": 25,
     "metadata": {},
     "output_type": "execute_result"
    }
   ],
   "source": [
    "MLJ.accuracy(cm)"
   ]
  },
  {
   "cell_type": "code",
   "execution_count": 26,
   "metadata": {},
   "outputs": [
    {
     "data": {
      "text/plain": [
       "0.5093333333333334"
      ]
     },
     "execution_count": 26,
     "metadata": {},
     "output_type": "execute_result"
    }
   ],
   "source": [
    "MLJ.accuracy(ŷ, y[test])"
   ]
  },
  {
   "cell_type": "code",
   "execution_count": 27,
   "metadata": {},
   "outputs": [
    {
     "data": {
      "text/plain": [
       "0.5093333333333334"
      ]
     },
     "execution_count": 27,
     "metadata": {},
     "output_type": "execute_result"
    }
   ],
   "source": [
    "precision(ŷ, y[test])"
   ]
  },
  {
   "cell_type": "code",
   "execution_count": 28,
   "metadata": {},
   "outputs": [
    {
     "data": {
      "text/plain": [
       "1.0"
      ]
     },
     "execution_count": 28,
     "metadata": {},
     "output_type": "execute_result"
    }
   ],
   "source": [
    "recall(ŷ, y[test])"
   ]
  },
  {
   "cell_type": "code",
   "execution_count": 29,
   "metadata": {},
   "outputs": [
    {
     "data": {
      "text/plain": [
       "0.6749116607773852"
      ]
     },
     "execution_count": 29,
     "metadata": {},
     "output_type": "execute_result"
    }
   ],
   "source": [
    "f1score(ŷ, y[test])"
   ]
  },
  {
   "cell_type": "code",
   "execution_count": null,
   "metadata": {},
   "outputs": [],
   "source": []
  }
 ],
 "metadata": {
  "kernelspec": {
   "display_name": "Julia 1.7.2",
   "language": "julia",
   "name": "julia-1.7"
  },
  "language_info": {
   "file_extension": ".jl",
   "mimetype": "application/julia",
   "name": "julia",
   "version": "1.7.2"
  }
 },
 "nbformat": 4,
 "nbformat_minor": 4
}
