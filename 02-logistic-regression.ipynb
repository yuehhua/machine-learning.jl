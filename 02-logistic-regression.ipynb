{
 "cells": [
  {
   "cell_type": "markdown",
   "metadata": {},
   "source": [
    "# Logistic Regression"
   ]
  },
  {
   "cell_type": "markdown",
   "metadata": {},
   "source": [
    "## Using GLM"
   ]
  },
  {
   "cell_type": "code",
   "execution_count": 1,
   "metadata": {},
   "outputs": [],
   "source": [
    "using GLM\n",
    "using Statistics\n",
    "using RDatasets\n",
    "using MLDataUtils"
   ]
  },
  {
   "cell_type": "markdown",
   "metadata": {},
   "source": [
    "### Load data"
   ]
  },
  {
   "cell_type": "code",
   "execution_count": 2,
   "metadata": {},
   "outputs": [
    {
     "data": {
      "text/html": [
       "<table class=\"data-frame\"><thead><tr><th></th><th>Default</th><th>Student</th><th>Balance</th><th>Income</th></tr><tr><th></th><th>Categorical…</th><th>Categorical…</th><th>Float64</th><th>Float64</th></tr></thead><tbody><p>6 rows × 4 columns</p><tr><th>1</th><td>No</td><td>No</td><td>729.526</td><td>44361.6</td></tr><tr><th>2</th><td>No</td><td>Yes</td><td>817.18</td><td>12106.1</td></tr><tr><th>3</th><td>No</td><td>No</td><td>1073.55</td><td>31767.1</td></tr><tr><th>4</th><td>No</td><td>No</td><td>529.251</td><td>35704.5</td></tr><tr><th>5</th><td>No</td><td>No</td><td>785.656</td><td>38463.5</td></tr><tr><th>6</th><td>No</td><td>Yes</td><td>919.589</td><td>7491.56</td></tr></tbody></table>"
      ],
      "text/latex": [
       "\\begin{tabular}{r|cccc}\n",
       "\t& Default & Student & Balance & Income\\\\\n",
       "\t\\hline\n",
       "\t& Categorical… & Categorical… & Float64 & Float64\\\\\n",
       "\t\\hline\n",
       "\t1 & No & No & 729.526 & 44361.6 \\\\\n",
       "\t2 & No & Yes & 817.18 & 12106.1 \\\\\n",
       "\t3 & No & No & 1073.55 & 31767.1 \\\\\n",
       "\t4 & No & No & 529.251 & 35704.5 \\\\\n",
       "\t5 & No & No & 785.656 & 38463.5 \\\\\n",
       "\t6 & No & Yes & 919.589 & 7491.56 \\\\\n",
       "\\end{tabular}\n"
      ],
      "text/plain": [
       "6×4 DataFrame\n",
       "│ Row │ Default      │ Student      │ Balance │ Income  │\n",
       "│     │ \u001b[90mCategorical…\u001b[39m │ \u001b[90mCategorical…\u001b[39m │ \u001b[90mFloat64\u001b[39m │ \u001b[90mFloat64\u001b[39m │\n",
       "├─────┼──────────────┼──────────────┼─────────┼─────────┤\n",
       "│ 1   │ No           │ No           │ 729.526 │ 44361.6 │\n",
       "│ 2   │ No           │ Yes          │ 817.18  │ 12106.1 │\n",
       "│ 3   │ No           │ No           │ 1073.55 │ 31767.1 │\n",
       "│ 4   │ No           │ No           │ 529.251 │ 35704.5 │\n",
       "│ 5   │ No           │ No           │ 785.656 │ 38463.5 │\n",
       "│ 6   │ No           │ Yes          │ 919.589 │ 7491.56 │"
      ]
     },
     "execution_count": 2,
     "metadata": {},
     "output_type": "execute_result"
    }
   ],
   "source": [
    "data = RDatasets.dataset(\"ISLR\", \"Default\")\n",
    "first(data, 6)"
   ]
  },
  {
   "cell_type": "markdown",
   "metadata": {},
   "source": [
    "### Preprocessing"
   ]
  },
  {
   "cell_type": "code",
   "execution_count": 3,
   "metadata": {},
   "outputs": [
    {
     "data": {
      "text/html": [
       "<table class=\"data-frame\"><thead><tr><th></th><th>Default</th><th>Student</th><th>Balance</th><th>Income</th><th>DefaultNum</th><th>StudentNum</th></tr><tr><th></th><th>Categorical…</th><th>Categorical…</th><th>Float64</th><th>Float64</th><th>Float64</th><th>Float64</th></tr></thead><tbody><p>6 rows × 6 columns</p><tr><th>1</th><td>No</td><td>No</td><td>729.526</td><td>44361.6</td><td>0.0</td><td>0.0</td></tr><tr><th>2</th><td>No</td><td>Yes</td><td>817.18</td><td>12106.1</td><td>0.0</td><td>1.0</td></tr><tr><th>3</th><td>No</td><td>No</td><td>1073.55</td><td>31767.1</td><td>0.0</td><td>0.0</td></tr><tr><th>4</th><td>No</td><td>No</td><td>529.251</td><td>35704.5</td><td>0.0</td><td>0.0</td></tr><tr><th>5</th><td>No</td><td>No</td><td>785.656</td><td>38463.5</td><td>0.0</td><td>0.0</td></tr><tr><th>6</th><td>No</td><td>Yes</td><td>919.589</td><td>7491.56</td><td>0.0</td><td>1.0</td></tr></tbody></table>"
      ],
      "text/latex": [
       "\\begin{tabular}{r|cccccc}\n",
       "\t& Default & Student & Balance & Income & DefaultNum & StudentNum\\\\\n",
       "\t\\hline\n",
       "\t& Categorical… & Categorical… & Float64 & Float64 & Float64 & Float64\\\\\n",
       "\t\\hline\n",
       "\t1 & No & No & 729.526 & 44361.6 & 0.0 & 0.0 \\\\\n",
       "\t2 & No & Yes & 817.18 & 12106.1 & 0.0 & 1.0 \\\\\n",
       "\t3 & No & No & 1073.55 & 31767.1 & 0.0 & 0.0 \\\\\n",
       "\t4 & No & No & 529.251 & 35704.5 & 0.0 & 0.0 \\\\\n",
       "\t5 & No & No & 785.656 & 38463.5 & 0.0 & 0.0 \\\\\n",
       "\t6 & No & Yes & 919.589 & 7491.56 & 0.0 & 1.0 \\\\\n",
       "\\end{tabular}\n"
      ],
      "text/plain": [
       "6×6 DataFrame. Omitted printing of 1 columns\n",
       "│ Row │ Default      │ Student      │ Balance │ Income  │ DefaultNum │\n",
       "│     │ \u001b[90mCategorical…\u001b[39m │ \u001b[90mCategorical…\u001b[39m │ \u001b[90mFloat64\u001b[39m │ \u001b[90mFloat64\u001b[39m │ \u001b[90mFloat64\u001b[39m    │\n",
       "├─────┼──────────────┼──────────────┼─────────┼─────────┼────────────┤\n",
       "│ 1   │ No           │ No           │ 729.526 │ 44361.6 │ 0.0        │\n",
       "│ 2   │ No           │ Yes          │ 817.18  │ 12106.1 │ 0.0        │\n",
       "│ 3   │ No           │ No           │ 1073.55 │ 31767.1 │ 0.0        │\n",
       "│ 4   │ No           │ No           │ 529.251 │ 35704.5 │ 0.0        │\n",
       "│ 5   │ No           │ No           │ 785.656 │ 38463.5 │ 0.0        │\n",
       "│ 6   │ No           │ Yes          │ 919.589 │ 7491.56 │ 0.0        │"
      ]
     },
     "execution_count": 3,
     "metadata": {},
     "output_type": "execute_result"
    }
   ],
   "source": [
    "isyes(x) = x == \"Yes\" ? 1.0 : 0.0\n",
    "\n",
    "data[!, :DefaultNum] = isyes.(data[!, :Default])\n",
    "data[!, :StudentNum] = isyes.(data[!, :Student])\n",
    "first(data, 6)"
   ]
  },
  {
   "cell_type": "markdown",
   "metadata": {},
   "source": [
    "### Training/Testing set"
   ]
  },
  {
   "cell_type": "code",
   "execution_count": 4,
   "metadata": {},
   "outputs": [],
   "source": [
    "indecies = MLDataUtils.shuffleobs(collect(1:nrow(data)))\n",
    "train_ind, test_ind = MLDataUtils.splitobs(indecies, at=0.8);"
   ]
  },
  {
   "cell_type": "code",
   "execution_count": 5,
   "metadata": {},
   "outputs": [
    {
     "data": {
      "text/html": [
       "<table class=\"data-frame\"><thead><tr><th></th><th>Default</th><th>Student</th><th>Balance</th><th>Income</th><th>DefaultNum</th><th>StudentNum</th></tr><tr><th></th><th>Categorical…</th><th>Categorical…</th><th>Float64</th><th>Float64</th><th>Float64</th><th>Float64</th></tr></thead><tbody><p>2,000 rows × 6 columns</p><tr><th>1</th><td>No</td><td>No</td><td>241.336</td><td>40122.4</td><td>0.0</td><td>0.0</td></tr><tr><th>2</th><td>No</td><td>No</td><td>946.138</td><td>40038.7</td><td>0.0</td><td>0.0</td></tr><tr><th>3</th><td>No</td><td>No</td><td>752.222</td><td>48764.0</td><td>0.0</td><td>0.0</td></tr><tr><th>4</th><td>No</td><td>No</td><td>1032.94</td><td>31152.1</td><td>0.0</td><td>0.0</td></tr><tr><th>5</th><td>No</td><td>No</td><td>850.548</td><td>44501.9</td><td>0.0</td><td>0.0</td></tr><tr><th>6</th><td>No</td><td>No</td><td>124.699</td><td>65211.1</td><td>0.0</td><td>0.0</td></tr><tr><th>7</th><td>No</td><td>No</td><td>265.729</td><td>60182.7</td><td>0.0</td><td>0.0</td></tr><tr><th>8</th><td>No</td><td>No</td><td>0.0</td><td>46306.9</td><td>0.0</td><td>0.0</td></tr><tr><th>9</th><td>No</td><td>Yes</td><td>1091.14</td><td>19990.8</td><td>0.0</td><td>1.0</td></tr><tr><th>10</th><td>No</td><td>Yes</td><td>1218.65</td><td>19206.1</td><td>0.0</td><td>1.0</td></tr><tr><th>11</th><td>No</td><td>No</td><td>251.428</td><td>25962.1</td><td>0.0</td><td>0.0</td></tr><tr><th>12</th><td>No</td><td>Yes</td><td>325.283</td><td>15644.2</td><td>0.0</td><td>1.0</td></tr><tr><th>13</th><td>No</td><td>Yes</td><td>904.684</td><td>17281.1</td><td>0.0</td><td>1.0</td></tr><tr><th>14</th><td>Yes</td><td>No</td><td>1772.86</td><td>42080.1</td><td>1.0</td><td>0.0</td></tr><tr><th>15</th><td>No</td><td>No</td><td>1156.99</td><td>53450.3</td><td>0.0</td><td>0.0</td></tr><tr><th>16</th><td>No</td><td>No</td><td>673.748</td><td>25013.1</td><td>0.0</td><td>0.0</td></tr><tr><th>17</th><td>No</td><td>No</td><td>1345.56</td><td>38602.1</td><td>0.0</td><td>0.0</td></tr><tr><th>18</th><td>No</td><td>No</td><td>214.236</td><td>38720.8</td><td>0.0</td><td>0.0</td></tr><tr><th>19</th><td>No</td><td>Yes</td><td>1232.79</td><td>16279.2</td><td>0.0</td><td>1.0</td></tr><tr><th>20</th><td>No</td><td>No</td><td>0.0</td><td>47393.3</td><td>0.0</td><td>0.0</td></tr><tr><th>21</th><td>No</td><td>No</td><td>1345.38</td><td>30175.9</td><td>0.0</td><td>0.0</td></tr><tr><th>22</th><td>No</td><td>Yes</td><td>1455.5</td><td>13555.3</td><td>0.0</td><td>1.0</td></tr><tr><th>23</th><td>No</td><td>No</td><td>418.824</td><td>56320.6</td><td>0.0</td><td>0.0</td></tr><tr><th>24</th><td>No</td><td>Yes</td><td>814.63</td><td>22948.2</td><td>0.0</td><td>1.0</td></tr><tr><th>25</th><td>No</td><td>No</td><td>334.466</td><td>40156.2</td><td>0.0</td><td>0.0</td></tr><tr><th>26</th><td>No</td><td>No</td><td>564.907</td><td>35820.9</td><td>0.0</td><td>0.0</td></tr><tr><th>27</th><td>No</td><td>Yes</td><td>1447.42</td><td>16658.4</td><td>0.0</td><td>1.0</td></tr><tr><th>28</th><td>No</td><td>No</td><td>1215.17</td><td>55230.6</td><td>0.0</td><td>0.0</td></tr><tr><th>29</th><td>No</td><td>No</td><td>741.42</td><td>38661.0</td><td>0.0</td><td>0.0</td></tr><tr><th>30</th><td>No</td><td>No</td><td>208.295</td><td>37295.8</td><td>0.0</td><td>0.0</td></tr><tr><th>&vellip;</th><td>&vellip;</td><td>&vellip;</td><td>&vellip;</td><td>&vellip;</td><td>&vellip;</td><td>&vellip;</td></tr></tbody></table>"
      ],
      "text/latex": [
       "\\begin{tabular}{r|cccccc}\n",
       "\t& Default & Student & Balance & Income & DefaultNum & StudentNum\\\\\n",
       "\t\\hline\n",
       "\t& Categorical… & Categorical… & Float64 & Float64 & Float64 & Float64\\\\\n",
       "\t\\hline\n",
       "\t1 & No & No & 241.336 & 40122.4 & 0.0 & 0.0 \\\\\n",
       "\t2 & No & No & 946.138 & 40038.7 & 0.0 & 0.0 \\\\\n",
       "\t3 & No & No & 752.222 & 48764.0 & 0.0 & 0.0 \\\\\n",
       "\t4 & No & No & 1032.94 & 31152.1 & 0.0 & 0.0 \\\\\n",
       "\t5 & No & No & 850.548 & 44501.9 & 0.0 & 0.0 \\\\\n",
       "\t6 & No & No & 124.699 & 65211.1 & 0.0 & 0.0 \\\\\n",
       "\t7 & No & No & 265.729 & 60182.7 & 0.0 & 0.0 \\\\\n",
       "\t8 & No & No & 0.0 & 46306.9 & 0.0 & 0.0 \\\\\n",
       "\t9 & No & Yes & 1091.14 & 19990.8 & 0.0 & 1.0 \\\\\n",
       "\t10 & No & Yes & 1218.65 & 19206.1 & 0.0 & 1.0 \\\\\n",
       "\t11 & No & No & 251.428 & 25962.1 & 0.0 & 0.0 \\\\\n",
       "\t12 & No & Yes & 325.283 & 15644.2 & 0.0 & 1.0 \\\\\n",
       "\t13 & No & Yes & 904.684 & 17281.1 & 0.0 & 1.0 \\\\\n",
       "\t14 & Yes & No & 1772.86 & 42080.1 & 1.0 & 0.0 \\\\\n",
       "\t15 & No & No & 1156.99 & 53450.3 & 0.0 & 0.0 \\\\\n",
       "\t16 & No & No & 673.748 & 25013.1 & 0.0 & 0.0 \\\\\n",
       "\t17 & No & No & 1345.56 & 38602.1 & 0.0 & 0.0 \\\\\n",
       "\t18 & No & No & 214.236 & 38720.8 & 0.0 & 0.0 \\\\\n",
       "\t19 & No & Yes & 1232.79 & 16279.2 & 0.0 & 1.0 \\\\\n",
       "\t20 & No & No & 0.0 & 47393.3 & 0.0 & 0.0 \\\\\n",
       "\t21 & No & No & 1345.38 & 30175.9 & 0.0 & 0.0 \\\\\n",
       "\t22 & No & Yes & 1455.5 & 13555.3 & 0.0 & 1.0 \\\\\n",
       "\t23 & No & No & 418.824 & 56320.6 & 0.0 & 0.0 \\\\\n",
       "\t24 & No & Yes & 814.63 & 22948.2 & 0.0 & 1.0 \\\\\n",
       "\t25 & No & No & 334.466 & 40156.2 & 0.0 & 0.0 \\\\\n",
       "\t26 & No & No & 564.907 & 35820.9 & 0.0 & 0.0 \\\\\n",
       "\t27 & No & Yes & 1447.42 & 16658.4 & 0.0 & 1.0 \\\\\n",
       "\t28 & No & No & 1215.17 & 55230.6 & 0.0 & 0.0 \\\\\n",
       "\t29 & No & No & 741.42 & 38661.0 & 0.0 & 0.0 \\\\\n",
       "\t30 & No & No & 208.295 & 37295.8 & 0.0 & 0.0 \\\\\n",
       "\t$\\dots$ & $\\dots$ & $\\dots$ & $\\dots$ & $\\dots$ & $\\dots$ & $\\dots$ \\\\\n",
       "\\end{tabular}\n"
      ],
      "text/plain": [
       "2000×6 DataFrame. Omitted printing of 1 columns\n",
       "│ Row  │ Default      │ Student      │ Balance │ Income  │ DefaultNum │\n",
       "│      │ \u001b[90mCategorical…\u001b[39m │ \u001b[90mCategorical…\u001b[39m │ \u001b[90mFloat64\u001b[39m │ \u001b[90mFloat64\u001b[39m │ \u001b[90mFloat64\u001b[39m    │\n",
       "├──────┼──────────────┼──────────────┼─────────┼─────────┼────────────┤\n",
       "│ 1    │ No           │ No           │ 241.336 │ 40122.4 │ 0.0        │\n",
       "│ 2    │ No           │ No           │ 946.138 │ 40038.7 │ 0.0        │\n",
       "│ 3    │ No           │ No           │ 752.222 │ 48764.0 │ 0.0        │\n",
       "│ 4    │ No           │ No           │ 1032.94 │ 31152.1 │ 0.0        │\n",
       "│ 5    │ No           │ No           │ 850.548 │ 44501.9 │ 0.0        │\n",
       "│ 6    │ No           │ No           │ 124.699 │ 65211.1 │ 0.0        │\n",
       "│ 7    │ No           │ No           │ 265.729 │ 60182.7 │ 0.0        │\n",
       "│ 8    │ No           │ No           │ 0.0     │ 46306.9 │ 0.0        │\n",
       "│ 9    │ No           │ Yes          │ 1091.14 │ 19990.8 │ 0.0        │\n",
       "│ 10   │ No           │ Yes          │ 1218.65 │ 19206.1 │ 0.0        │\n",
       "⋮\n",
       "│ 1990 │ No           │ No           │ 501.17  │ 35664.8 │ 0.0        │\n",
       "│ 1991 │ No           │ No           │ 302.719 │ 45260.4 │ 0.0        │\n",
       "│ 1992 │ No           │ Yes          │ 1739.84 │ 21593.0 │ 0.0        │\n",
       "│ 1993 │ No           │ Yes          │ 1669.28 │ 13771.4 │ 0.0        │\n",
       "│ 1994 │ No           │ No           │ 829.33  │ 48734.2 │ 0.0        │\n",
       "│ 1995 │ No           │ No           │ 1280.23 │ 23647.3 │ 0.0        │\n",
       "│ 1996 │ No           │ No           │ 894.168 │ 42212.4 │ 0.0        │\n",
       "│ 1997 │ No           │ No           │ 789.551 │ 30777.8 │ 0.0        │\n",
       "│ 1998 │ No           │ Yes          │ 483.421 │ 12596.9 │ 0.0        │\n",
       "│ 1999 │ No           │ Yes          │ 469.426 │ 14647.0 │ 0.0        │\n",
       "│ 2000 │ No           │ Yes          │ 1799.15 │ 20215.6 │ 0.0        │"
      ]
     },
     "execution_count": 5,
     "metadata": {},
     "output_type": "execute_result"
    }
   ],
   "source": [
    "train = data[train_ind, :]\n",
    "test = data[test_ind, :]"
   ]
  },
  {
   "cell_type": "markdown",
   "metadata": {},
   "source": [
    "### Model"
   ]
  },
  {
   "cell_type": "code",
   "execution_count": 6,
   "metadata": {},
   "outputs": [
    {
     "data": {
      "text/plain": [
       "StatsModels.TableRegressionModel{GeneralizedLinearModel{GLM.GlmResp{Array{Float64,1},Binomial{Float64},LogitLink},GLM.DensePredChol{Float64,LinearAlgebra.Cholesky{Float64,Array{Float64,2}}}},Array{Float64,2}}\n",
       "\n",
       "DefaultNum ~ 1 + Balance + Income\n",
       "\n",
       "Coefficients:\n",
       "───────────────────────────────────────────────────────────────────────────────────────\n",
       "                 Estimate   Std. Error    z value  Pr(>|z|)     Lower 95%     Upper 95%\n",
       "───────────────────────────────────────────────────────────────────────────────────────\n",
       "(Intercept)  -11.634       0.482006     -24.1366     <1e-99  -12.5787      -10.6893\n",
       "Balance        0.00564643  0.000251109   22.486      <1e-99    0.00515427    0.00613859\n",
       "Income         2.42322e-5  5.54692e-6     4.36858    <1e-4     1.33604e-5    3.51039e-5\n",
       "───────────────────────────────────────────────────────────────────────────────────────"
      ]
     },
     "execution_count": 6,
     "metadata": {},
     "output_type": "execute_result"
    }
   ],
   "source": [
    "logreg = glm(@formula(DefaultNum ~ Balance + Income), train, Binomial(), LogitLink())"
   ]
  },
  {
   "cell_type": "markdown",
   "metadata": {},
   "source": [
    "### Prediction"
   ]
  },
  {
   "cell_type": "code",
   "execution_count": 7,
   "metadata": {},
   "outputs": [
    {
     "data": {
      "text/plain": [
       "2000-element Array{Union{Missing, Float64},1}:\n",
       " 9.150220336679368e-5\n",
       " 0.004861800412552353\n",
       " 0.0020152992066220475\n",
       " 0.006389529620440955\n",
       " 0.0031630256332805685\n",
       " 8.698519971359189e-5\n",
       " 0.0001707364240762617\n",
       " 2.7210563647774178e-5\n",
       " 0.00676952980488337\n",
       " 0.01355204597103904\n",
       " 6.873337234012609e-5\n",
       " 8.122426366054097e-5\n",
       " 0.002222270417418081\n",
       " ⋮\n",
       " 0.00906038766208714\n",
       " 0.00035610053239268076\n",
       " 0.00014655597818013374\n",
       " 0.21638148426472423\n",
       " 0.1329844724882828\n",
       " 0.0031090945400260336\n",
       " 0.021201777133772914\n",
       " 0.0038254800015384374\n",
       " 0.00160979539197448\n",
       " 0.00018422939233096847\n",
       " 0.00017890290104524042\n",
       " 0.2718299195933858"
      ]
     },
     "execution_count": 7,
     "metadata": {},
     "output_type": "execute_result"
    }
   ],
   "source": [
    "pred = predict(logreg, test)"
   ]
  },
  {
   "cell_type": "markdown",
   "metadata": {},
   "source": [
    "### Validation"
   ]
  },
  {
   "cell_type": "code",
   "execution_count": 8,
   "metadata": {},
   "outputs": [
    {
     "data": {
      "text/plain": [
       "accuracy (generic function with 1 method)"
      ]
     },
     "execution_count": 8,
     "metadata": {},
     "output_type": "execute_result"
    }
   ],
   "source": [
    "error(x, y) = ((x > 0.5) ? 1.0 : 0.0) == y\n",
    "accuracy(xs, ys) = mean(error.(xs, ys))"
   ]
  },
  {
   "cell_type": "code",
   "execution_count": 9,
   "metadata": {},
   "outputs": [
    {
     "data": {
      "text/plain": [
       "0.974"
      ]
     },
     "execution_count": 9,
     "metadata": {},
     "output_type": "execute_result"
    }
   ],
   "source": [
    "accuracy(pred, test[!, :DefaultNum])"
   ]
  },
  {
   "cell_type": "markdown",
   "metadata": {},
   "source": [
    "## Using MLJ"
   ]
  },
  {
   "cell_type": "code",
   "execution_count": 10,
   "metadata": {},
   "outputs": [
    {
     "name": "stderr",
     "output_type": "stream",
     "text": [
      "WARNING: using MLJ.predict in module Main conflicts with an existing identifier.\n"
     ]
    }
   ],
   "source": [
    "using MLJ"
   ]
  },
  {
   "cell_type": "markdown",
   "metadata": {},
   "source": [
    "### Load data"
   ]
  },
  {
   "cell_type": "code",
   "execution_count": 11,
   "metadata": {},
   "outputs": [
    {
     "data": {
      "text/html": [
       "<table class=\"data-frame\"><thead><tr><th></th><th>Year</th><th>Lag1</th><th>Lag2</th><th>Lag3</th><th>Lag4</th><th>Lag5</th><th>Volume</th><th>Today</th><th>Direction</th></tr><tr><th></th><th>Float64</th><th>Float64</th><th>Float64</th><th>Float64</th><th>Float64</th><th>Float64</th><th>Float64</th><th>Float64</th><th>Categorical…</th></tr></thead><tbody><p>6 rows × 9 columns</p><tr><th>1</th><td>2001.0</td><td>0.381</td><td>-0.192</td><td>-2.624</td><td>-1.055</td><td>5.01</td><td>1.1913</td><td>0.959</td><td>Up</td></tr><tr><th>2</th><td>2001.0</td><td>0.959</td><td>0.381</td><td>-0.192</td><td>-2.624</td><td>-1.055</td><td>1.2965</td><td>1.032</td><td>Up</td></tr><tr><th>3</th><td>2001.0</td><td>1.032</td><td>0.959</td><td>0.381</td><td>-0.192</td><td>-2.624</td><td>1.4112</td><td>-0.623</td><td>Down</td></tr><tr><th>4</th><td>2001.0</td><td>-0.623</td><td>1.032</td><td>0.959</td><td>0.381</td><td>-0.192</td><td>1.276</td><td>0.614</td><td>Up</td></tr><tr><th>5</th><td>2001.0</td><td>0.614</td><td>-0.623</td><td>1.032</td><td>0.959</td><td>0.381</td><td>1.2057</td><td>0.213</td><td>Up</td></tr><tr><th>6</th><td>2001.0</td><td>0.213</td><td>0.614</td><td>-0.623</td><td>1.032</td><td>0.959</td><td>1.3491</td><td>1.392</td><td>Up</td></tr></tbody></table>"
      ],
      "text/latex": [
       "\\begin{tabular}{r|ccccccccc}\n",
       "\t& Year & Lag1 & Lag2 & Lag3 & Lag4 & Lag5 & Volume & Today & Direction\\\\\n",
       "\t\\hline\n",
       "\t& Float64 & Float64 & Float64 & Float64 & Float64 & Float64 & Float64 & Float64 & Categorical…\\\\\n",
       "\t\\hline\n",
       "\t1 & 2001.0 & 0.381 & -0.192 & -2.624 & -1.055 & 5.01 & 1.1913 & 0.959 & Up \\\\\n",
       "\t2 & 2001.0 & 0.959 & 0.381 & -0.192 & -2.624 & -1.055 & 1.2965 & 1.032 & Up \\\\\n",
       "\t3 & 2001.0 & 1.032 & 0.959 & 0.381 & -0.192 & -2.624 & 1.4112 & -0.623 & Down \\\\\n",
       "\t4 & 2001.0 & -0.623 & 1.032 & 0.959 & 0.381 & -0.192 & 1.276 & 0.614 & Up \\\\\n",
       "\t5 & 2001.0 & 0.614 & -0.623 & 1.032 & 0.959 & 0.381 & 1.2057 & 0.213 & Up \\\\\n",
       "\t6 & 2001.0 & 0.213 & 0.614 & -0.623 & 1.032 & 0.959 & 1.3491 & 1.392 & Up \\\\\n",
       "\\end{tabular}\n"
      ],
      "text/plain": [
       "6×9 DataFrame. Omitted printing of 2 columns\n",
       "│ Row │ Year    │ Lag1    │ Lag2    │ Lag3    │ Lag4    │ Lag5    │ Volume  │\n",
       "│     │ \u001b[90mFloat64\u001b[39m │ \u001b[90mFloat64\u001b[39m │ \u001b[90mFloat64\u001b[39m │ \u001b[90mFloat64\u001b[39m │ \u001b[90mFloat64\u001b[39m │ \u001b[90mFloat64\u001b[39m │ \u001b[90mFloat64\u001b[39m │\n",
       "├─────┼─────────┼─────────┼─────────┼─────────┼─────────┼─────────┼─────────┤\n",
       "│ 1   │ 2001.0  │ 0.381   │ -0.192  │ -2.624  │ -1.055  │ 5.01    │ 1.1913  │\n",
       "│ 2   │ 2001.0  │ 0.959   │ 0.381   │ -0.192  │ -2.624  │ -1.055  │ 1.2965  │\n",
       "│ 3   │ 2001.0  │ 1.032   │ 0.959   │ 0.381   │ -0.192  │ -2.624  │ 1.4112  │\n",
       "│ 4   │ 2001.0  │ -0.623  │ 1.032   │ 0.959   │ 0.381   │ -0.192  │ 1.276   │\n",
       "│ 5   │ 2001.0  │ 0.614   │ -0.623  │ 1.032   │ 0.959   │ 0.381   │ 1.2057  │\n",
       "│ 6   │ 2001.0  │ 0.213   │ 0.614   │ -0.623  │ 1.032   │ 0.959   │ 1.3491  │"
      ]
     },
     "execution_count": 11,
     "metadata": {},
     "output_type": "execute_result"
    }
   ],
   "source": [
    "smarket = dataset(\"ISLR\", \"Smarket\")\n",
    "first(smarket, 6)"
   ]
  },
  {
   "cell_type": "markdown",
   "metadata": {},
   "source": [
    "### Casting scientific types"
   ]
  },
  {
   "cell_type": "code",
   "execution_count": 12,
   "metadata": {},
   "outputs": [
    {
     "data": {
      "text/html": [
       "<table class=\"data-frame\"><thead><tr><th></th><th>Lag1</th><th>Lag2</th><th>Lag3</th><th>Lag4</th><th>Lag5</th><th>Volume</th></tr><tr><th></th><th>Float64</th><th>Float64</th><th>Float64</th><th>Float64</th><th>Float64</th><th>Float64</th></tr></thead><tbody><p>6 rows × 6 columns</p><tr><th>1</th><td>0.381</td><td>-0.192</td><td>-2.624</td><td>-1.055</td><td>5.01</td><td>1.1913</td></tr><tr><th>2</th><td>0.959</td><td>0.381</td><td>-0.192</td><td>-2.624</td><td>-1.055</td><td>1.2965</td></tr><tr><th>3</th><td>1.032</td><td>0.959</td><td>0.381</td><td>-0.192</td><td>-2.624</td><td>1.4112</td></tr><tr><th>4</th><td>-0.623</td><td>1.032</td><td>0.959</td><td>0.381</td><td>-0.192</td><td>1.276</td></tr><tr><th>5</th><td>0.614</td><td>-0.623</td><td>1.032</td><td>0.959</td><td>0.381</td><td>1.2057</td></tr><tr><th>6</th><td>0.213</td><td>0.614</td><td>-0.623</td><td>1.032</td><td>0.959</td><td>1.3491</td></tr></tbody></table>"
      ],
      "text/latex": [
       "\\begin{tabular}{r|cccccc}\n",
       "\t& Lag1 & Lag2 & Lag3 & Lag4 & Lag5 & Volume\\\\\n",
       "\t\\hline\n",
       "\t& Float64 & Float64 & Float64 & Float64 & Float64 & Float64\\\\\n",
       "\t\\hline\n",
       "\t1 & 0.381 & -0.192 & -2.624 & -1.055 & 5.01 & 1.1913 \\\\\n",
       "\t2 & 0.959 & 0.381 & -0.192 & -2.624 & -1.055 & 1.2965 \\\\\n",
       "\t3 & 1.032 & 0.959 & 0.381 & -0.192 & -2.624 & 1.4112 \\\\\n",
       "\t4 & -0.623 & 1.032 & 0.959 & 0.381 & -0.192 & 1.276 \\\\\n",
       "\t5 & 0.614 & -0.623 & 1.032 & 0.959 & 0.381 & 1.2057 \\\\\n",
       "\t6 & 0.213 & 0.614 & -0.623 & 1.032 & 0.959 & 1.3491 \\\\\n",
       "\\end{tabular}\n"
      ],
      "text/plain": [
       "6×6 DataFrame\n",
       "│ Row │ Lag1    │ Lag2    │ Lag3    │ Lag4    │ Lag5    │ Volume  │\n",
       "│     │ \u001b[90mFloat64\u001b[39m │ \u001b[90mFloat64\u001b[39m │ \u001b[90mFloat64\u001b[39m │ \u001b[90mFloat64\u001b[39m │ \u001b[90mFloat64\u001b[39m │ \u001b[90mFloat64\u001b[39m │\n",
       "├─────┼─────────┼─────────┼─────────┼─────────┼─────────┼─────────┤\n",
       "│ 1   │ 0.381   │ -0.192  │ -2.624  │ -1.055  │ 5.01    │ 1.1913  │\n",
       "│ 2   │ 0.959   │ 0.381   │ -0.192  │ -2.624  │ -1.055  │ 1.2965  │\n",
       "│ 3   │ 1.032   │ 0.959   │ 0.381   │ -0.192  │ -2.624  │ 1.4112  │\n",
       "│ 4   │ -0.623  │ 1.032   │ 0.959   │ 0.381   │ -0.192  │ 1.276   │\n",
       "│ 5   │ 0.614   │ -0.623  │ 1.032   │ 0.959   │ 0.381   │ 1.2057  │\n",
       "│ 6   │ 0.213   │ 0.614   │ -0.623  │ 1.032   │ 0.959   │ 1.3491  │"
      ]
     },
     "execution_count": 12,
     "metadata": {},
     "output_type": "execute_result"
    }
   ],
   "source": [
    "y, X = unpack(smarket, ==(:Direction), colname -> true);\n",
    "X = select(X, Not([:Year, :Today]))\n",
    "first(X, 6)"
   ]
  },
  {
   "cell_type": "code",
   "execution_count": 13,
   "metadata": {},
   "outputs": [
    {
     "data": {
      "text/plain": [
       "2-element CategoricalArray{String,1,UInt8}:\n",
       " \"Down\"\n",
       " \"Up\""
      ]
     },
     "execution_count": 13,
     "metadata": {},
     "output_type": "execute_result"
    }
   ],
   "source": [
    "y = coerce(y, OrderedFactor)\n",
    "classes(y[1])"
   ]
  },
  {
   "cell_type": "markdown",
   "metadata": {},
   "source": [
    "### Training/testing set"
   ]
  },
  {
   "cell_type": "code",
   "execution_count": 14,
   "metadata": {},
   "outputs": [
    {
     "data": {
      "text/plain": [
       "([909, 1071, 252, 1138, 459, 381, 429, 713, 757, 449  …  327, 150, 34, 260, 106, 764, 1235, 1242, 802, 97], [221, 956, 442, 879, 1103, 1130, 162, 101, 365, 814  …  111, 1175, 344, 957, 632, 295, 717, 342, 435, 362])"
      ]
     },
     "execution_count": 14,
     "metadata": {},
     "output_type": "execute_result"
    }
   ],
   "source": [
    "train, test = partition(eachindex(y), 0.7, shuffle=true)"
   ]
  },
  {
   "cell_type": "markdown",
   "metadata": {},
   "source": [
    "### Model"
   ]
  },
  {
   "cell_type": "code",
   "execution_count": 15,
   "metadata": {},
   "outputs": [
    {
     "data": {
      "text/plain": [
       "LogisticClassifier(\n",
       "    lambda = 1.0,\n",
       "    gamma = 0.0,\n",
       "    penalty = :l2,\n",
       "    fit_intercept = true,\n",
       "    penalize_intercept = false,\n",
       "    solver = nothing,\n",
       "    multi_class = false)\u001b[34m @ 1…96\u001b[39m"
      ]
     },
     "execution_count": 15,
     "metadata": {},
     "output_type": "execute_result"
    }
   ],
   "source": [
    "model = @load LogisticClassifier pkg=MLJLinearModels"
   ]
  },
  {
   "cell_type": "code",
   "execution_count": 16,
   "metadata": {},
   "outputs": [
    {
     "data": {
      "text/plain": [
       "\u001b[34mMachine{LogisticClassifier} @ 4…61\u001b[39m\n"
      ]
     },
     "execution_count": 16,
     "metadata": {},
     "output_type": "execute_result"
    }
   ],
   "source": [
    "match = machine(model, X, y)"
   ]
  },
  {
   "cell_type": "markdown",
   "metadata": {},
   "source": [
    "### Training"
   ]
  },
  {
   "cell_type": "code",
   "execution_count": 17,
   "metadata": {},
   "outputs": [
    {
     "name": "stderr",
     "output_type": "stream",
     "text": [
      "┌ Info: Training \u001b[34mMachine{LogisticClassifier} @ 4…61\u001b[39m.\n",
      "└ @ MLJBase C:\\Users\\a504082002\\.julia\\packages\\MLJBase\\qJs1o\\src\\machines.jl:182\n"
     ]
    },
    {
     "data": {
      "text/plain": [
       "\u001b[34mMachine{LogisticClassifier} @ 4…61\u001b[39m\n"
      ]
     },
     "execution_count": 17,
     "metadata": {},
     "output_type": "execute_result"
    }
   ],
   "source": [
    "fit!(match, rows=train)"
   ]
  },
  {
   "cell_type": "markdown",
   "metadata": {},
   "source": [
    "### Predict"
   ]
  },
  {
   "cell_type": "code",
   "execution_count": 18,
   "metadata": {},
   "outputs": [
    {
     "data": {
      "text/plain": [
       "375-element CategoricalArray{String,1,UInt8}:\n",
       " \"Up\"\n",
       " \"Up\"\n",
       " \"Down\"\n",
       " \"Down\"\n",
       " \"Up\"\n",
       " \"Down\"\n",
       " \"Up\"\n",
       " \"Down\"\n",
       " \"Up\"\n",
       " \"Up\"\n",
       " \"Down\"\n",
       " \"Down\"\n",
       " \"Down\"\n",
       " ⋮\n",
       " \"Up\"\n",
       " \"Up\"\n",
       " \"Up\"\n",
       " \"Up\"\n",
       " \"Up\"\n",
       " \"Up\"\n",
       " \"Up\"\n",
       " \"Down\"\n",
       " \"Up\"\n",
       " \"Down\"\n",
       " \"Up\"\n",
       " \"Up\""
      ]
     },
     "execution_count": 18,
     "metadata": {},
     "output_type": "execute_result"
    }
   ],
   "source": [
    "ŷ = predict_mode(match, rows=test)"
   ]
  },
  {
   "cell_type": "markdown",
   "metadata": {},
   "source": [
    "### Evaluation"
   ]
  },
  {
   "cell_type": "code",
   "execution_count": 19,
   "metadata": {},
   "outputs": [
    {
     "data": {
      "text/plain": [
       "375-element Array{UnivariateFinite{String,UInt8,Float64},1}:\n",
       " UnivariateFinite(Down=>0.412, Up=>0.588)\n",
       " UnivariateFinite(Down=>0.45, Up=>0.55)\n",
       " UnivariateFinite(Down=>0.509, Up=>0.491)\n",
       " UnivariateFinite(Down=>0.506, Up=>0.494)\n",
       " UnivariateFinite(Down=>0.464, Up=>0.536)\n",
       " UnivariateFinite(Down=>0.504, Up=>0.496)\n",
       " UnivariateFinite(Down=>0.402, Up=>0.598)\n",
       " UnivariateFinite(Down=>0.551, Up=>0.449)\n",
       " UnivariateFinite(Down=>0.497, Up=>0.503)\n",
       " UnivariateFinite(Down=>0.441, Up=>0.559)\n",
       " UnivariateFinite(Down=>0.578, Up=>0.422)\n",
       " UnivariateFinite(Down=>0.505, Up=>0.495)\n",
       " UnivariateFinite(Down=>0.543, Up=>0.457)\n",
       " ⋮\n",
       " UnivariateFinite(Down=>0.498, Up=>0.502)\n",
       " UnivariateFinite(Down=>0.437, Up=>0.563)\n",
       " UnivariateFinite(Down=>0.486, Up=>0.514)\n",
       " UnivariateFinite(Down=>0.458, Up=>0.542)\n",
       " UnivariateFinite(Down=>0.459, Up=>0.541)\n",
       " UnivariateFinite(Down=>0.439, Up=>0.561)\n",
       " UnivariateFinite(Down=>0.492, Up=>0.508)\n",
       " UnivariateFinite(Down=>0.514, Up=>0.486)\n",
       " UnivariateFinite(Down=>0.429, Up=>0.571)\n",
       " UnivariateFinite(Down=>0.527, Up=>0.473)\n",
       " UnivariateFinite(Down=>0.309, Up=>0.691)\n",
       " UnivariateFinite(Down=>0.403, Up=>0.597)"
      ]
     },
     "execution_count": 19,
     "metadata": {},
     "output_type": "execute_result"
    }
   ],
   "source": [
    "ŷ = MLJ.predict(match, rows=test)"
   ]
  },
  {
   "cell_type": "code",
   "execution_count": 20,
   "metadata": {},
   "outputs": [
    {
     "data": {
      "text/plain": [
       "0.7031074056572498"
      ]
     },
     "execution_count": 20,
     "metadata": {},
     "output_type": "execute_result"
    }
   ],
   "source": [
    "cross_entropy(ŷ, y[test]) |> mean"
   ]
  },
  {
   "cell_type": "markdown",
   "metadata": {},
   "source": [
    "### Evaluation methods"
   ]
  },
  {
   "cell_type": "code",
   "execution_count": 21,
   "metadata": {},
   "outputs": [
    {
     "data": {
      "text/plain": [
       "375-element CategoricalArray{String,1,UInt8}:\n",
       " \"Up\"\n",
       " \"Up\"\n",
       " \"Down\"\n",
       " \"Down\"\n",
       " \"Up\"\n",
       " \"Down\"\n",
       " \"Up\"\n",
       " \"Down\"\n",
       " \"Up\"\n",
       " \"Up\"\n",
       " \"Down\"\n",
       " \"Down\"\n",
       " \"Down\"\n",
       " ⋮\n",
       " \"Up\"\n",
       " \"Up\"\n",
       " \"Up\"\n",
       " \"Up\"\n",
       " \"Up\"\n",
       " \"Up\"\n",
       " \"Up\"\n",
       " \"Down\"\n",
       " \"Up\"\n",
       " \"Down\"\n",
       " \"Up\"\n",
       " \"Up\""
      ]
     },
     "execution_count": 21,
     "metadata": {},
     "output_type": "execute_result"
    }
   ],
   "source": [
    "ŷ = predict_mode(match, rows=test)"
   ]
  },
  {
   "cell_type": "code",
   "execution_count": 22,
   "metadata": {},
   "outputs": [
    {
     "data": {
      "text/plain": [
       "0.5173333333333333"
      ]
     },
     "execution_count": 22,
     "metadata": {},
     "output_type": "execute_result"
    }
   ],
   "source": [
    "misclassification_rate(ŷ, y[test])"
   ]
  },
  {
   "cell_type": "code",
   "execution_count": 23,
   "metadata": {},
   "outputs": [
    {
     "data": {
      "text/plain": [
       "              ┌───────────────────────────┐\n",
       "              │       Ground Truth        │\n",
       "┌─────────────┼─────────────┬─────────────┤\n",
       "│  Predicted  │    Down     │     Up      │\n",
       "├─────────────┼─────────────┼─────────────┤\n",
       "│    Down     │     34      │     41      │\n",
       "├─────────────┼─────────────┼─────────────┤\n",
       "│     Up      │     153     │     147     │\n",
       "└─────────────┴─────────────┴─────────────┘\n"
      ]
     },
     "execution_count": 23,
     "metadata": {},
     "output_type": "execute_result"
    }
   ],
   "source": [
    "cm = confusion_matrix(ŷ, y[test])"
   ]
  },
  {
   "cell_type": "code",
   "execution_count": 24,
   "metadata": {},
   "outputs": [
    {
     "data": {
      "text/plain": [
       "153"
      ]
     },
     "execution_count": 24,
     "metadata": {},
     "output_type": "execute_result"
    }
   ],
   "source": [
    "false_positive(cm)"
   ]
  },
  {
   "cell_type": "code",
   "execution_count": 25,
   "metadata": {},
   "outputs": [
    {
     "data": {
      "text/plain": [
       "0.4826666666666667"
      ]
     },
     "execution_count": 25,
     "metadata": {},
     "output_type": "execute_result"
    }
   ],
   "source": [
    "MLJ.accuracy(cm)"
   ]
  },
  {
   "cell_type": "code",
   "execution_count": 26,
   "metadata": {},
   "outputs": [
    {
     "data": {
      "text/plain": [
       "0.4826666666666667"
      ]
     },
     "execution_count": 26,
     "metadata": {},
     "output_type": "execute_result"
    }
   ],
   "source": [
    "MLJ.accuracy(ŷ, y[test])"
   ]
  },
  {
   "cell_type": "code",
   "execution_count": 27,
   "metadata": {},
   "outputs": [
    {
     "data": {
      "text/plain": [
       "0.49"
      ]
     },
     "execution_count": 27,
     "metadata": {},
     "output_type": "execute_result"
    }
   ],
   "source": [
    "precision(ŷ, y[test])"
   ]
  },
  {
   "cell_type": "code",
   "execution_count": 28,
   "metadata": {},
   "outputs": [
    {
     "data": {
      "text/plain": [
       "0.7819148936170213"
      ]
     },
     "execution_count": 28,
     "metadata": {},
     "output_type": "execute_result"
    }
   ],
   "source": [
    "recall(ŷ, y[test])"
   ]
  },
  {
   "cell_type": "code",
   "execution_count": 29,
   "metadata": {},
   "outputs": [
    {
     "data": {
      "text/plain": [
       "0.6024590163934427"
      ]
     },
     "execution_count": 29,
     "metadata": {},
     "output_type": "execute_result"
    }
   ],
   "source": [
    "f1score(ŷ, y[test])"
   ]
  },
  {
   "cell_type": "code",
   "execution_count": null,
   "metadata": {},
   "outputs": [],
   "source": []
  }
 ],
 "metadata": {
  "kernelspec": {
   "display_name": "Julia 1.4.1",
   "language": "julia",
   "name": "julia-1.4"
  },
  "language_info": {
   "file_extension": ".jl",
   "mimetype": "application/julia",
   "name": "julia",
   "version": "1.4.1"
  }
 },
 "nbformat": 4,
 "nbformat_minor": 4
}
