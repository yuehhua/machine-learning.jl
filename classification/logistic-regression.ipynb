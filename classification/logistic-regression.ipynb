{
 "cells": [
  {
   "cell_type": "markdown",
   "metadata": {},
   "source": [
    "# Logistic Regression"
   ]
  },
  {
   "cell_type": "markdown",
   "metadata": {},
   "source": [
    "## Using GLM"
   ]
  },
  {
   "cell_type": "code",
   "execution_count": 1,
   "metadata": {},
   "outputs": [],
   "source": [
    "using GLM\n",
    "using Statistics\n",
    "using RDatasets\n",
    "using MLDataUtils"
   ]
  },
  {
   "cell_type": "markdown",
   "metadata": {},
   "source": [
    "### Load data"
   ]
  },
  {
   "cell_type": "code",
   "execution_count": 2,
   "metadata": {},
   "outputs": [
    {
     "data": {
      "text/html": [
       "<table class=\"data-frame\"><thead><tr><th></th><th>Default</th><th>Student</th><th>Balance</th><th>Income</th></tr><tr><th></th><th>Categorical…</th><th>Categorical…</th><th>Float64</th><th>Float64</th></tr></thead><tbody><p>6 rows × 4 columns</p><tr><th>1</th><td>No</td><td>No</td><td>729.526</td><td>44361.6</td></tr><tr><th>2</th><td>No</td><td>Yes</td><td>817.18</td><td>12106.1</td></tr><tr><th>3</th><td>No</td><td>No</td><td>1073.55</td><td>31767.1</td></tr><tr><th>4</th><td>No</td><td>No</td><td>529.251</td><td>35704.5</td></tr><tr><th>5</th><td>No</td><td>No</td><td>785.656</td><td>38463.5</td></tr><tr><th>6</th><td>No</td><td>Yes</td><td>919.589</td><td>7491.56</td></tr></tbody></table>"
      ],
      "text/latex": [
       "\\begin{tabular}{r|cccc}\n",
       "\t& Default & Student & Balance & Income\\\\\n",
       "\t\\hline\n",
       "\t& Categorical… & Categorical… & Float64 & Float64\\\\\n",
       "\t\\hline\n",
       "\t1 & No & No & 729.526 & 44361.6 \\\\\n",
       "\t2 & No & Yes & 817.18 & 12106.1 \\\\\n",
       "\t3 & No & No & 1073.55 & 31767.1 \\\\\n",
       "\t4 & No & No & 529.251 & 35704.5 \\\\\n",
       "\t5 & No & No & 785.656 & 38463.5 \\\\\n",
       "\t6 & No & Yes & 919.589 & 7491.56 \\\\\n",
       "\\end{tabular}\n"
      ],
      "text/plain": [
       "6×4 DataFrame\n",
       "│ Row │ Default      │ Student      │ Balance │ Income  │\n",
       "│     │ \u001b[90mCategorical…\u001b[39m │ \u001b[90mCategorical…\u001b[39m │ \u001b[90mFloat64\u001b[39m │ \u001b[90mFloat64\u001b[39m │\n",
       "├─────┼──────────────┼──────────────┼─────────┼─────────┤\n",
       "│ 1   │ No           │ No           │ 729.526 │ 44361.6 │\n",
       "│ 2   │ No           │ Yes          │ 817.18  │ 12106.1 │\n",
       "│ 3   │ No           │ No           │ 1073.55 │ 31767.1 │\n",
       "│ 4   │ No           │ No           │ 529.251 │ 35704.5 │\n",
       "│ 5   │ No           │ No           │ 785.656 │ 38463.5 │\n",
       "│ 6   │ No           │ Yes          │ 919.589 │ 7491.56 │"
      ]
     },
     "execution_count": 2,
     "metadata": {},
     "output_type": "execute_result"
    }
   ],
   "source": [
    "data = RDatasets.dataset(\"ISLR\", \"Default\")\n",
    "first(data, 6)"
   ]
  },
  {
   "cell_type": "markdown",
   "metadata": {},
   "source": [
    "### Preprocessing"
   ]
  },
  {
   "cell_type": "code",
   "execution_count": 3,
   "metadata": {},
   "outputs": [
    {
     "data": {
      "text/html": [
       "<table class=\"data-frame\"><thead><tr><th></th><th>Default</th><th>Student</th><th>Balance</th><th>Income</th><th>DefaultNum</th><th>StudentNum</th></tr><tr><th></th><th>Categorical…</th><th>Categorical…</th><th>Float64</th><th>Float64</th><th>Float64</th><th>Float64</th></tr></thead><tbody><p>6 rows × 6 columns</p><tr><th>1</th><td>No</td><td>No</td><td>729.526</td><td>44361.6</td><td>0.0</td><td>0.0</td></tr><tr><th>2</th><td>No</td><td>Yes</td><td>817.18</td><td>12106.1</td><td>0.0</td><td>1.0</td></tr><tr><th>3</th><td>No</td><td>No</td><td>1073.55</td><td>31767.1</td><td>0.0</td><td>0.0</td></tr><tr><th>4</th><td>No</td><td>No</td><td>529.251</td><td>35704.5</td><td>0.0</td><td>0.0</td></tr><tr><th>5</th><td>No</td><td>No</td><td>785.656</td><td>38463.5</td><td>0.0</td><td>0.0</td></tr><tr><th>6</th><td>No</td><td>Yes</td><td>919.589</td><td>7491.56</td><td>0.0</td><td>1.0</td></tr></tbody></table>"
      ],
      "text/latex": [
       "\\begin{tabular}{r|cccccc}\n",
       "\t& Default & Student & Balance & Income & DefaultNum & StudentNum\\\\\n",
       "\t\\hline\n",
       "\t& Categorical… & Categorical… & Float64 & Float64 & Float64 & Float64\\\\\n",
       "\t\\hline\n",
       "\t1 & No & No & 729.526 & 44361.6 & 0.0 & 0.0 \\\\\n",
       "\t2 & No & Yes & 817.18 & 12106.1 & 0.0 & 1.0 \\\\\n",
       "\t3 & No & No & 1073.55 & 31767.1 & 0.0 & 0.0 \\\\\n",
       "\t4 & No & No & 529.251 & 35704.5 & 0.0 & 0.0 \\\\\n",
       "\t5 & No & No & 785.656 & 38463.5 & 0.0 & 0.0 \\\\\n",
       "\t6 & No & Yes & 919.589 & 7491.56 & 0.0 & 1.0 \\\\\n",
       "\\end{tabular}\n"
      ],
      "text/plain": [
       "6×6 DataFrame. Omitted printing of 1 columns\n",
       "│ Row │ Default      │ Student      │ Balance │ Income  │ DefaultNum │\n",
       "│     │ \u001b[90mCategorical…\u001b[39m │ \u001b[90mCategorical…\u001b[39m │ \u001b[90mFloat64\u001b[39m │ \u001b[90mFloat64\u001b[39m │ \u001b[90mFloat64\u001b[39m    │\n",
       "├─────┼──────────────┼──────────────┼─────────┼─────────┼────────────┤\n",
       "│ 1   │ No           │ No           │ 729.526 │ 44361.6 │ 0.0        │\n",
       "│ 2   │ No           │ Yes          │ 817.18  │ 12106.1 │ 0.0        │\n",
       "│ 3   │ No           │ No           │ 1073.55 │ 31767.1 │ 0.0        │\n",
       "│ 4   │ No           │ No           │ 529.251 │ 35704.5 │ 0.0        │\n",
       "│ 5   │ No           │ No           │ 785.656 │ 38463.5 │ 0.0        │\n",
       "│ 6   │ No           │ Yes          │ 919.589 │ 7491.56 │ 0.0        │"
      ]
     },
     "execution_count": 3,
     "metadata": {},
     "output_type": "execute_result"
    }
   ],
   "source": [
    "isyes(x) = x == \"Yes\" ? 1.0 : 0.0\n",
    "\n",
    "data[!, :DefaultNum] = isyes.(data[!, :Default])\n",
    "data[!, :StudentNum] = isyes.(data[!, :Student])\n",
    "first(data, 6)"
   ]
  },
  {
   "cell_type": "markdown",
   "metadata": {},
   "source": [
    "### Training/Testing set"
   ]
  },
  {
   "cell_type": "code",
   "execution_count": 4,
   "metadata": {},
   "outputs": [],
   "source": [
    "indecies = MLDataUtils.shuffleobs(collect(1:nrow(data)))\n",
    "train_ind, test_ind = MLDataUtils.splitobs(indecies, at=0.8);"
   ]
  },
  {
   "cell_type": "code",
   "execution_count": 5,
   "metadata": {},
   "outputs": [
    {
     "data": {
      "text/html": [
       "<table class=\"data-frame\"><thead><tr><th></th><th>Default</th><th>Student</th><th>Balance</th><th>Income</th><th>DefaultNum</th><th>StudentNum</th></tr><tr><th></th><th>Categorical…</th><th>Categorical…</th><th>Float64</th><th>Float64</th><th>Float64</th><th>Float64</th></tr></thead><tbody><p>2,000 rows × 6 columns</p><tr><th>1</th><td>No</td><td>No</td><td>1698.07</td><td>48595.7</td><td>0.0</td><td>0.0</td></tr><tr><th>2</th><td>No</td><td>Yes</td><td>242.463</td><td>23413.4</td><td>0.0</td><td>1.0</td></tr><tr><th>3</th><td>No</td><td>No</td><td>1164.51</td><td>29874.5</td><td>0.0</td><td>0.0</td></tr><tr><th>4</th><td>No</td><td>Yes</td><td>743.415</td><td>19610.2</td><td>0.0</td><td>1.0</td></tr><tr><th>5</th><td>No</td><td>No</td><td>430.651</td><td>38372.0</td><td>0.0</td><td>0.0</td></tr><tr><th>6</th><td>No</td><td>No</td><td>274.957</td><td>24102.4</td><td>0.0</td><td>0.0</td></tr><tr><th>7</th><td>No</td><td>Yes</td><td>1017.36</td><td>21702.2</td><td>0.0</td><td>1.0</td></tr><tr><th>8</th><td>No</td><td>Yes</td><td>1115.11</td><td>19169.1</td><td>0.0</td><td>1.0</td></tr><tr><th>9</th><td>No</td><td>No</td><td>379.1</td><td>31350.9</td><td>0.0</td><td>0.0</td></tr><tr><th>10</th><td>No</td><td>Yes</td><td>688.748</td><td>26662.4</td><td>0.0</td><td>1.0</td></tr><tr><th>11</th><td>No</td><td>No</td><td>836.193</td><td>43275.1</td><td>0.0</td><td>0.0</td></tr><tr><th>12</th><td>No</td><td>No</td><td>1063.16</td><td>34642.1</td><td>0.0</td><td>0.0</td></tr><tr><th>13</th><td>No</td><td>No</td><td>981.799</td><td>49644.9</td><td>0.0</td><td>0.0</td></tr><tr><th>14</th><td>No</td><td>No</td><td>1012.29</td><td>60697.6</td><td>0.0</td><td>0.0</td></tr><tr><th>15</th><td>No</td><td>Yes</td><td>567.723</td><td>14892.3</td><td>0.0</td><td>1.0</td></tr><tr><th>16</th><td>No</td><td>No</td><td>982.84</td><td>32419.7</td><td>0.0</td><td>0.0</td></tr><tr><th>17</th><td>No</td><td>Yes</td><td>1360.87</td><td>22310.9</td><td>0.0</td><td>1.0</td></tr><tr><th>18</th><td>No</td><td>No</td><td>1118.22</td><td>32632.9</td><td>0.0</td><td>0.0</td></tr><tr><th>19</th><td>No</td><td>No</td><td>1387.29</td><td>29712.8</td><td>0.0</td><td>0.0</td></tr><tr><th>20</th><td>No</td><td>No</td><td>937.738</td><td>24932.7</td><td>0.0</td><td>0.0</td></tr><tr><th>21</th><td>No</td><td>No</td><td>683.942</td><td>35232.8</td><td>0.0</td><td>0.0</td></tr><tr><th>22</th><td>No</td><td>No</td><td>654.278</td><td>37706.6</td><td>0.0</td><td>0.0</td></tr><tr><th>23</th><td>No</td><td>No</td><td>537.14</td><td>52513.7</td><td>0.0</td><td>0.0</td></tr><tr><th>24</th><td>No</td><td>Yes</td><td>1055.6</td><td>16810.6</td><td>0.0</td><td>1.0</td></tr><tr><th>25</th><td>No</td><td>No</td><td>162.218</td><td>41381.3</td><td>0.0</td><td>0.0</td></tr><tr><th>26</th><td>No</td><td>No</td><td>907.307</td><td>28461.3</td><td>0.0</td><td>0.0</td></tr><tr><th>27</th><td>No</td><td>No</td><td>1221.08</td><td>29370.6</td><td>0.0</td><td>0.0</td></tr><tr><th>28</th><td>No</td><td>No</td><td>1240.75</td><td>51511.3</td><td>0.0</td><td>0.0</td></tr><tr><th>29</th><td>No</td><td>No</td><td>1717.5</td><td>38791.1</td><td>0.0</td><td>0.0</td></tr><tr><th>30</th><td>No</td><td>No</td><td>713.437</td><td>48176.4</td><td>0.0</td><td>0.0</td></tr><tr><th>&vellip;</th><td>&vellip;</td><td>&vellip;</td><td>&vellip;</td><td>&vellip;</td><td>&vellip;</td><td>&vellip;</td></tr></tbody></table>"
      ],
      "text/latex": [
       "\\begin{tabular}{r|cccccc}\n",
       "\t& Default & Student & Balance & Income & DefaultNum & StudentNum\\\\\n",
       "\t\\hline\n",
       "\t& Categorical… & Categorical… & Float64 & Float64 & Float64 & Float64\\\\\n",
       "\t\\hline\n",
       "\t1 & No & No & 1698.07 & 48595.7 & 0.0 & 0.0 \\\\\n",
       "\t2 & No & Yes & 242.463 & 23413.4 & 0.0 & 1.0 \\\\\n",
       "\t3 & No & No & 1164.51 & 29874.5 & 0.0 & 0.0 \\\\\n",
       "\t4 & No & Yes & 743.415 & 19610.2 & 0.0 & 1.0 \\\\\n",
       "\t5 & No & No & 430.651 & 38372.0 & 0.0 & 0.0 \\\\\n",
       "\t6 & No & No & 274.957 & 24102.4 & 0.0 & 0.0 \\\\\n",
       "\t7 & No & Yes & 1017.36 & 21702.2 & 0.0 & 1.0 \\\\\n",
       "\t8 & No & Yes & 1115.11 & 19169.1 & 0.0 & 1.0 \\\\\n",
       "\t9 & No & No & 379.1 & 31350.9 & 0.0 & 0.0 \\\\\n",
       "\t10 & No & Yes & 688.748 & 26662.4 & 0.0 & 1.0 \\\\\n",
       "\t11 & No & No & 836.193 & 43275.1 & 0.0 & 0.0 \\\\\n",
       "\t12 & No & No & 1063.16 & 34642.1 & 0.0 & 0.0 \\\\\n",
       "\t13 & No & No & 981.799 & 49644.9 & 0.0 & 0.0 \\\\\n",
       "\t14 & No & No & 1012.29 & 60697.6 & 0.0 & 0.0 \\\\\n",
       "\t15 & No & Yes & 567.723 & 14892.3 & 0.0 & 1.0 \\\\\n",
       "\t16 & No & No & 982.84 & 32419.7 & 0.0 & 0.0 \\\\\n",
       "\t17 & No & Yes & 1360.87 & 22310.9 & 0.0 & 1.0 \\\\\n",
       "\t18 & No & No & 1118.22 & 32632.9 & 0.0 & 0.0 \\\\\n",
       "\t19 & No & No & 1387.29 & 29712.8 & 0.0 & 0.0 \\\\\n",
       "\t20 & No & No & 937.738 & 24932.7 & 0.0 & 0.0 \\\\\n",
       "\t21 & No & No & 683.942 & 35232.8 & 0.0 & 0.0 \\\\\n",
       "\t22 & No & No & 654.278 & 37706.6 & 0.0 & 0.0 \\\\\n",
       "\t23 & No & No & 537.14 & 52513.7 & 0.0 & 0.0 \\\\\n",
       "\t24 & No & Yes & 1055.6 & 16810.6 & 0.0 & 1.0 \\\\\n",
       "\t25 & No & No & 162.218 & 41381.3 & 0.0 & 0.0 \\\\\n",
       "\t26 & No & No & 907.307 & 28461.3 & 0.0 & 0.0 \\\\\n",
       "\t27 & No & No & 1221.08 & 29370.6 & 0.0 & 0.0 \\\\\n",
       "\t28 & No & No & 1240.75 & 51511.3 & 0.0 & 0.0 \\\\\n",
       "\t29 & No & No & 1717.5 & 38791.1 & 0.0 & 0.0 \\\\\n",
       "\t30 & No & No & 713.437 & 48176.4 & 0.0 & 0.0 \\\\\n",
       "\t$\\dots$ & $\\dots$ & $\\dots$ & $\\dots$ & $\\dots$ & $\\dots$ & $\\dots$ \\\\\n",
       "\\end{tabular}\n"
      ],
      "text/plain": [
       "2000×6 DataFrame. Omitted printing of 1 columns\n",
       "│ Row  │ Default      │ Student      │ Balance │ Income  │ DefaultNum │\n",
       "│      │ \u001b[90mCategorical…\u001b[39m │ \u001b[90mCategorical…\u001b[39m │ \u001b[90mFloat64\u001b[39m │ \u001b[90mFloat64\u001b[39m │ \u001b[90mFloat64\u001b[39m    │\n",
       "├──────┼──────────────┼──────────────┼─────────┼─────────┼────────────┤\n",
       "│ 1    │ No           │ No           │ 1698.07 │ 48595.7 │ 0.0        │\n",
       "│ 2    │ No           │ Yes          │ 242.463 │ 23413.4 │ 0.0        │\n",
       "│ 3    │ No           │ No           │ 1164.51 │ 29874.5 │ 0.0        │\n",
       "│ 4    │ No           │ Yes          │ 743.415 │ 19610.2 │ 0.0        │\n",
       "│ 5    │ No           │ No           │ 430.651 │ 38372.0 │ 0.0        │\n",
       "│ 6    │ No           │ No           │ 274.957 │ 24102.4 │ 0.0        │\n",
       "│ 7    │ No           │ Yes          │ 1017.36 │ 21702.2 │ 0.0        │\n",
       "│ 8    │ No           │ Yes          │ 1115.11 │ 19169.1 │ 0.0        │\n",
       "│ 9    │ No           │ No           │ 379.1   │ 31350.9 │ 0.0        │\n",
       "│ 10   │ No           │ Yes          │ 688.748 │ 26662.4 │ 0.0        │\n",
       "⋮\n",
       "│ 1990 │ No           │ No           │ 377.727 │ 49730.7 │ 0.0        │\n",
       "│ 1991 │ No           │ No           │ 1252.62 │ 27295.5 │ 0.0        │\n",
       "│ 1992 │ No           │ No           │ 307.476 │ 36121.0 │ 0.0        │\n",
       "│ 1993 │ No           │ No           │ 1035.49 │ 41714.4 │ 0.0        │\n",
       "│ 1994 │ No           │ No           │ 265.593 │ 24833.3 │ 0.0        │\n",
       "│ 1995 │ No           │ No           │ 1604.72 │ 38187.0 │ 0.0        │\n",
       "│ 1996 │ No           │ No           │ 694.399 │ 36570.4 │ 0.0        │\n",
       "│ 1997 │ No           │ No           │ 330.622 │ 11732.3 │ 0.0        │\n",
       "│ 1998 │ No           │ No           │ 625.192 │ 32826.4 │ 0.0        │\n",
       "│ 1999 │ No           │ No           │ 573.585 │ 54427.9 │ 0.0        │\n",
       "│ 2000 │ No           │ Yes          │ 1579.99 │ 13274.7 │ 0.0        │"
      ]
     },
     "execution_count": 5,
     "metadata": {},
     "output_type": "execute_result"
    }
   ],
   "source": [
    "train = data[train_ind, :]\n",
    "test = data[test_ind, :]"
   ]
  },
  {
   "cell_type": "markdown",
   "metadata": {},
   "source": [
    "### Model"
   ]
  },
  {
   "cell_type": "code",
   "execution_count": 6,
   "metadata": {},
   "outputs": [
    {
     "data": {
      "text/plain": [
       "StatsModels.TableRegressionModel{GeneralizedLinearModel{GLM.GlmResp{Array{Float64,1},Binomial{Float64},LogitLink},GLM.DensePredChol{Float64,LinearAlgebra.Cholesky{Float64,Array{Float64,2}}}},Array{Float64,2}}\n",
       "\n",
       "DefaultNum ~ 1 + Balance + Income\n",
       "\n",
       "Coefficients:\n",
       "───────────────────────────────────────────────────────────────────────────────────────\n",
       "                 Estimate   Std. Error    z value  Pr(>|z|)     Lower 95%     Upper 95%\n",
       "───────────────────────────────────────────────────────────────────────────────────────\n",
       "(Intercept)  -11.5229      0.481352     -23.9386     <1e-99  -12.4663      -10.5795\n",
       "Balance        0.00561236  0.000250602   22.3955     <1e-99    0.00512119    0.00610353\n",
       "Income         2.26011e-5  5.53166e-6     4.08576    <1e-4     1.17592e-5    3.34429e-5\n",
       "───────────────────────────────────────────────────────────────────────────────────────"
      ]
     },
     "execution_count": 6,
     "metadata": {},
     "output_type": "execute_result"
    }
   ],
   "source": [
    "logreg = glm(@formula(DefaultNum ~ Balance + Income), train, Binomial(), LogitLink())"
   ]
  },
  {
   "cell_type": "markdown",
   "metadata": {},
   "source": [
    "### Prediction"
   ]
  },
  {
   "cell_type": "code",
   "execution_count": 7,
   "metadata": {},
   "outputs": [
    {
     "data": {
      "text/plain": [
       "2000-element Array{Union{Missing, Float64},1}:\n",
       " 0.2902000935151865\n",
       " 6.552844637396135e-5\n",
       " 0.013228644051809268\n",
       " 0.0009993643744540825\n",
       " 0.000264157767550555\n",
       " 7.987082349190347e-5\n",
       " 0.0048562096819437985\n",
       " 0.007913064828352651\n",
       " 0.00016878683175409925\n",
       " 0.0008624935188341505\n",
       " 0.0028663715480199115\n",
       " 0.008382779196333909\n",
       " 0.007460248098994489\n",
       " ⋮\n",
       " 0.0009132297169298889\n",
       " 0.0002537232429431653\n",
       " 0.020315487844089864\n",
       " 0.00012577658442680816\n",
       " 0.00842067591367221\n",
       " 7.704417770134006e-5\n",
       " 0.1606254333649271\n",
       " 0.0011134564986545641\n",
       " 8.253681488091501e-5\n",
       " 0.0006940973924595191\n",
       " 0.0008464402079546009\n",
       " 0.08663579139007269"
      ]
     },
     "execution_count": 7,
     "metadata": {},
     "output_type": "execute_result"
    }
   ],
   "source": [
    "pred = predict(logreg, test)"
   ]
  },
  {
   "cell_type": "markdown",
   "metadata": {},
   "source": [
    "### Validation"
   ]
  },
  {
   "cell_type": "code",
   "execution_count": 8,
   "metadata": {},
   "outputs": [
    {
     "data": {
      "text/plain": [
       "accuracy (generic function with 1 method)"
      ]
     },
     "execution_count": 8,
     "metadata": {},
     "output_type": "execute_result"
    }
   ],
   "source": [
    "error(x, y) = ((x > 0.5) ? 1.0 : 0.0) == y\n",
    "accuracy(xs, ys) = mean(error.(xs, ys))"
   ]
  },
  {
   "cell_type": "code",
   "execution_count": 9,
   "metadata": {},
   "outputs": [
    {
     "data": {
      "text/plain": [
       "0.974"
      ]
     },
     "execution_count": 9,
     "metadata": {},
     "output_type": "execute_result"
    }
   ],
   "source": [
    "accuracy(pred, test[!, :DefaultNum])"
   ]
  },
  {
   "cell_type": "markdown",
   "metadata": {},
   "source": [
    "## Using MLJ"
   ]
  },
  {
   "cell_type": "code",
   "execution_count": 10,
   "metadata": {},
   "outputs": [
    {
     "name": "stderr",
     "output_type": "stream",
     "text": [
      "WARNING: using MLJ.predict in module Main conflicts with an existing identifier.\n"
     ]
    }
   ],
   "source": [
    "using MLJ"
   ]
  },
  {
   "cell_type": "markdown",
   "metadata": {},
   "source": [
    "### Load data"
   ]
  },
  {
   "cell_type": "code",
   "execution_count": 11,
   "metadata": {},
   "outputs": [
    {
     "data": {
      "text/html": [
       "<table class=\"data-frame\"><thead><tr><th></th><th>Year</th><th>Lag1</th><th>Lag2</th><th>Lag3</th><th>Lag4</th><th>Lag5</th><th>Volume</th><th>Today</th><th>Direction</th></tr><tr><th></th><th>Float64</th><th>Float64</th><th>Float64</th><th>Float64</th><th>Float64</th><th>Float64</th><th>Float64</th><th>Float64</th><th>Categorical…</th></tr></thead><tbody><p>6 rows × 9 columns</p><tr><th>1</th><td>2001.0</td><td>0.381</td><td>-0.192</td><td>-2.624</td><td>-1.055</td><td>5.01</td><td>1.1913</td><td>0.959</td><td>Up</td></tr><tr><th>2</th><td>2001.0</td><td>0.959</td><td>0.381</td><td>-0.192</td><td>-2.624</td><td>-1.055</td><td>1.2965</td><td>1.032</td><td>Up</td></tr><tr><th>3</th><td>2001.0</td><td>1.032</td><td>0.959</td><td>0.381</td><td>-0.192</td><td>-2.624</td><td>1.4112</td><td>-0.623</td><td>Down</td></tr><tr><th>4</th><td>2001.0</td><td>-0.623</td><td>1.032</td><td>0.959</td><td>0.381</td><td>-0.192</td><td>1.276</td><td>0.614</td><td>Up</td></tr><tr><th>5</th><td>2001.0</td><td>0.614</td><td>-0.623</td><td>1.032</td><td>0.959</td><td>0.381</td><td>1.2057</td><td>0.213</td><td>Up</td></tr><tr><th>6</th><td>2001.0</td><td>0.213</td><td>0.614</td><td>-0.623</td><td>1.032</td><td>0.959</td><td>1.3491</td><td>1.392</td><td>Up</td></tr></tbody></table>"
      ],
      "text/latex": [
       "\\begin{tabular}{r|ccccccccc}\n",
       "\t& Year & Lag1 & Lag2 & Lag3 & Lag4 & Lag5 & Volume & Today & Direction\\\\\n",
       "\t\\hline\n",
       "\t& Float64 & Float64 & Float64 & Float64 & Float64 & Float64 & Float64 & Float64 & Categorical…\\\\\n",
       "\t\\hline\n",
       "\t1 & 2001.0 & 0.381 & -0.192 & -2.624 & -1.055 & 5.01 & 1.1913 & 0.959 & Up \\\\\n",
       "\t2 & 2001.0 & 0.959 & 0.381 & -0.192 & -2.624 & -1.055 & 1.2965 & 1.032 & Up \\\\\n",
       "\t3 & 2001.0 & 1.032 & 0.959 & 0.381 & -0.192 & -2.624 & 1.4112 & -0.623 & Down \\\\\n",
       "\t4 & 2001.0 & -0.623 & 1.032 & 0.959 & 0.381 & -0.192 & 1.276 & 0.614 & Up \\\\\n",
       "\t5 & 2001.0 & 0.614 & -0.623 & 1.032 & 0.959 & 0.381 & 1.2057 & 0.213 & Up \\\\\n",
       "\t6 & 2001.0 & 0.213 & 0.614 & -0.623 & 1.032 & 0.959 & 1.3491 & 1.392 & Up \\\\\n",
       "\\end{tabular}\n"
      ],
      "text/plain": [
       "6×9 DataFrame. Omitted printing of 2 columns\n",
       "│ Row │ Year    │ Lag1    │ Lag2    │ Lag3    │ Lag4    │ Lag5    │ Volume  │\n",
       "│     │ \u001b[90mFloat64\u001b[39m │ \u001b[90mFloat64\u001b[39m │ \u001b[90mFloat64\u001b[39m │ \u001b[90mFloat64\u001b[39m │ \u001b[90mFloat64\u001b[39m │ \u001b[90mFloat64\u001b[39m │ \u001b[90mFloat64\u001b[39m │\n",
       "├─────┼─────────┼─────────┼─────────┼─────────┼─────────┼─────────┼─────────┤\n",
       "│ 1   │ 2001.0  │ 0.381   │ -0.192  │ -2.624  │ -1.055  │ 5.01    │ 1.1913  │\n",
       "│ 2   │ 2001.0  │ 0.959   │ 0.381   │ -0.192  │ -2.624  │ -1.055  │ 1.2965  │\n",
       "│ 3   │ 2001.0  │ 1.032   │ 0.959   │ 0.381   │ -0.192  │ -2.624  │ 1.4112  │\n",
       "│ 4   │ 2001.0  │ -0.623  │ 1.032   │ 0.959   │ 0.381   │ -0.192  │ 1.276   │\n",
       "│ 5   │ 2001.0  │ 0.614   │ -0.623  │ 1.032   │ 0.959   │ 0.381   │ 1.2057  │\n",
       "│ 6   │ 2001.0  │ 0.213   │ 0.614   │ -0.623  │ 1.032   │ 0.959   │ 1.3491  │"
      ]
     },
     "execution_count": 11,
     "metadata": {},
     "output_type": "execute_result"
    }
   ],
   "source": [
    "smarket = dataset(\"ISLR\", \"Smarket\")\n",
    "first(smarket, 6)"
   ]
  },
  {
   "cell_type": "markdown",
   "metadata": {},
   "source": [
    "### Casting scientific types"
   ]
  },
  {
   "cell_type": "code",
   "execution_count": 12,
   "metadata": {},
   "outputs": [
    {
     "data": {
      "text/html": [
       "<table class=\"data-frame\"><thead><tr><th></th><th>Lag1</th><th>Lag2</th><th>Lag3</th><th>Lag4</th><th>Lag5</th><th>Volume</th></tr><tr><th></th><th>Float64</th><th>Float64</th><th>Float64</th><th>Float64</th><th>Float64</th><th>Float64</th></tr></thead><tbody><p>6 rows × 6 columns</p><tr><th>1</th><td>0.381</td><td>-0.192</td><td>-2.624</td><td>-1.055</td><td>5.01</td><td>1.1913</td></tr><tr><th>2</th><td>0.959</td><td>0.381</td><td>-0.192</td><td>-2.624</td><td>-1.055</td><td>1.2965</td></tr><tr><th>3</th><td>1.032</td><td>0.959</td><td>0.381</td><td>-0.192</td><td>-2.624</td><td>1.4112</td></tr><tr><th>4</th><td>-0.623</td><td>1.032</td><td>0.959</td><td>0.381</td><td>-0.192</td><td>1.276</td></tr><tr><th>5</th><td>0.614</td><td>-0.623</td><td>1.032</td><td>0.959</td><td>0.381</td><td>1.2057</td></tr><tr><th>6</th><td>0.213</td><td>0.614</td><td>-0.623</td><td>1.032</td><td>0.959</td><td>1.3491</td></tr></tbody></table>"
      ],
      "text/latex": [
       "\\begin{tabular}{r|cccccc}\n",
       "\t& Lag1 & Lag2 & Lag3 & Lag4 & Lag5 & Volume\\\\\n",
       "\t\\hline\n",
       "\t& Float64 & Float64 & Float64 & Float64 & Float64 & Float64\\\\\n",
       "\t\\hline\n",
       "\t1 & 0.381 & -0.192 & -2.624 & -1.055 & 5.01 & 1.1913 \\\\\n",
       "\t2 & 0.959 & 0.381 & -0.192 & -2.624 & -1.055 & 1.2965 \\\\\n",
       "\t3 & 1.032 & 0.959 & 0.381 & -0.192 & -2.624 & 1.4112 \\\\\n",
       "\t4 & -0.623 & 1.032 & 0.959 & 0.381 & -0.192 & 1.276 \\\\\n",
       "\t5 & 0.614 & -0.623 & 1.032 & 0.959 & 0.381 & 1.2057 \\\\\n",
       "\t6 & 0.213 & 0.614 & -0.623 & 1.032 & 0.959 & 1.3491 \\\\\n",
       "\\end{tabular}\n"
      ],
      "text/plain": [
       "6×6 DataFrame\n",
       "│ Row │ Lag1    │ Lag2    │ Lag3    │ Lag4    │ Lag5    │ Volume  │\n",
       "│     │ \u001b[90mFloat64\u001b[39m │ \u001b[90mFloat64\u001b[39m │ \u001b[90mFloat64\u001b[39m │ \u001b[90mFloat64\u001b[39m │ \u001b[90mFloat64\u001b[39m │ \u001b[90mFloat64\u001b[39m │\n",
       "├─────┼─────────┼─────────┼─────────┼─────────┼─────────┼─────────┤\n",
       "│ 1   │ 0.381   │ -0.192  │ -2.624  │ -1.055  │ 5.01    │ 1.1913  │\n",
       "│ 2   │ 0.959   │ 0.381   │ -0.192  │ -2.624  │ -1.055  │ 1.2965  │\n",
       "│ 3   │ 1.032   │ 0.959   │ 0.381   │ -0.192  │ -2.624  │ 1.4112  │\n",
       "│ 4   │ -0.623  │ 1.032   │ 0.959   │ 0.381   │ -0.192  │ 1.276   │\n",
       "│ 5   │ 0.614   │ -0.623  │ 1.032   │ 0.959   │ 0.381   │ 1.2057  │\n",
       "│ 6   │ 0.213   │ 0.614   │ -0.623  │ 1.032   │ 0.959   │ 1.3491  │"
      ]
     },
     "execution_count": 12,
     "metadata": {},
     "output_type": "execute_result"
    }
   ],
   "source": [
    "y, X = unpack(smarket, ==(:Direction), colname -> true);\n",
    "X = select(X, Not([:Year, :Today]))\n",
    "first(X, 6)"
   ]
  },
  {
   "cell_type": "code",
   "execution_count": 13,
   "metadata": {},
   "outputs": [
    {
     "data": {
      "text/plain": [
       "2-element CategoricalArray{String,1,UInt8}:\n",
       " \"Down\"\n",
       " \"Up\""
      ]
     },
     "execution_count": 13,
     "metadata": {},
     "output_type": "execute_result"
    }
   ],
   "source": [
    "y = coerce(y, OrderedFactor)\n",
    "classes(y[1])"
   ]
  },
  {
   "cell_type": "markdown",
   "metadata": {},
   "source": [
    "### Training/testing set"
   ]
  },
  {
   "cell_type": "code",
   "execution_count": 14,
   "metadata": {},
   "outputs": [
    {
     "data": {
      "text/plain": [
       "([1169, 1222, 230, 287, 624, 808, 1068, 125, 820, 1072  …  429, 877, 209, 314, 745, 530, 501, 271, 785, 37], [183, 541, 1122, 1015, 1114, 50, 841, 458, 470, 307  …  720, 1020, 270, 448, 985, 315, 921, 1183, 988, 562])"
      ]
     },
     "execution_count": 14,
     "metadata": {},
     "output_type": "execute_result"
    }
   ],
   "source": [
    "train, test = partition(eachindex(y), 0.7, shuffle=true)"
   ]
  },
  {
   "cell_type": "markdown",
   "metadata": {},
   "source": [
    "### Model"
   ]
  },
  {
   "cell_type": "code",
   "execution_count": 15,
   "metadata": {},
   "outputs": [
    {
     "data": {
      "text/plain": [
       "LogisticClassifier(\n",
       "    lambda = 1.0,\n",
       "    gamma = 0.0,\n",
       "    penalty = :l2,\n",
       "    fit_intercept = true,\n",
       "    penalize_intercept = false,\n",
       "    solver = nothing,\n",
       "    multi_class = false,\n",
       "    nclasses = 2)\u001b[34m @ 1…04\u001b[39m"
      ]
     },
     "execution_count": 15,
     "metadata": {},
     "output_type": "execute_result"
    }
   ],
   "source": [
    "model = @load LogisticClassifier pkg=MLJLinearModels"
   ]
  },
  {
   "cell_type": "code",
   "execution_count": 16,
   "metadata": {},
   "outputs": [
    {
     "data": {
      "text/plain": [
       "\u001b[34mMachine{LogisticClassifier} @ 1…32\u001b[39m\n"
      ]
     },
     "execution_count": 16,
     "metadata": {},
     "output_type": "execute_result"
    }
   ],
   "source": [
    "match = machine(model, X, y)"
   ]
  },
  {
   "cell_type": "markdown",
   "metadata": {},
   "source": [
    "### Training"
   ]
  },
  {
   "cell_type": "code",
   "execution_count": 17,
   "metadata": {},
   "outputs": [
    {
     "name": "stderr",
     "output_type": "stream",
     "text": [
      "┌ Info: Training \u001b[34mMachine{LogisticClassifier} @ 1…32\u001b[39m.\n",
      "└ @ MLJBase /home/yuehhua/.julia/packages/MLJBase/O5b6j/src/machines.jl:187\n"
     ]
    },
    {
     "data": {
      "text/plain": [
       "\u001b[34mMachine{LogisticClassifier} @ 1…32\u001b[39m\n"
      ]
     },
     "execution_count": 17,
     "metadata": {},
     "output_type": "execute_result"
    }
   ],
   "source": [
    "fit!(match, rows=train)"
   ]
  },
  {
   "cell_type": "markdown",
   "metadata": {},
   "source": [
    "### Predict"
   ]
  },
  {
   "cell_type": "code",
   "execution_count": 18,
   "metadata": {},
   "outputs": [
    {
     "data": {
      "text/plain": [
       "375-element CategoricalArray{String,1,UInt8}:\n",
       " \"Up\"\n",
       " \"Down\"\n",
       " \"Up\"\n",
       " \"Up\"\n",
       " \"Up\"\n",
       " \"Up\"\n",
       " \"Up\"\n",
       " \"Down\"\n",
       " \"Down\"\n",
       " \"Up\"\n",
       " \"Up\"\n",
       " \"Up\"\n",
       " \"Up\"\n",
       " ⋮\n",
       " \"Down\"\n",
       " \"Up\"\n",
       " \"Up\"\n",
       " \"Up\"\n",
       " \"Down\"\n",
       " \"Up\"\n",
       " \"Up\"\n",
       " \"Up\"\n",
       " \"Down\"\n",
       " \"Up\"\n",
       " \"Up\"\n",
       " \"Up\""
      ]
     },
     "execution_count": 18,
     "metadata": {},
     "output_type": "execute_result"
    }
   ],
   "source": [
    "ŷ = predict_mode(match, rows=test)"
   ]
  },
  {
   "cell_type": "markdown",
   "metadata": {},
   "source": [
    "### Evaluation"
   ]
  },
  {
   "cell_type": "code",
   "execution_count": 19,
   "metadata": {},
   "outputs": [
    {
     "data": {
      "text/plain": [
       "375-element Array{UnivariateFinite{String,UInt8,Float64},1}:\n",
       " UnivariateFinite(Down=>0.482, Up=>0.518)\n",
       " UnivariateFinite(Down=>0.513, Up=>0.487)\n",
       " UnivariateFinite(Down=>0.45, Up=>0.55)\n",
       " UnivariateFinite(Down=>0.465, Up=>0.535)\n",
       " UnivariateFinite(Down=>0.473, Up=>0.527)\n",
       " UnivariateFinite(Down=>0.418, Up=>0.582)\n",
       " UnivariateFinite(Down=>0.469, Up=>0.531)\n",
       " UnivariateFinite(Down=>0.511, Up=>0.489)\n",
       " UnivariateFinite(Down=>0.514, Up=>0.486)\n",
       " UnivariateFinite(Down=>0.465, Up=>0.535)\n",
       " UnivariateFinite(Down=>0.492, Up=>0.508)\n",
       " UnivariateFinite(Down=>0.483, Up=>0.517)\n",
       " UnivariateFinite(Down=>0.492, Up=>0.508)\n",
       " ⋮\n",
       " UnivariateFinite(Down=>0.506, Up=>0.494)\n",
       " UnivariateFinite(Down=>0.461, Up=>0.539)\n",
       " UnivariateFinite(Down=>0.491, Up=>0.509)\n",
       " UnivariateFinite(Down=>0.478, Up=>0.522)\n",
       " UnivariateFinite(Down=>0.5, Up=>0.5)\n",
       " UnivariateFinite(Down=>0.449, Up=>0.551)\n",
       " UnivariateFinite(Down=>0.477, Up=>0.523)\n",
       " UnivariateFinite(Down=>0.446, Up=>0.554)\n",
       " UnivariateFinite(Down=>0.503, Up=>0.497)\n",
       " UnivariateFinite(Down=>0.452, Up=>0.548)\n",
       " UnivariateFinite(Down=>0.47, Up=>0.53)\n",
       " UnivariateFinite(Down=>0.46, Up=>0.54)"
      ]
     },
     "execution_count": 19,
     "metadata": {},
     "output_type": "execute_result"
    }
   ],
   "source": [
    "ŷ = MLJ.predict(match, rows=test)"
   ]
  },
  {
   "cell_type": "code",
   "execution_count": 20,
   "metadata": {},
   "outputs": [
    {
     "data": {
      "text/plain": [
       "0.6978154594195113"
      ]
     },
     "execution_count": 20,
     "metadata": {},
     "output_type": "execute_result"
    }
   ],
   "source": [
    "cross_entropy(ŷ, y[test]) |> mean"
   ]
  },
  {
   "cell_type": "markdown",
   "metadata": {},
   "source": [
    "### Evaluation methods"
   ]
  },
  {
   "cell_type": "code",
   "execution_count": 21,
   "metadata": {},
   "outputs": [
    {
     "data": {
      "text/plain": [
       "375-element CategoricalArray{String,1,UInt8}:\n",
       " \"Up\"\n",
       " \"Down\"\n",
       " \"Up\"\n",
       " \"Up\"\n",
       " \"Up\"\n",
       " \"Up\"\n",
       " \"Up\"\n",
       " \"Down\"\n",
       " \"Down\"\n",
       " \"Up\"\n",
       " \"Up\"\n",
       " \"Up\"\n",
       " \"Up\"\n",
       " ⋮\n",
       " \"Down\"\n",
       " \"Up\"\n",
       " \"Up\"\n",
       " \"Up\"\n",
       " \"Down\"\n",
       " \"Up\"\n",
       " \"Up\"\n",
       " \"Up\"\n",
       " \"Down\"\n",
       " \"Up\"\n",
       " \"Up\"\n",
       " \"Up\""
      ]
     },
     "execution_count": 21,
     "metadata": {},
     "output_type": "execute_result"
    }
   ],
   "source": [
    "ŷ = predict_mode(match, rows=test)"
   ]
  },
  {
   "cell_type": "code",
   "execution_count": 22,
   "metadata": {},
   "outputs": [
    {
     "data": {
      "text/plain": [
       "0.4826666666666667"
      ]
     },
     "execution_count": 22,
     "metadata": {},
     "output_type": "execute_result"
    }
   ],
   "source": [
    "misclassification_rate(ŷ, y[test])"
   ]
  },
  {
   "cell_type": "code",
   "execution_count": 23,
   "metadata": {},
   "outputs": [
    {
     "data": {
      "text/plain": [
       "              ┌───────────────────────────┐\n",
       "              │       Ground Truth        │\n",
       "┌─────────────┼─────────────┬─────────────┤\n",
       "│  Predicted  │    Down     │     Up      │\n",
       "├─────────────┼─────────────┼─────────────┤\n",
       "│    Down     │     40      │     37      │\n",
       "├─────────────┼─────────────┼─────────────┤\n",
       "│     Up      │     144     │     154     │\n",
       "└─────────────┴─────────────┴─────────────┘\n"
      ]
     },
     "execution_count": 23,
     "metadata": {},
     "output_type": "execute_result"
    }
   ],
   "source": [
    "cm = confusion_matrix(ŷ, y[test])"
   ]
  },
  {
   "cell_type": "code",
   "execution_count": 24,
   "metadata": {},
   "outputs": [
    {
     "data": {
      "text/plain": [
       "144"
      ]
     },
     "execution_count": 24,
     "metadata": {},
     "output_type": "execute_result"
    }
   ],
   "source": [
    "false_positive(cm)"
   ]
  },
  {
   "cell_type": "code",
   "execution_count": 25,
   "metadata": {},
   "outputs": [
    {
     "data": {
      "text/plain": [
       "0.5173333333333333"
      ]
     },
     "execution_count": 25,
     "metadata": {},
     "output_type": "execute_result"
    }
   ],
   "source": [
    "MLJ.accuracy(cm)"
   ]
  },
  {
   "cell_type": "code",
   "execution_count": 26,
   "metadata": {},
   "outputs": [
    {
     "data": {
      "text/plain": [
       "0.5173333333333333"
      ]
     },
     "execution_count": 26,
     "metadata": {},
     "output_type": "execute_result"
    }
   ],
   "source": [
    "MLJ.accuracy(ŷ, y[test])"
   ]
  },
  {
   "cell_type": "code",
   "execution_count": 27,
   "metadata": {},
   "outputs": [
    {
     "data": {
      "text/plain": [
       "0.5167785234899329"
      ]
     },
     "execution_count": 27,
     "metadata": {},
     "output_type": "execute_result"
    }
   ],
   "source": [
    "precision(ŷ, y[test])"
   ]
  },
  {
   "cell_type": "code",
   "execution_count": 28,
   "metadata": {},
   "outputs": [
    {
     "data": {
      "text/plain": [
       "0.806282722513089"
      ]
     },
     "execution_count": 28,
     "metadata": {},
     "output_type": "execute_result"
    }
   ],
   "source": [
    "recall(ŷ, y[test])"
   ]
  },
  {
   "cell_type": "code",
   "execution_count": 29,
   "metadata": {},
   "outputs": [
    {
     "data": {
      "text/plain": [
       "0.6298568507157464"
      ]
     },
     "execution_count": 29,
     "metadata": {},
     "output_type": "execute_result"
    }
   ],
   "source": [
    "f1score(ŷ, y[test])"
   ]
  },
  {
   "cell_type": "code",
   "execution_count": null,
   "metadata": {},
   "outputs": [],
   "source": []
  }
 ],
 "metadata": {
  "kernelspec": {
   "display_name": "Julia 1.4.0",
   "language": "julia",
   "name": "julia-1.4"
  },
  "language_info": {
   "file_extension": ".jl",
   "mimetype": "application/julia",
   "name": "julia",
   "version": "1.4.2"
  }
 },
 "nbformat": 4,
 "nbformat_minor": 4
}
