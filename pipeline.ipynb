{
 "cells": [
  {
   "cell_type": "code",
   "execution_count": 1,
   "id": "75a9c2af-889f-4846-9732-d266d6bd906b",
   "metadata": {},
   "outputs": [
    {
     "name": "stderr",
     "output_type": "stream",
     "text": [
      "\u001b[32m\u001b[1m  Activating\u001b[22m\u001b[39m project at `/media/yuehhua/Workbench/workspace/machine-learning.jl`\n"
     ]
    }
   ],
   "source": [
    "using Pkg; Pkg.activate(pwd())"
   ]
  },
  {
   "cell_type": "markdown",
   "id": "39dcc91f-3cd0-4cac-8556-4756003518b8",
   "metadata": {},
   "source": [
    "# Pipeline"
   ]
  },
  {
   "cell_type": "code",
   "execution_count": 2,
   "id": "47a9ec54-ae3b-47d1-b20f-51d8356a3933",
   "metadata": {},
   "outputs": [],
   "source": [
    "using RDatasets\n",
    "using MLJ"
   ]
  },
  {
   "cell_type": "markdown",
   "id": "c4df12f0-369f-4b66-92fe-4314f3ebe743",
   "metadata": {},
   "source": [
    "## Load data"
   ]
  },
  {
   "cell_type": "code",
   "execution_count": 3,
   "id": "84dd7f62-7ced-4056-a457-c391d9d10622",
   "metadata": {},
   "outputs": [
    {
     "data": {
      "text/html": [
       "<div class=\"data-frame\"><p>6 rows × 5 columns</p><table class=\"data-frame\"><thead><tr><th></th><th>SepalLength</th><th>SepalWidth</th><th>PetalLength</th><th>PetalWidth</th><th>Species</th></tr><tr><th></th><th title=\"Float64\">Float64</th><th title=\"Float64\">Float64</th><th title=\"Float64\">Float64</th><th title=\"Float64\">Float64</th><th title=\"CategoricalArrays.CategoricalValue{String, UInt8}\">Cat…</th></tr></thead><tbody><tr><th>1</th><td>5.1</td><td>3.5</td><td>1.4</td><td>0.2</td><td>setosa</td></tr><tr><th>2</th><td>4.9</td><td>3.0</td><td>1.4</td><td>0.2</td><td>setosa</td></tr><tr><th>3</th><td>4.7</td><td>3.2</td><td>1.3</td><td>0.2</td><td>setosa</td></tr><tr><th>4</th><td>4.6</td><td>3.1</td><td>1.5</td><td>0.2</td><td>setosa</td></tr><tr><th>5</th><td>5.0</td><td>3.6</td><td>1.4</td><td>0.2</td><td>setosa</td></tr><tr><th>6</th><td>5.4</td><td>3.9</td><td>1.7</td><td>0.4</td><td>setosa</td></tr></tbody></table></div>"
      ],
      "text/latex": [
       "\\begin{tabular}{r|ccccc}\n",
       "\t& SepalLength & SepalWidth & PetalLength & PetalWidth & Species\\\\\n",
       "\t\\hline\n",
       "\t& Float64 & Float64 & Float64 & Float64 & Cat…\\\\\n",
       "\t\\hline\n",
       "\t1 & 5.1 & 3.5 & 1.4 & 0.2 & setosa \\\\\n",
       "\t2 & 4.9 & 3.0 & 1.4 & 0.2 & setosa \\\\\n",
       "\t3 & 4.7 & 3.2 & 1.3 & 0.2 & setosa \\\\\n",
       "\t4 & 4.6 & 3.1 & 1.5 & 0.2 & setosa \\\\\n",
       "\t5 & 5.0 & 3.6 & 1.4 & 0.2 & setosa \\\\\n",
       "\t6 & 5.4 & 3.9 & 1.7 & 0.4 & setosa \\\\\n",
       "\\end{tabular}\n"
      ],
      "text/plain": [
       "\u001b[1m6×5 DataFrame\u001b[0m\n",
       "\u001b[1m Row \u001b[0m│\u001b[1m SepalLength \u001b[0m\u001b[1m SepalWidth \u001b[0m\u001b[1m PetalLength \u001b[0m\u001b[1m PetalWidth \u001b[0m\u001b[1m Species \u001b[0m\n",
       "\u001b[1m     \u001b[0m│\u001b[90m Float64     \u001b[0m\u001b[90m Float64    \u001b[0m\u001b[90m Float64     \u001b[0m\u001b[90m Float64    \u001b[0m\u001b[90m Cat…    \u001b[0m\n",
       "─────┼───────────────────────────────────────────────────────────\n",
       "   1 │         5.1         3.5          1.4         0.2  setosa\n",
       "   2 │         4.9         3.0          1.4         0.2  setosa\n",
       "   3 │         4.7         3.2          1.3         0.2  setosa\n",
       "   4 │         4.6         3.1          1.5         0.2  setosa\n",
       "   5 │         5.0         3.6          1.4         0.2  setosa\n",
       "   6 │         5.4         3.9          1.7         0.4  setosa"
      ]
     },
     "execution_count": 3,
     "metadata": {},
     "output_type": "execute_result"
    }
   ],
   "source": [
    "iris = dataset(\"datasets\", \"iris\")\n",
    "first(iris, 6)"
   ]
  },
  {
   "cell_type": "markdown",
   "id": "3278e8bc-9260-4614-b235-0b175b668502",
   "metadata": {},
   "source": [
    "## Preprocessing"
   ]
  },
  {
   "cell_type": "code",
   "execution_count": 4,
   "id": "72b9b8a9-8391-4a00-91ff-964757723e9f",
   "metadata": {},
   "outputs": [
    {
     "data": {
      "text/html": [
       "<div class=\"data-frame\"><p>6 rows × 4 columns</p><table class=\"data-frame\"><thead><tr><th></th><th>SepalLength</th><th>SepalWidth</th><th>PetalLength</th><th>PetalWidth</th></tr><tr><th></th><th title=\"Float64\">Float64</th><th title=\"Float64\">Float64</th><th title=\"Float64\">Float64</th><th title=\"Float64\">Float64</th></tr></thead><tbody><tr><th>1</th><td>5.1</td><td>3.5</td><td>1.4</td><td>0.2</td></tr><tr><th>2</th><td>4.9</td><td>3.0</td><td>1.4</td><td>0.2</td></tr><tr><th>3</th><td>4.7</td><td>3.2</td><td>1.3</td><td>0.2</td></tr><tr><th>4</th><td>4.6</td><td>3.1</td><td>1.5</td><td>0.2</td></tr><tr><th>5</th><td>5.0</td><td>3.6</td><td>1.4</td><td>0.2</td></tr><tr><th>6</th><td>5.4</td><td>3.9</td><td>1.7</td><td>0.4</td></tr></tbody></table></div>"
      ],
      "text/latex": [
       "\\begin{tabular}{r|cccc}\n",
       "\t& SepalLength & SepalWidth & PetalLength & PetalWidth\\\\\n",
       "\t\\hline\n",
       "\t& Float64 & Float64 & Float64 & Float64\\\\\n",
       "\t\\hline\n",
       "\t1 & 5.1 & 3.5 & 1.4 & 0.2 \\\\\n",
       "\t2 & 4.9 & 3.0 & 1.4 & 0.2 \\\\\n",
       "\t3 & 4.7 & 3.2 & 1.3 & 0.2 \\\\\n",
       "\t4 & 4.6 & 3.1 & 1.5 & 0.2 \\\\\n",
       "\t5 & 5.0 & 3.6 & 1.4 & 0.2 \\\\\n",
       "\t6 & 5.4 & 3.9 & 1.7 & 0.4 \\\\\n",
       "\\end{tabular}\n"
      ],
      "text/plain": [
       "\u001b[1m6×4 DataFrame\u001b[0m\n",
       "\u001b[1m Row \u001b[0m│\u001b[1m SepalLength \u001b[0m\u001b[1m SepalWidth \u001b[0m\u001b[1m PetalLength \u001b[0m\u001b[1m PetalWidth \u001b[0m\n",
       "\u001b[1m     \u001b[0m│\u001b[90m Float64     \u001b[0m\u001b[90m Float64    \u001b[0m\u001b[90m Float64     \u001b[0m\u001b[90m Float64    \u001b[0m\n",
       "─────┼──────────────────────────────────────────────────\n",
       "   1 │         5.1         3.5          1.4         0.2\n",
       "   2 │         4.9         3.0          1.4         0.2\n",
       "   3 │         4.7         3.2          1.3         0.2\n",
       "   4 │         4.6         3.1          1.5         0.2\n",
       "   5 │         5.0         3.6          1.4         0.2\n",
       "   6 │         5.4         3.9          1.7         0.4"
      ]
     },
     "execution_count": 4,
     "metadata": {},
     "output_type": "execute_result"
    }
   ],
   "source": [
    "y, X = unpack(iris, ==(:Species), colname -> true);\n",
    "first(X, 6)"
   ]
  },
  {
   "cell_type": "markdown",
   "id": "cf7ffe1b-8bf1-46e4-95a7-b3dd978ae288",
   "metadata": {},
   "source": [
    "## Training/testing set"
   ]
  },
  {
   "cell_type": "code",
   "execution_count": 5,
   "id": "4b616d37-0361-457a-887a-ec5093ce932e",
   "metadata": {},
   "outputs": [
    {
     "data": {
      "text/plain": [
       "([33, 93, 140, 66, 27, 14, 136, 25, 76, 106  …  120, 111, 15, 113, 11, 56, 65, 110, 145, 100], [146, 118, 117, 52, 28, 13, 121, 37, 30, 26  …  54, 16, 97, 137, 32, 46, 116, 149, 42, 39])"
      ]
     },
     "execution_count": 5,
     "metadata": {},
     "output_type": "execute_result"
    }
   ],
   "source": [
    "train, test = partition(eachindex(y), 0.8, shuffle=true)"
   ]
  },
  {
   "cell_type": "markdown",
   "id": "104ea178-aeb2-4d9d-a2e4-0f7185027ddd",
   "metadata": {},
   "source": [
    "## Model"
   ]
  },
  {
   "cell_type": "code",
   "execution_count": 6,
   "id": "dc9ec972-3db8-49e5-97ae-2d7cb63abf3f",
   "metadata": {},
   "outputs": [
    {
     "name": "stdout",
     "output_type": "stream",
     "text": [
      "import MLJLinearModels ✔\n"
     ]
    },
    {
     "name": "stderr",
     "output_type": "stream",
     "text": [
      "┌ Info: For silent loading, specify `verbosity=0`. \n",
      "└ @ Main /home/yuehhua/.julia/packages/MLJModels/lDzCR/src/loading.jl:168\n"
     ]
    },
    {
     "data": {
      "text/plain": [
       "MLJLinearModels.LogisticClassifier"
      ]
     },
     "execution_count": 6,
     "metadata": {},
     "output_type": "execute_result"
    }
   ],
   "source": [
    "LogisticClassifier = @load LogisticClassifier pkg=MLJLinearModels"
   ]
  },
  {
   "cell_type": "code",
   "execution_count": 7,
   "id": "cf464428-fc0e-4120-b349-8647930ddc35",
   "metadata": {},
   "outputs": [
    {
     "data": {
      "text/plain": [
       "Pipeline293(\n",
       "  standardizer = Standardizer(\n",
       "        features = Symbol[], \n",
       "        ignore = false, \n",
       "        ordered_factor = false, \n",
       "        count = false), \n",
       "  logistic_classifier = LogisticClassifier(\n",
       "        lambda = 1.0, \n",
       "        gamma = 0.0, \n",
       "        penalty = :l2, \n",
       "        fit_intercept = true, \n",
       "        penalize_intercept = false, \n",
       "        scale_penalty_with_samples = true, \n",
       "        solver = nothing))"
      ]
     },
     "execution_count": 7,
     "metadata": {},
     "output_type": "execute_result"
    }
   ],
   "source": [
    "MyPipeline = @pipeline Standardizer() LogisticClassifier()"
   ]
  },
  {
   "cell_type": "markdown",
   "id": "83a2cea8-dce3-4616-9323-5395e26cc06a",
   "metadata": {},
   "source": [
    "## Training and evaluation"
   ]
  },
  {
   "cell_type": "code",
   "execution_count": 8,
   "id": "e30a735d-8ef3-414a-910d-7aafe420a077",
   "metadata": {},
   "outputs": [
    {
     "name": "stderr",
     "output_type": "stream",
     "text": [
      "\u001b[33mEvaluating over 5 folds: 100%[=========================] Time: 0:00:23\u001b[39m\n"
     ]
    },
    {
     "data": {
      "text/plain": [
       "PerformanceEvaluation object with these fields:\n",
       "  measure, operation, measurement, per_fold,\n",
       "  per_observation, fitted_params_per_fold,\n",
       "  report_per_fold, train_test_rows\n",
       "Extract:\n",
       "┌────────────┬──────────────┬─────────────┬─────────┬───────────────────────────\n",
       "│\u001b[22m measure    \u001b[0m│\u001b[22m operation    \u001b[0m│\u001b[22m measurement \u001b[0m│\u001b[22m 1.96*SE \u001b[0m│\u001b[22m per_fold                \u001b[0m ⋯\n",
       "├────────────┼──────────────┼─────────────┼─────────┼───────────────────────────\n",
       "│ Accuracy() │ predict_mode │ 0.56        │ 0.434   │ [1.0, 0.8, 0.0333, 0.833 ⋯\n",
       "└────────────┴──────────────┴─────────────┴─────────┴───────────────────────────\n",
       "\u001b[36m                                                                1 column omitted\u001b[0m\n"
      ]
     },
     "execution_count": 8,
     "metadata": {},
     "output_type": "execute_result"
    }
   ],
   "source": [
    "evaluate(MyPipeline, X, y, resampling=CV(nfolds=5), measure=accuracy)"
   ]
  },
  {
   "cell_type": "code",
   "execution_count": null,
   "id": "9362e6d6-46df-4e72-9605-6dab2b6ff0e5",
   "metadata": {},
   "outputs": [],
   "source": []
  }
 ],
 "metadata": {
  "kernelspec": {
   "display_name": "Julia 1.7.2",
   "language": "julia",
   "name": "julia-1.7"
  },
  "language_info": {
   "file_extension": ".jl",
   "mimetype": "application/julia",
   "name": "julia",
   "version": "1.7.2"
  }
 },
 "nbformat": 4,
 "nbformat_minor": 5
}
