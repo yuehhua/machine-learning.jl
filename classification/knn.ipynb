{
 "cells": [
  {
   "cell_type": "markdown",
   "metadata": {},
   "source": [
    "# K-Nearest Neighbors"
   ]
  },
  {
   "cell_type": "markdown",
   "metadata": {},
   "source": [
    "## Using NearestNeighbors"
   ]
  },
  {
   "cell_type": "code",
   "execution_count": 1,
   "metadata": {},
   "outputs": [],
   "source": [
    "using NearestNeighbors\n",
    "using RDatasets"
   ]
  },
  {
   "cell_type": "code",
   "execution_count": 2,
   "metadata": {},
   "outputs": [
    {
     "data": {
      "text/plain": [
       "3-element Array{Float64,1}:\n",
       " 0.18410323414446528\n",
       " 0.7459431641981347\n",
       " 0.550775980816407"
      ]
     },
     "execution_count": 2,
     "metadata": {},
     "output_type": "execute_result"
    }
   ],
   "source": [
    "data = rand(3, 10^4)\n",
    "k = 3\n",
    "point = rand(3)"
   ]
  },
  {
   "cell_type": "code",
   "execution_count": 3,
   "metadata": {},
   "outputs": [
    {
     "data": {
      "text/plain": [
       "KDTree{StaticArrays.SArray{Tuple{3},Float64,1,3},Euclidean,Float64}\n",
       "  Number of points: 10000\n",
       "  Dimensions: 3\n",
       "  Metric: Euclidean(0.0)\n",
       "  Reordered: true"
      ]
     },
     "execution_count": 3,
     "metadata": {},
     "output_type": "execute_result"
    }
   ],
   "source": [
    "kdtree = KDTree(data)"
   ]
  },
  {
   "cell_type": "code",
   "execution_count": 4,
   "metadata": {},
   "outputs": [
    {
     "data": {
      "text/plain": [
       "([4786, 2931, 5220], [0.01662805959377539, 0.020823085204417193, 0.02968720655791071])"
      ]
     },
     "execution_count": 4,
     "metadata": {},
     "output_type": "execute_result"
    }
   ],
   "source": [
    "idxs, dists = knn(kdtree, point, k, true)"
   ]
  },
  {
   "cell_type": "markdown",
   "metadata": {},
   "source": [
    "## Using MLJ"
   ]
  },
  {
   "cell_type": "code",
   "execution_count": 5,
   "metadata": {},
   "outputs": [],
   "source": [
    "using MLJ"
   ]
  },
  {
   "cell_type": "markdown",
   "metadata": {},
   "source": [
    "### Load data"
   ]
  },
  {
   "cell_type": "code",
   "execution_count": 6,
   "metadata": {},
   "outputs": [
    {
     "data": {
      "text/html": [
       "<table class=\"data-frame\"><thead><tr><th></th><th>Year</th><th>Lag1</th><th>Lag2</th><th>Lag3</th><th>Lag4</th><th>Lag5</th><th>Volume</th><th>Today</th><th>Direction</th></tr><tr><th></th><th>Float64</th><th>Float64</th><th>Float64</th><th>Float64</th><th>Float64</th><th>Float64</th><th>Float64</th><th>Float64</th><th>Categorical…</th></tr></thead><tbody><p>6 rows × 9 columns</p><tr><th>1</th><td>2001.0</td><td>0.381</td><td>-0.192</td><td>-2.624</td><td>-1.055</td><td>5.01</td><td>1.1913</td><td>0.959</td><td>Up</td></tr><tr><th>2</th><td>2001.0</td><td>0.959</td><td>0.381</td><td>-0.192</td><td>-2.624</td><td>-1.055</td><td>1.2965</td><td>1.032</td><td>Up</td></tr><tr><th>3</th><td>2001.0</td><td>1.032</td><td>0.959</td><td>0.381</td><td>-0.192</td><td>-2.624</td><td>1.4112</td><td>-0.623</td><td>Down</td></tr><tr><th>4</th><td>2001.0</td><td>-0.623</td><td>1.032</td><td>0.959</td><td>0.381</td><td>-0.192</td><td>1.276</td><td>0.614</td><td>Up</td></tr><tr><th>5</th><td>2001.0</td><td>0.614</td><td>-0.623</td><td>1.032</td><td>0.959</td><td>0.381</td><td>1.2057</td><td>0.213</td><td>Up</td></tr><tr><th>6</th><td>2001.0</td><td>0.213</td><td>0.614</td><td>-0.623</td><td>1.032</td><td>0.959</td><td>1.3491</td><td>1.392</td><td>Up</td></tr></tbody></table>"
      ],
      "text/latex": [
       "\\begin{tabular}{r|ccccccccc}\n",
       "\t& Year & Lag1 & Lag2 & Lag3 & Lag4 & Lag5 & Volume & Today & Direction\\\\\n",
       "\t\\hline\n",
       "\t& Float64 & Float64 & Float64 & Float64 & Float64 & Float64 & Float64 & Float64 & Categorical…\\\\\n",
       "\t\\hline\n",
       "\t1 & 2001.0 & 0.381 & -0.192 & -2.624 & -1.055 & 5.01 & 1.1913 & 0.959 & Up \\\\\n",
       "\t2 & 2001.0 & 0.959 & 0.381 & -0.192 & -2.624 & -1.055 & 1.2965 & 1.032 & Up \\\\\n",
       "\t3 & 2001.0 & 1.032 & 0.959 & 0.381 & -0.192 & -2.624 & 1.4112 & -0.623 & Down \\\\\n",
       "\t4 & 2001.0 & -0.623 & 1.032 & 0.959 & 0.381 & -0.192 & 1.276 & 0.614 & Up \\\\\n",
       "\t5 & 2001.0 & 0.614 & -0.623 & 1.032 & 0.959 & 0.381 & 1.2057 & 0.213 & Up \\\\\n",
       "\t6 & 2001.0 & 0.213 & 0.614 & -0.623 & 1.032 & 0.959 & 1.3491 & 1.392 & Up \\\\\n",
       "\\end{tabular}\n"
      ],
      "text/plain": [
       "6×9 DataFrame. Omitted printing of 2 columns\n",
       "│ Row │ Year    │ Lag1    │ Lag2    │ Lag3    │ Lag4    │ Lag5    │ Volume  │\n",
       "│     │ \u001b[90mFloat64\u001b[39m │ \u001b[90mFloat64\u001b[39m │ \u001b[90mFloat64\u001b[39m │ \u001b[90mFloat64\u001b[39m │ \u001b[90mFloat64\u001b[39m │ \u001b[90mFloat64\u001b[39m │ \u001b[90mFloat64\u001b[39m │\n",
       "├─────┼─────────┼─────────┼─────────┼─────────┼─────────┼─────────┼─────────┤\n",
       "│ 1   │ 2001.0  │ 0.381   │ -0.192  │ -2.624  │ -1.055  │ 5.01    │ 1.1913  │\n",
       "│ 2   │ 2001.0  │ 0.959   │ 0.381   │ -0.192  │ -2.624  │ -1.055  │ 1.2965  │\n",
       "│ 3   │ 2001.0  │ 1.032   │ 0.959   │ 0.381   │ -0.192  │ -2.624  │ 1.4112  │\n",
       "│ 4   │ 2001.0  │ -0.623  │ 1.032   │ 0.959   │ 0.381   │ -0.192  │ 1.276   │\n",
       "│ 5   │ 2001.0  │ 0.614   │ -0.623  │ 1.032   │ 0.959   │ 0.381   │ 1.2057  │\n",
       "│ 6   │ 2001.0  │ 0.213   │ 0.614   │ -0.623  │ 1.032   │ 0.959   │ 1.3491  │"
      ]
     },
     "execution_count": 6,
     "metadata": {},
     "output_type": "execute_result"
    }
   ],
   "source": [
    "smarket = dataset(\"ISLR\", \"Smarket\")\n",
    "first(smarket, 6)"
   ]
  },
  {
   "cell_type": "markdown",
   "metadata": {},
   "source": [
    "### Casting scientific types"
   ]
  },
  {
   "cell_type": "code",
   "execution_count": 7,
   "metadata": {},
   "outputs": [
    {
     "data": {
      "text/html": [
       "<table class=\"data-frame\"><thead><tr><th></th><th>Lag1</th><th>Lag2</th><th>Lag3</th><th>Lag4</th><th>Lag5</th><th>Volume</th></tr><tr><th></th><th>Float64</th><th>Float64</th><th>Float64</th><th>Float64</th><th>Float64</th><th>Float64</th></tr></thead><tbody><p>6 rows × 6 columns</p><tr><th>1</th><td>0.381</td><td>-0.192</td><td>-2.624</td><td>-1.055</td><td>5.01</td><td>1.1913</td></tr><tr><th>2</th><td>0.959</td><td>0.381</td><td>-0.192</td><td>-2.624</td><td>-1.055</td><td>1.2965</td></tr><tr><th>3</th><td>1.032</td><td>0.959</td><td>0.381</td><td>-0.192</td><td>-2.624</td><td>1.4112</td></tr><tr><th>4</th><td>-0.623</td><td>1.032</td><td>0.959</td><td>0.381</td><td>-0.192</td><td>1.276</td></tr><tr><th>5</th><td>0.614</td><td>-0.623</td><td>1.032</td><td>0.959</td><td>0.381</td><td>1.2057</td></tr><tr><th>6</th><td>0.213</td><td>0.614</td><td>-0.623</td><td>1.032</td><td>0.959</td><td>1.3491</td></tr></tbody></table>"
      ],
      "text/latex": [
       "\\begin{tabular}{r|cccccc}\n",
       "\t& Lag1 & Lag2 & Lag3 & Lag4 & Lag5 & Volume\\\\\n",
       "\t\\hline\n",
       "\t& Float64 & Float64 & Float64 & Float64 & Float64 & Float64\\\\\n",
       "\t\\hline\n",
       "\t1 & 0.381 & -0.192 & -2.624 & -1.055 & 5.01 & 1.1913 \\\\\n",
       "\t2 & 0.959 & 0.381 & -0.192 & -2.624 & -1.055 & 1.2965 \\\\\n",
       "\t3 & 1.032 & 0.959 & 0.381 & -0.192 & -2.624 & 1.4112 \\\\\n",
       "\t4 & -0.623 & 1.032 & 0.959 & 0.381 & -0.192 & 1.276 \\\\\n",
       "\t5 & 0.614 & -0.623 & 1.032 & 0.959 & 0.381 & 1.2057 \\\\\n",
       "\t6 & 0.213 & 0.614 & -0.623 & 1.032 & 0.959 & 1.3491 \\\\\n",
       "\\end{tabular}\n"
      ],
      "text/plain": [
       "6×6 DataFrame\n",
       "│ Row │ Lag1    │ Lag2    │ Lag3    │ Lag4    │ Lag5    │ Volume  │\n",
       "│     │ \u001b[90mFloat64\u001b[39m │ \u001b[90mFloat64\u001b[39m │ \u001b[90mFloat64\u001b[39m │ \u001b[90mFloat64\u001b[39m │ \u001b[90mFloat64\u001b[39m │ \u001b[90mFloat64\u001b[39m │\n",
       "├─────┼─────────┼─────────┼─────────┼─────────┼─────────┼─────────┤\n",
       "│ 1   │ 0.381   │ -0.192  │ -2.624  │ -1.055  │ 5.01    │ 1.1913  │\n",
       "│ 2   │ 0.959   │ 0.381   │ -0.192  │ -2.624  │ -1.055  │ 1.2965  │\n",
       "│ 3   │ 1.032   │ 0.959   │ 0.381   │ -0.192  │ -2.624  │ 1.4112  │\n",
       "│ 4   │ -0.623  │ 1.032   │ 0.959   │ 0.381   │ -0.192  │ 1.276   │\n",
       "│ 5   │ 0.614   │ -0.623  │ 1.032   │ 0.959   │ 0.381   │ 1.2057  │\n",
       "│ 6   │ 0.213   │ 0.614   │ -0.623  │ 1.032   │ 0.959   │ 1.3491  │"
      ]
     },
     "execution_count": 7,
     "metadata": {},
     "output_type": "execute_result"
    }
   ],
   "source": [
    "y, X = unpack(smarket, ==(:Direction), colname -> true);\n",
    "X = select(X, Not([:Year, :Today]))\n",
    "first(X, 6)"
   ]
  },
  {
   "cell_type": "code",
   "execution_count": 8,
   "metadata": {},
   "outputs": [
    {
     "data": {
      "text/plain": [
       "2-element CategoricalArray{String,1,UInt8}:\n",
       " \"Down\"\n",
       " \"Up\""
      ]
     },
     "execution_count": 8,
     "metadata": {},
     "output_type": "execute_result"
    }
   ],
   "source": [
    "y = coerce(y, OrderedFactor)\n",
    "classes(y[1])"
   ]
  },
  {
   "cell_type": "markdown",
   "metadata": {},
   "source": [
    "### Training/testing set"
   ]
  },
  {
   "cell_type": "code",
   "execution_count": 9,
   "metadata": {},
   "outputs": [
    {
     "data": {
      "text/plain": [
       "([611, 1215, 1026, 660, 727, 484, 207, 176, 355, 951  …  375, 867, 149, 880, 204, 312, 464, 704, 404, 61], [897, 824, 543, 684, 309, 441, 525, 905, 891, 911  …  574, 968, 519, 395, 33, 459, 66, 549, 237, 664])"
      ]
     },
     "execution_count": 9,
     "metadata": {},
     "output_type": "execute_result"
    }
   ],
   "source": [
    "train, test = partition(eachindex(y), 0.7, shuffle=true)"
   ]
  },
  {
   "cell_type": "markdown",
   "metadata": {},
   "source": [
    "### Model"
   ]
  },
  {
   "cell_type": "code",
   "execution_count": 10,
   "metadata": {},
   "outputs": [
    {
     "data": {
      "text/plain": [
       "KNNClassifier(\n",
       "    K = 5,\n",
       "    algorithm = :kdtree,\n",
       "    metric = Euclidean(0.0),\n",
       "    leafsize = 10,\n",
       "    reorder = true,\n",
       "    weights = :uniform)\u001b[34m @ 1…16\u001b[39m"
      ]
     },
     "execution_count": 10,
     "metadata": {},
     "output_type": "execute_result"
    }
   ],
   "source": [
    "model = @load KNNClassifier pkg=NearestNeighbors"
   ]
  },
  {
   "cell_type": "code",
   "execution_count": 11,
   "metadata": {},
   "outputs": [
    {
     "data": {
      "text/plain": [
       "\u001b[34mMachine{KNNClassifier} @ 1…06\u001b[39m\n"
      ]
     },
     "execution_count": 11,
     "metadata": {},
     "output_type": "execute_result"
    }
   ],
   "source": [
    "model.K = 3\n",
    "match = machine(model, X, y)"
   ]
  },
  {
   "cell_type": "markdown",
   "metadata": {},
   "source": [
    "### Training"
   ]
  },
  {
   "cell_type": "code",
   "execution_count": 12,
   "metadata": {},
   "outputs": [
    {
     "name": "stderr",
     "output_type": "stream",
     "text": [
      "┌ Info: Training \u001b[34mMachine{KNNClassifier} @ 1…06\u001b[39m.\n",
      "└ @ MLJBase /home/yuehhua/.julia/packages/MLJBase/O5b6j/src/machines.jl:187\n"
     ]
    },
    {
     "data": {
      "text/plain": [
       "\u001b[34mMachine{KNNClassifier} @ 1…06\u001b[39m\n"
      ]
     },
     "execution_count": 12,
     "metadata": {},
     "output_type": "execute_result"
    }
   ],
   "source": [
    "fit!(match, rows=train)"
   ]
  },
  {
   "cell_type": "markdown",
   "metadata": {},
   "source": [
    "### Predict"
   ]
  },
  {
   "cell_type": "code",
   "execution_count": 13,
   "metadata": {},
   "outputs": [
    {
     "data": {
      "text/plain": [
       "375-element CategoricalArray{String,1,UInt8}:\n",
       " \"Down\"\n",
       " \"Up\"\n",
       " \"Up\"\n",
       " \"Up\"\n",
       " \"Up\"\n",
       " \"Up\"\n",
       " \"Down\"\n",
       " \"Down\"\n",
       " \"Down\"\n",
       " \"Up\"\n",
       " \"Down\"\n",
       " \"Down\"\n",
       " \"Down\"\n",
       " ⋮\n",
       " \"Down\"\n",
       " \"Up\"\n",
       " \"Up\"\n",
       " \"Up\"\n",
       " \"Up\"\n",
       " \"Down\"\n",
       " \"Down\"\n",
       " \"Down\"\n",
       " \"Up\"\n",
       " \"Down\"\n",
       " \"Up\"\n",
       " \"Up\""
      ]
     },
     "execution_count": 13,
     "metadata": {},
     "output_type": "execute_result"
    }
   ],
   "source": [
    "ŷ = predict_mode(match, rows=test)"
   ]
  },
  {
   "cell_type": "markdown",
   "metadata": {},
   "source": [
    "### Evaluation"
   ]
  },
  {
   "cell_type": "code",
   "execution_count": 14,
   "metadata": {},
   "outputs": [
    {
     "data": {
      "text/plain": [
       "0.504"
      ]
     },
     "execution_count": 14,
     "metadata": {},
     "output_type": "execute_result"
    }
   ],
   "source": [
    "accuracy(ŷ, y[test])"
   ]
  },
  {
   "cell_type": "code",
   "execution_count": null,
   "metadata": {},
   "outputs": [],
   "source": []
  }
 ],
 "metadata": {
  "kernelspec": {
   "display_name": "Julia 1.4.0",
   "language": "julia",
   "name": "julia-1.4"
  },
  "language_info": {
   "file_extension": ".jl",
   "mimetype": "application/julia",
   "name": "julia",
   "version": "1.4.2"
  }
 },
 "nbformat": 4,
 "nbformat_minor": 4
}
