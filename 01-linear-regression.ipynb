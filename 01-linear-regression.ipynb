{
 "cells": [
  {
   "cell_type": "markdown",
   "metadata": {
    "slideshow": {
     "slide_type": "slide"
    }
   },
   "source": [
    "# Linear Regression"
   ]
  },
  {
   "cell_type": "markdown",
   "metadata": {},
   "source": [
    "## Using GLM"
   ]
  },
  {
   "cell_type": "code",
   "execution_count": 1,
   "metadata": {},
   "outputs": [],
   "source": [
    "using GLM\n",
    "using RDatasets\n",
    "using MLDataUtils"
   ]
  },
  {
   "cell_type": "markdown",
   "metadata": {
    "slideshow": {
     "slide_type": "slide"
    }
   },
   "source": [
    "### Load data"
   ]
  },
  {
   "cell_type": "code",
   "execution_count": 2,
   "metadata": {},
   "outputs": [
    {
     "data": {
      "text/html": [
       "<table class=\"data-frame\"><thead><tr><th></th><th>Model</th><th>MPG</th><th>Cyl</th><th>Disp</th><th>HP</th><th>DRat</th><th>WT</th><th>QSec</th><th>VS</th></tr><tr><th></th><th>String</th><th>Float64</th><th>Int64</th><th>Float64</th><th>Int64</th><th>Float64</th><th>Float64</th><th>Float64</th><th>Int64</th></tr></thead><tbody><p>6 rows × 12 columns (omitted printing of 3 columns)</p><tr><th>1</th><td>Mazda RX4</td><td>21.0</td><td>6</td><td>160.0</td><td>110</td><td>3.9</td><td>2.62</td><td>16.46</td><td>0</td></tr><tr><th>2</th><td>Mazda RX4 Wag</td><td>21.0</td><td>6</td><td>160.0</td><td>110</td><td>3.9</td><td>2.875</td><td>17.02</td><td>0</td></tr><tr><th>3</th><td>Datsun 710</td><td>22.8</td><td>4</td><td>108.0</td><td>93</td><td>3.85</td><td>2.32</td><td>18.61</td><td>1</td></tr><tr><th>4</th><td>Hornet 4 Drive</td><td>21.4</td><td>6</td><td>258.0</td><td>110</td><td>3.08</td><td>3.215</td><td>19.44</td><td>1</td></tr><tr><th>5</th><td>Hornet Sportabout</td><td>18.7</td><td>8</td><td>360.0</td><td>175</td><td>3.15</td><td>3.44</td><td>17.02</td><td>0</td></tr><tr><th>6</th><td>Valiant</td><td>18.1</td><td>6</td><td>225.0</td><td>105</td><td>2.76</td><td>3.46</td><td>20.22</td><td>1</td></tr></tbody></table>"
      ],
      "text/latex": [
       "\\begin{tabular}{r|cccccccccc}\n",
       "\t& Model & MPG & Cyl & Disp & HP & DRat & WT & QSec & VS & \\\\\n",
       "\t\\hline\n",
       "\t& String & Float64 & Int64 & Float64 & Int64 & Float64 & Float64 & Float64 & Int64 & \\\\\n",
       "\t\\hline\n",
       "\t1 & Mazda RX4 & 21.0 & 6 & 160.0 & 110 & 3.9 & 2.62 & 16.46 & 0 & $\\dots$ \\\\\n",
       "\t2 & Mazda RX4 Wag & 21.0 & 6 & 160.0 & 110 & 3.9 & 2.875 & 17.02 & 0 & $\\dots$ \\\\\n",
       "\t3 & Datsun 710 & 22.8 & 4 & 108.0 & 93 & 3.85 & 2.32 & 18.61 & 1 & $\\dots$ \\\\\n",
       "\t4 & Hornet 4 Drive & 21.4 & 6 & 258.0 & 110 & 3.08 & 3.215 & 19.44 & 1 & $\\dots$ \\\\\n",
       "\t5 & Hornet Sportabout & 18.7 & 8 & 360.0 & 175 & 3.15 & 3.44 & 17.02 & 0 & $\\dots$ \\\\\n",
       "\t6 & Valiant & 18.1 & 6 & 225.0 & 105 & 2.76 & 3.46 & 20.22 & 1 & $\\dots$ \\\\\n",
       "\\end{tabular}\n"
      ],
      "text/plain": [
       "6×12 DataFrame. Omitted printing of 6 columns\n",
       "│ Row │ Model             │ MPG     │ Cyl   │ Disp    │ HP    │ DRat    │\n",
       "│     │ \u001b[90mString\u001b[39m            │ \u001b[90mFloat64\u001b[39m │ \u001b[90mInt64\u001b[39m │ \u001b[90mFloat64\u001b[39m │ \u001b[90mInt64\u001b[39m │ \u001b[90mFloat64\u001b[39m │\n",
       "├─────┼───────────────────┼─────────┼───────┼─────────┼───────┼─────────┤\n",
       "│ 1   │ Mazda RX4         │ 21.0    │ 6     │ 160.0   │ 110   │ 3.9     │\n",
       "│ 2   │ Mazda RX4 Wag     │ 21.0    │ 6     │ 160.0   │ 110   │ 3.9     │\n",
       "│ 3   │ Datsun 710        │ 22.8    │ 4     │ 108.0   │ 93    │ 3.85    │\n",
       "│ 4   │ Hornet 4 Drive    │ 21.4    │ 6     │ 258.0   │ 110   │ 3.08    │\n",
       "│ 5   │ Hornet Sportabout │ 18.7    │ 8     │ 360.0   │ 175   │ 3.15    │\n",
       "│ 6   │ Valiant           │ 18.1    │ 6     │ 225.0   │ 105   │ 2.76    │"
      ]
     },
     "execution_count": 2,
     "metadata": {},
     "output_type": "execute_result"
    }
   ],
   "source": [
    "data = RDatasets.dataset(\"datasets\", \"mtcars\")\n",
    "first(data, 6)"
   ]
  },
  {
   "cell_type": "markdown",
   "metadata": {
    "slideshow": {
     "slide_type": "slide"
    }
   },
   "source": [
    "### Training/Testing set"
   ]
  },
  {
   "cell_type": "code",
   "execution_count": 3,
   "metadata": {},
   "outputs": [],
   "source": [
    "indecies = MLDataUtils.shuffleobs(collect(1:nrow(data)))\n",
    "train_ind, test_ind = MLDataUtils.splitobs(indecies, at = 0.8);"
   ]
  },
  {
   "cell_type": "code",
   "execution_count": 4,
   "metadata": {},
   "outputs": [
    {
     "data": {
      "text/html": [
       "<table class=\"data-frame\"><thead><tr><th></th><th>Model</th><th>MPG</th><th>Cyl</th><th>Disp</th><th>HP</th><th>DRat</th><th>WT</th><th>QSec</th><th>VS</th></tr><tr><th></th><th>String</th><th>Float64</th><th>Int64</th><th>Float64</th><th>Int64</th><th>Float64</th><th>Float64</th><th>Float64</th><th>Int64</th></tr></thead><tbody><p>6 rows × 12 columns (omitted printing of 3 columns)</p><tr><th>1</th><td>Maserati Bora</td><td>15.0</td><td>8</td><td>301.0</td><td>335</td><td>3.54</td><td>3.57</td><td>14.6</td><td>0</td></tr><tr><th>2</th><td>Duster 360</td><td>14.3</td><td>8</td><td>360.0</td><td>245</td><td>3.21</td><td>3.57</td><td>15.84</td><td>0</td></tr><tr><th>3</th><td>Merc 280</td><td>19.2</td><td>6</td><td>167.6</td><td>123</td><td>3.92</td><td>3.44</td><td>18.3</td><td>1</td></tr><tr><th>4</th><td>Toyota Corolla</td><td>33.9</td><td>4</td><td>71.1</td><td>65</td><td>4.22</td><td>1.835</td><td>19.9</td><td>1</td></tr><tr><th>5</th><td>Merc 450SLC</td><td>15.2</td><td>8</td><td>275.8</td><td>180</td><td>3.07</td><td>3.78</td><td>18.0</td><td>0</td></tr><tr><th>6</th><td>Merc 450SL</td><td>17.3</td><td>8</td><td>275.8</td><td>180</td><td>3.07</td><td>3.73</td><td>17.6</td><td>0</td></tr></tbody></table>"
      ],
      "text/latex": [
       "\\begin{tabular}{r|cccccccccc}\n",
       "\t& Model & MPG & Cyl & Disp & HP & DRat & WT & QSec & VS & \\\\\n",
       "\t\\hline\n",
       "\t& String & Float64 & Int64 & Float64 & Int64 & Float64 & Float64 & Float64 & Int64 & \\\\\n",
       "\t\\hline\n",
       "\t1 & Maserati Bora & 15.0 & 8 & 301.0 & 335 & 3.54 & 3.57 & 14.6 & 0 & $\\dots$ \\\\\n",
       "\t2 & Duster 360 & 14.3 & 8 & 360.0 & 245 & 3.21 & 3.57 & 15.84 & 0 & $\\dots$ \\\\\n",
       "\t3 & Merc 280 & 19.2 & 6 & 167.6 & 123 & 3.92 & 3.44 & 18.3 & 1 & $\\dots$ \\\\\n",
       "\t4 & Toyota Corolla & 33.9 & 4 & 71.1 & 65 & 4.22 & 1.835 & 19.9 & 1 & $\\dots$ \\\\\n",
       "\t5 & Merc 450SLC & 15.2 & 8 & 275.8 & 180 & 3.07 & 3.78 & 18.0 & 0 & $\\dots$ \\\\\n",
       "\t6 & Merc 450SL & 17.3 & 8 & 275.8 & 180 & 3.07 & 3.73 & 17.6 & 0 & $\\dots$ \\\\\n",
       "\\end{tabular}\n"
      ],
      "text/plain": [
       "6×12 DataFrame. Omitted printing of 5 columns\n",
       "│ Row │ Model          │ MPG     │ Cyl   │ Disp    │ HP    │ DRat    │ WT      │\n",
       "│     │ \u001b[90mString\u001b[39m         │ \u001b[90mFloat64\u001b[39m │ \u001b[90mInt64\u001b[39m │ \u001b[90mFloat64\u001b[39m │ \u001b[90mInt64\u001b[39m │ \u001b[90mFloat64\u001b[39m │ \u001b[90mFloat64\u001b[39m │\n",
       "├─────┼────────────────┼─────────┼───────┼─────────┼───────┼─────────┼─────────┤\n",
       "│ 1   │ Maserati Bora  │ 15.0    │ 8     │ 301.0   │ 335   │ 3.54    │ 3.57    │\n",
       "│ 2   │ Duster 360     │ 14.3    │ 8     │ 360.0   │ 245   │ 3.21    │ 3.57    │\n",
       "│ 3   │ Merc 280       │ 19.2    │ 6     │ 167.6   │ 123   │ 3.92    │ 3.44    │\n",
       "│ 4   │ Toyota Corolla │ 33.9    │ 4     │ 71.1    │ 65    │ 4.22    │ 1.835   │\n",
       "│ 5   │ Merc 450SLC    │ 15.2    │ 8     │ 275.8   │ 180   │ 3.07    │ 3.78    │\n",
       "│ 6   │ Merc 450SL     │ 17.3    │ 8     │ 275.8   │ 180   │ 3.07    │ 3.73    │"
      ]
     },
     "execution_count": 4,
     "metadata": {},
     "output_type": "execute_result"
    }
   ],
   "source": [
    "train = data[train_ind, :]\n",
    "test = data[test_ind, :]"
   ]
  },
  {
   "cell_type": "markdown",
   "metadata": {
    "slideshow": {
     "slide_type": "slide"
    }
   },
   "source": [
    "### Model"
   ]
  },
  {
   "cell_type": "code",
   "execution_count": 5,
   "metadata": {},
   "outputs": [
    {
     "data": {
      "text/plain": [
       "StatsModels.TableRegressionModel{LinearModel{GLM.LmResp{Array{Float64,1}},GLM.DensePredChol{Float64,LinearAlgebra.Cholesky{Float64,Array{Float64,2}}}},Array{Float64,2}}\n",
       "\n",
       "MPG ~ 1 + Cyl + Disp + HP + DRat + WT + QSec + VS + AM + Gear + Carb\n",
       "\n",
       "Coefficients:\n",
       "──────────────────────────────────────────────────────────────────────────────────\n",
       "               Estimate  Std. Error     t value  Pr(>|t|)    Lower 95%   Upper 95%\n",
       "──────────────────────────────────────────────────────────────────────────────────\n",
       "(Intercept)  26.4146     21.6047      1.22263      0.2403  -19.6346     72.4639\n",
       "Cyl          -0.590615    1.26807    -0.465759     0.6481   -3.29344     2.11221\n",
       "Disp          0.0156236   0.0212651   0.734707     0.4738   -0.0297018   0.060949\n",
       "HP           -0.0383613   0.0288122  -1.33142      0.2029   -0.0997731   0.0230505\n",
       "DRat          0.995973    1.87521     0.531126     0.6031   -3.00095     4.99289\n",
       "WT           -2.6337      2.38469    -1.10442      0.2868   -7.71656     2.44915\n",
       "QSec          0.0205011   0.93341     0.0219636    0.9828   -1.96902     2.01002\n",
       "VS            0.585552    2.50757     0.233514     0.8185   -4.7592      5.93031\n",
       "AM            0.979977    2.4488      0.400186     0.6947   -4.23952     6.19948\n",
       "Gear          1.0855      1.7185      0.631659     0.5371   -2.57738     4.74839\n",
       "Carb         -0.434674    1.00031    -0.434541     0.6701   -2.56678     1.69743\n",
       "──────────────────────────────────────────────────────────────────────────────────"
      ]
     },
     "execution_count": 5,
     "metadata": {},
     "output_type": "execute_result"
    }
   ],
   "source": [
    "ols = GLM.lm(@formula(MPG ~ Cyl + Disp + HP + DRat + WT + QSec + VS + AM + Gear + Carb), train)"
   ]
  },
  {
   "cell_type": "markdown",
   "metadata": {
    "slideshow": {
     "slide_type": "slide"
    }
   },
   "source": [
    "### Prediction"
   ]
  },
  {
   "cell_type": "code",
   "execution_count": 6,
   "metadata": {},
   "outputs": [
    {
     "data": {
      "text/plain": [
       "6-element Array{Union{Missing, Float64},1}:\n",
       " 10.894192349816905\n",
       " 13.552961534673093\n",
       " 19.17930062232591\n",
       " 27.9204981478803\n",
       " 14.517381360702817\n",
       " 14.6408661395037"
      ]
     },
     "execution_count": 6,
     "metadata": {},
     "output_type": "execute_result"
    }
   ],
   "source": [
    "predict(ols, test)"
   ]
  },
  {
   "cell_type": "markdown",
   "metadata": {
    "slideshow": {
     "slide_type": "slide"
    }
   },
   "source": [
    "### Validation"
   ]
  },
  {
   "cell_type": "code",
   "execution_count": 7,
   "metadata": {},
   "outputs": [
    {
     "data": {
      "text/plain": [
       "0.8660455449392241"
      ]
     },
     "execution_count": 7,
     "metadata": {},
     "output_type": "execute_result"
    }
   ],
   "source": [
    "GLM.r²(ols)"
   ]
  },
  {
   "cell_type": "markdown",
   "metadata": {},
   "source": [
    "## Using MLJ"
   ]
  },
  {
   "cell_type": "code",
   "execution_count": 8,
   "metadata": {},
   "outputs": [
    {
     "name": "stderr",
     "output_type": "stream",
     "text": [
      "WARNING: using MLJ.predict in module Main conflicts with an existing identifier.\n"
     ]
    }
   ],
   "source": [
    "using MLJ"
   ]
  },
  {
   "cell_type": "markdown",
   "metadata": {},
   "source": [
    "### Casting scientific tpes"
   ]
  },
  {
   "cell_type": "code",
   "execution_count": 9,
   "metadata": {},
   "outputs": [
    {
     "data": {
      "text/html": [
       "<table class=\"data-frame\"><thead><tr><th></th><th>Cyl</th><th>Disp</th><th>HP</th><th>DRat</th><th>WT</th><th>QSec</th><th>VS</th><th>AM</th><th>Gear</th><th>Carb</th></tr><tr><th></th><th>Int64</th><th>Float64</th><th>Int64</th><th>Float64</th><th>Float64</th><th>Float64</th><th>Int64</th><th>Int64</th><th>Int64</th><th>Int64</th></tr></thead><tbody><p>6 rows × 10 columns</p><tr><th>1</th><td>6</td><td>160.0</td><td>110</td><td>3.9</td><td>2.62</td><td>16.46</td><td>0</td><td>1</td><td>4</td><td>4</td></tr><tr><th>2</th><td>6</td><td>160.0</td><td>110</td><td>3.9</td><td>2.875</td><td>17.02</td><td>0</td><td>1</td><td>4</td><td>4</td></tr><tr><th>3</th><td>4</td><td>108.0</td><td>93</td><td>3.85</td><td>2.32</td><td>18.61</td><td>1</td><td>1</td><td>4</td><td>1</td></tr><tr><th>4</th><td>6</td><td>258.0</td><td>110</td><td>3.08</td><td>3.215</td><td>19.44</td><td>1</td><td>0</td><td>3</td><td>1</td></tr><tr><th>5</th><td>8</td><td>360.0</td><td>175</td><td>3.15</td><td>3.44</td><td>17.02</td><td>0</td><td>0</td><td>3</td><td>2</td></tr><tr><th>6</th><td>6</td><td>225.0</td><td>105</td><td>2.76</td><td>3.46</td><td>20.22</td><td>1</td><td>0</td><td>3</td><td>1</td></tr></tbody></table>"
      ],
      "text/latex": [
       "\\begin{tabular}{r|cccccccccc}\n",
       "\t& Cyl & Disp & HP & DRat & WT & QSec & VS & AM & Gear & Carb\\\\\n",
       "\t\\hline\n",
       "\t& Int64 & Float64 & Int64 & Float64 & Float64 & Float64 & Int64 & Int64 & Int64 & Int64\\\\\n",
       "\t\\hline\n",
       "\t1 & 6 & 160.0 & 110 & 3.9 & 2.62 & 16.46 & 0 & 1 & 4 & 4 \\\\\n",
       "\t2 & 6 & 160.0 & 110 & 3.9 & 2.875 & 17.02 & 0 & 1 & 4 & 4 \\\\\n",
       "\t3 & 4 & 108.0 & 93 & 3.85 & 2.32 & 18.61 & 1 & 1 & 4 & 1 \\\\\n",
       "\t4 & 6 & 258.0 & 110 & 3.08 & 3.215 & 19.44 & 1 & 0 & 3 & 1 \\\\\n",
       "\t5 & 8 & 360.0 & 175 & 3.15 & 3.44 & 17.02 & 0 & 0 & 3 & 2 \\\\\n",
       "\t6 & 6 & 225.0 & 105 & 2.76 & 3.46 & 20.22 & 1 & 0 & 3 & 1 \\\\\n",
       "\\end{tabular}\n"
      ],
      "text/plain": [
       "6×10 DataFrame. Omitted printing of 2 columns\n",
       "│ Row │ Cyl   │ Disp    │ HP    │ DRat    │ WT      │ QSec    │ VS    │ AM    │\n",
       "│     │ \u001b[90mInt64\u001b[39m │ \u001b[90mFloat64\u001b[39m │ \u001b[90mInt64\u001b[39m │ \u001b[90mFloat64\u001b[39m │ \u001b[90mFloat64\u001b[39m │ \u001b[90mFloat64\u001b[39m │ \u001b[90mInt64\u001b[39m │ \u001b[90mInt64\u001b[39m │\n",
       "├─────┼───────┼─────────┼───────┼─────────┼─────────┼─────────┼───────┼───────┤\n",
       "│ 1   │ 6     │ 160.0   │ 110   │ 3.9     │ 2.62    │ 16.46   │ 0     │ 1     │\n",
       "│ 2   │ 6     │ 160.0   │ 110   │ 3.9     │ 2.875   │ 17.02   │ 0     │ 1     │\n",
       "│ 3   │ 4     │ 108.0   │ 93    │ 3.85    │ 2.32    │ 18.61   │ 1     │ 1     │\n",
       "│ 4   │ 6     │ 258.0   │ 110   │ 3.08    │ 3.215   │ 19.44   │ 1     │ 0     │\n",
       "│ 5   │ 8     │ 360.0   │ 175   │ 3.15    │ 3.44    │ 17.02   │ 0     │ 0     │\n",
       "│ 6   │ 6     │ 225.0   │ 105   │ 2.76    │ 3.46    │ 20.22   │ 1     │ 0     │"
      ]
     },
     "execution_count": 9,
     "metadata": {},
     "output_type": "execute_result"
    }
   ],
   "source": [
    "y, X = unpack(data[!, 2:end], ==(:MPG), colname -> true);\n",
    "first(X, 6)"
   ]
  },
  {
   "cell_type": "code",
   "execution_count": 10,
   "metadata": {},
   "outputs": [
    {
     "name": "stdout",
     "output_type": "stream",
     "text": [
      "┌\u001b[0m───────\u001b[0m┬\u001b[0m────────────\u001b[0m┬\u001b[0m───────\u001b[0m┬\u001b[0m────────────\u001b[0m┬\u001b[0m────────────\u001b[0m┬\u001b[0m────────────\u001b[0m┬\u001b[0m───────\u001b[0m┬\u001b[0m─\u001b[0m ⋯\n",
      "│\u001b[0m\u001b[1m Cyl   \u001b[0m│\u001b[0m\u001b[1m Disp       \u001b[0m│\u001b[0m\u001b[1m HP    \u001b[0m│\u001b[0m\u001b[1m DRat       \u001b[0m│\u001b[0m\u001b[1m WT         \u001b[0m│\u001b[0m\u001b[1m QSec       \u001b[0m│\u001b[0m\u001b[1m VS    \u001b[0m│\u001b[0m\u001b[1m \u001b[0m ⋯\n",
      "│\u001b[0m\u001b[90m Int64 \u001b[0m│\u001b[0m\u001b[90m Float64    \u001b[0m│\u001b[0m\u001b[90m Int64 \u001b[0m│\u001b[0m\u001b[90m Float64    \u001b[0m│\u001b[0m\u001b[90m Float64    \u001b[0m│\u001b[0m\u001b[90m Float64    \u001b[0m│\u001b[0m\u001b[90m Int64 \u001b[0m│\u001b[0m\u001b[90m \u001b[0m ⋯\n",
      "│\u001b[0m\u001b[90m Count \u001b[0m│\u001b[0m\u001b[90m Continuous \u001b[0m│\u001b[0m\u001b[90m Count \u001b[0m│\u001b[0m\u001b[90m Continuous \u001b[0m│\u001b[0m\u001b[90m Continuous \u001b[0m│\u001b[0m\u001b[90m Continuous \u001b[0m│\u001b[0m\u001b[90m Count \u001b[0m│\u001b[0m\u001b[90m \u001b[0m ⋯\n",
      "├\u001b[0m───────\u001b[0m┼\u001b[0m────────────\u001b[0m┼\u001b[0m───────\u001b[0m┼\u001b[0m────────────\u001b[0m┼\u001b[0m────────────\u001b[0m┼\u001b[0m────────────\u001b[0m┼\u001b[0m───────\u001b[0m┼\u001b[0m─\u001b[0m ⋯\n",
      "│\u001b[0m 6.0   \u001b[0m│\u001b[0m 160.0      \u001b[0m│\u001b[0m 110.0 \u001b[0m│\u001b[0m 3.9        \u001b[0m│\u001b[0m 2.62       \u001b[0m│\u001b[0m 16.46      \u001b[0m│\u001b[0m 0.0   \u001b[0m│\u001b[0m \u001b[0m ⋯\n",
      "│\u001b[0m 6.0   \u001b[0m│\u001b[0m 160.0      \u001b[0m│\u001b[0m 110.0 \u001b[0m│\u001b[0m 3.9        \u001b[0m│\u001b[0m 2.875      \u001b[0m│\u001b[0m 17.02      \u001b[0m│\u001b[0m 0.0   \u001b[0m│\u001b[0m \u001b[0m ⋯\n",
      "│\u001b[0m 4.0   \u001b[0m│\u001b[0m 108.0      \u001b[0m│\u001b[0m 93.0  \u001b[0m│\u001b[0m 3.85       \u001b[0m│\u001b[0m 2.32       \u001b[0m│\u001b[0m 18.61      \u001b[0m│\u001b[0m 1.0   \u001b[0m│\u001b[0m \u001b[0m ⋯\n",
      "│\u001b[0m 6.0   \u001b[0m│\u001b[0m 258.0      \u001b[0m│\u001b[0m 110.0 \u001b[0m│\u001b[0m 3.08       \u001b[0m│\u001b[0m 3.215      \u001b[0m│\u001b[0m 19.44      \u001b[0m│\u001b[0m 1.0   \u001b[0m│\u001b[0m \u001b[0m ⋯\n",
      "│\u001b[0m 8.0   \u001b[0m│\u001b[0m 360.0      \u001b[0m│\u001b[0m 175.0 \u001b[0m│\u001b[0m 3.15       \u001b[0m│\u001b[0m 3.44       \u001b[0m│\u001b[0m 17.02      \u001b[0m│\u001b[0m 0.0   \u001b[0m│\u001b[0m \u001b[0m ⋯\n",
      "│\u001b[0m 6.0   \u001b[0m│\u001b[0m 225.0      \u001b[0m│\u001b[0m 105.0 \u001b[0m│\u001b[0m 2.76       \u001b[0m│\u001b[0m 3.46       \u001b[0m│\u001b[0m 20.22      \u001b[0m│\u001b[0m 1.0   \u001b[0m│\u001b[0m \u001b[0m ⋯\n",
      "└\u001b[0m───────\u001b[0m┴\u001b[0m────────────\u001b[0m┴\u001b[0m───────\u001b[0m┴\u001b[0m────────────\u001b[0m┴\u001b[0m────────────\u001b[0m┴\u001b[0m────────────\u001b[0m┴\u001b[0m───────\u001b[0m┴\u001b[0m─\u001b[0m ⋯\n"
     ]
    }
   ],
   "source": [
    "first(X, 6) |> pretty"
   ]
  },
  {
   "cell_type": "code",
   "execution_count": 11,
   "metadata": {},
   "outputs": [
    {
     "data": {
      "text/html": [
       "<table class=\"data-frame\"><thead><tr><th></th><th>Cyl</th><th>Disp</th><th>HP</th><th>DRat</th><th>WT</th><th>QSec</th><th>VS</th><th>AM</th><th>Gear</th></tr><tr><th></th><th>Float64</th><th>Float64</th><th>Float64</th><th>Float64</th><th>Float64</th><th>Float64</th><th>Float64</th><th>Float64</th><th>Float64</th></tr></thead><tbody><p>6 rows × 10 columns (omitted printing of 1 columns)</p><tr><th>1</th><td>6.0</td><td>160.0</td><td>110.0</td><td>3.9</td><td>2.62</td><td>16.46</td><td>0.0</td><td>1.0</td><td>4.0</td></tr><tr><th>2</th><td>6.0</td><td>160.0</td><td>110.0</td><td>3.9</td><td>2.875</td><td>17.02</td><td>0.0</td><td>1.0</td><td>4.0</td></tr><tr><th>3</th><td>4.0</td><td>108.0</td><td>93.0</td><td>3.85</td><td>2.32</td><td>18.61</td><td>1.0</td><td>1.0</td><td>4.0</td></tr><tr><th>4</th><td>6.0</td><td>258.0</td><td>110.0</td><td>3.08</td><td>3.215</td><td>19.44</td><td>1.0</td><td>0.0</td><td>3.0</td></tr><tr><th>5</th><td>8.0</td><td>360.0</td><td>175.0</td><td>3.15</td><td>3.44</td><td>17.02</td><td>0.0</td><td>0.0</td><td>3.0</td></tr><tr><th>6</th><td>6.0</td><td>225.0</td><td>105.0</td><td>2.76</td><td>3.46</td><td>20.22</td><td>1.0</td><td>0.0</td><td>3.0</td></tr></tbody></table>"
      ],
      "text/latex": [
       "\\begin{tabular}{r|cccccccccc}\n",
       "\t& Cyl & Disp & HP & DRat & WT & QSec & VS & AM & Gear & \\\\\n",
       "\t\\hline\n",
       "\t& Float64 & Float64 & Float64 & Float64 & Float64 & Float64 & Float64 & Float64 & Float64 & \\\\\n",
       "\t\\hline\n",
       "\t1 & 6.0 & 160.0 & 110.0 & 3.9 & 2.62 & 16.46 & 0.0 & 1.0 & 4.0 & $\\dots$ \\\\\n",
       "\t2 & 6.0 & 160.0 & 110.0 & 3.9 & 2.875 & 17.02 & 0.0 & 1.0 & 4.0 & $\\dots$ \\\\\n",
       "\t3 & 4.0 & 108.0 & 93.0 & 3.85 & 2.32 & 18.61 & 1.0 & 1.0 & 4.0 & $\\dots$ \\\\\n",
       "\t4 & 6.0 & 258.0 & 110.0 & 3.08 & 3.215 & 19.44 & 1.0 & 0.0 & 3.0 & $\\dots$ \\\\\n",
       "\t5 & 8.0 & 360.0 & 175.0 & 3.15 & 3.44 & 17.02 & 0.0 & 0.0 & 3.0 & $\\dots$ \\\\\n",
       "\t6 & 6.0 & 225.0 & 105.0 & 2.76 & 3.46 & 20.22 & 1.0 & 0.0 & 3.0 & $\\dots$ \\\\\n",
       "\\end{tabular}\n"
      ],
      "text/plain": [
       "6×10 DataFrame. Omitted printing of 3 columns\n",
       "│ Row │ Cyl     │ Disp    │ HP      │ DRat    │ WT      │ QSec    │ VS      │\n",
       "│     │ \u001b[90mFloat64\u001b[39m │ \u001b[90mFloat64\u001b[39m │ \u001b[90mFloat64\u001b[39m │ \u001b[90mFloat64\u001b[39m │ \u001b[90mFloat64\u001b[39m │ \u001b[90mFloat64\u001b[39m │ \u001b[90mFloat64\u001b[39m │\n",
       "├─────┼─────────┼─────────┼─────────┼─────────┼─────────┼─────────┼─────────┤\n",
       "│ 1   │ 6.0     │ 160.0   │ 110.0   │ 3.9     │ 2.62    │ 16.46   │ 0.0     │\n",
       "│ 2   │ 6.0     │ 160.0   │ 110.0   │ 3.9     │ 2.875   │ 17.02   │ 0.0     │\n",
       "│ 3   │ 4.0     │ 108.0   │ 93.0    │ 3.85    │ 2.32    │ 18.61   │ 1.0     │\n",
       "│ 4   │ 6.0     │ 258.0   │ 110.0   │ 3.08    │ 3.215   │ 19.44   │ 1.0     │\n",
       "│ 5   │ 8.0     │ 360.0   │ 175.0   │ 3.15    │ 3.44    │ 17.02   │ 0.0     │\n",
       "│ 6   │ 6.0     │ 225.0   │ 105.0   │ 2.76    │ 3.46    │ 20.22   │ 1.0     │"
      ]
     },
     "execution_count": 11,
     "metadata": {},
     "output_type": "execute_result"
    }
   ],
   "source": [
    "X = coerce(X, :Cyl => Continuous, :HP => Continuous, :VS => Continuous, :AM => Continuous,\n",
    "              :Gear => Continuous, :Carb  => Continuous)\n",
    "first(X, 6)"
   ]
  },
  {
   "cell_type": "markdown",
   "metadata": {},
   "source": [
    "### Training/testing set"
   ]
  },
  {
   "cell_type": "code",
   "execution_count": 12,
   "metadata": {},
   "outputs": [
    {
     "data": {
      "text/plain": [
       "([23, 15, 2, 11, 1, 22, 16, 29, 7, 9  …  6, 13, 10, 24, 14, 5, 3, 21, 4, 19], [12, 8, 25, 27, 31, 17, 18, 30, 32, 20])"
      ]
     },
     "execution_count": 12,
     "metadata": {},
     "output_type": "execute_result"
    }
   ],
   "source": [
    "train, test = partition(eachindex(y), 0.7, shuffle=true)"
   ]
  },
  {
   "cell_type": "markdown",
   "metadata": {},
   "source": [
    "### Model"
   ]
  },
  {
   "cell_type": "code",
   "execution_count": 13,
   "metadata": {},
   "outputs": [
    {
     "data": {
      "text/plain": [
       "LinearRegressor(\n",
       "    fit_intercept = true,\n",
       "    allowrankdeficient = false)\u001b[34m @ 1…64\u001b[39m"
      ]
     },
     "execution_count": 13,
     "metadata": {},
     "output_type": "execute_result"
    }
   ],
   "source": [
    "model = @load LinearRegressor pkg=GLM"
   ]
  },
  {
   "cell_type": "code",
   "execution_count": 14,
   "metadata": {},
   "outputs": [
    {
     "data": {
      "text/plain": [
       "\u001b[34mMachine{LinearRegressor} @ 1…52\u001b[39m\n"
      ]
     },
     "execution_count": 14,
     "metadata": {},
     "output_type": "execute_result"
    }
   ],
   "source": [
    "mach = machine(model, X, y)"
   ]
  },
  {
   "cell_type": "markdown",
   "metadata": {},
   "source": [
    "### Training"
   ]
  },
  {
   "cell_type": "code",
   "execution_count": 15,
   "metadata": {},
   "outputs": [
    {
     "name": "stderr",
     "output_type": "stream",
     "text": [
      "┌ Info: Training \u001b[34mMachine{LinearRegressor} @ 1…52\u001b[39m.\n",
      "└ @ MLJBase /home/yuehhua/.julia/packages/MLJBase/qJs1o/src/machines.jl:182\n"
     ]
    },
    {
     "data": {
      "text/plain": [
       "\u001b[34mMachine{LinearRegressor} @ 1…52\u001b[39m\n"
      ]
     },
     "execution_count": 15,
     "metadata": {},
     "output_type": "execute_result"
    }
   ],
   "source": [
    "fit!(mach, rows=train)"
   ]
  },
  {
   "cell_type": "markdown",
   "metadata": {},
   "source": [
    "### Predict"
   ]
  },
  {
   "cell_type": "code",
   "execution_count": 16,
   "metadata": {},
   "outputs": [
    {
     "data": {
      "text/plain": [
       "10-element Array{Float64,1}:\n",
       " 12.05067537141278\n",
       " 21.592647112997337\n",
       " 15.926228647069108\n",
       " 23.649360616726838\n",
       " 15.707714578491686\n",
       "  7.8945560241360155\n",
       " 25.259911599486497\n",
       " 20.743055578234383\n",
       " 21.68606014203565\n",
       " 27.711459523673255"
      ]
     },
     "execution_count": 16,
     "metadata": {},
     "output_type": "execute_result"
    }
   ],
   "source": [
    "ŷ = predict_mean(mach, rows=test)"
   ]
  },
  {
   "cell_type": "markdown",
   "metadata": {},
   "source": [
    "### Evaluation"
   ]
  },
  {
   "cell_type": "code",
   "execution_count": 17,
   "metadata": {},
   "outputs": [
    {
     "data": {
      "text/plain": [
       "4.246228419552175"
      ]
     },
     "execution_count": 17,
     "metadata": {},
     "output_type": "execute_result"
    }
   ],
   "source": [
    "rms(ŷ, y[test])"
   ]
  },
  {
   "cell_type": "code",
   "execution_count": null,
   "metadata": {},
   "outputs": [],
   "source": []
  }
 ],
 "metadata": {
  "kernelspec": {
   "display_name": "Julia v1.4 [compiled] 1.4.1",
   "language": "julia",
   "name": "julia-v1.4-[compiled]-1.4"
  },
  "language_info": {
   "file_extension": ".jl",
   "mimetype": "application/julia",
   "name": "julia",
   "version": "1.4.1"
  }
 },
 "nbformat": 4,
 "nbformat_minor": 4
}
