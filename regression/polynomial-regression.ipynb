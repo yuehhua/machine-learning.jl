{
 "cells": [
  {
   "cell_type": "markdown",
   "metadata": {},
   "source": [
    "# Ploynomial regression"
   ]
  },
  {
   "cell_type": "markdown",
   "metadata": {},
   "source": [
    "## Using MLJ"
   ]
  },
  {
   "cell_type": "code",
   "execution_count": 1,
   "metadata": {},
   "outputs": [],
   "source": [
    "using MLJ, RDatasets"
   ]
  },
  {
   "cell_type": "markdown",
   "metadata": {},
   "source": [
    "### Load data"
   ]
  },
  {
   "cell_type": "code",
   "execution_count": 2,
   "metadata": {},
   "outputs": [
    {
     "data": {
      "text/html": [
       "<table class=\"data-frame\"><thead><tr><th></th><th>MPG</th><th>Cylinders</th><th>Displacement</th><th>Horsepower</th><th>Weight</th><th>Acceleration</th><th>Year</th><th>Origin</th></tr><tr><th></th><th>Float64</th><th>Float64</th><th>Float64</th><th>Float64</th><th>Float64</th><th>Float64</th><th>Float64</th><th>Float64</th></tr></thead><tbody><p>392 rows × 9 columns (omitted printing of 1 columns)</p><tr><th>1</th><td>18.0</td><td>8.0</td><td>307.0</td><td>130.0</td><td>3504.0</td><td>12.0</td><td>70.0</td><td>1.0</td></tr><tr><th>2</th><td>15.0</td><td>8.0</td><td>350.0</td><td>165.0</td><td>3693.0</td><td>11.5</td><td>70.0</td><td>1.0</td></tr><tr><th>3</th><td>18.0</td><td>8.0</td><td>318.0</td><td>150.0</td><td>3436.0</td><td>11.0</td><td>70.0</td><td>1.0</td></tr><tr><th>4</th><td>16.0</td><td>8.0</td><td>304.0</td><td>150.0</td><td>3433.0</td><td>12.0</td><td>70.0</td><td>1.0</td></tr><tr><th>5</th><td>17.0</td><td>8.0</td><td>302.0</td><td>140.0</td><td>3449.0</td><td>10.5</td><td>70.0</td><td>1.0</td></tr><tr><th>6</th><td>15.0</td><td>8.0</td><td>429.0</td><td>198.0</td><td>4341.0</td><td>10.0</td><td>70.0</td><td>1.0</td></tr><tr><th>7</th><td>14.0</td><td>8.0</td><td>454.0</td><td>220.0</td><td>4354.0</td><td>9.0</td><td>70.0</td><td>1.0</td></tr><tr><th>8</th><td>14.0</td><td>8.0</td><td>440.0</td><td>215.0</td><td>4312.0</td><td>8.5</td><td>70.0</td><td>1.0</td></tr><tr><th>9</th><td>14.0</td><td>8.0</td><td>455.0</td><td>225.0</td><td>4425.0</td><td>10.0</td><td>70.0</td><td>1.0</td></tr><tr><th>10</th><td>15.0</td><td>8.0</td><td>390.0</td><td>190.0</td><td>3850.0</td><td>8.5</td><td>70.0</td><td>1.0</td></tr><tr><th>11</th><td>15.0</td><td>8.0</td><td>383.0</td><td>170.0</td><td>3563.0</td><td>10.0</td><td>70.0</td><td>1.0</td></tr><tr><th>12</th><td>14.0</td><td>8.0</td><td>340.0</td><td>160.0</td><td>3609.0</td><td>8.0</td><td>70.0</td><td>1.0</td></tr><tr><th>13</th><td>15.0</td><td>8.0</td><td>400.0</td><td>150.0</td><td>3761.0</td><td>9.5</td><td>70.0</td><td>1.0</td></tr><tr><th>14</th><td>14.0</td><td>8.0</td><td>455.0</td><td>225.0</td><td>3086.0</td><td>10.0</td><td>70.0</td><td>1.0</td></tr><tr><th>15</th><td>24.0</td><td>4.0</td><td>113.0</td><td>95.0</td><td>2372.0</td><td>15.0</td><td>70.0</td><td>3.0</td></tr><tr><th>16</th><td>22.0</td><td>6.0</td><td>198.0</td><td>95.0</td><td>2833.0</td><td>15.5</td><td>70.0</td><td>1.0</td></tr><tr><th>17</th><td>18.0</td><td>6.0</td><td>199.0</td><td>97.0</td><td>2774.0</td><td>15.5</td><td>70.0</td><td>1.0</td></tr><tr><th>18</th><td>21.0</td><td>6.0</td><td>200.0</td><td>85.0</td><td>2587.0</td><td>16.0</td><td>70.0</td><td>1.0</td></tr><tr><th>19</th><td>27.0</td><td>4.0</td><td>97.0</td><td>88.0</td><td>2130.0</td><td>14.5</td><td>70.0</td><td>3.0</td></tr><tr><th>20</th><td>26.0</td><td>4.0</td><td>97.0</td><td>46.0</td><td>1835.0</td><td>20.5</td><td>70.0</td><td>2.0</td></tr><tr><th>21</th><td>25.0</td><td>4.0</td><td>110.0</td><td>87.0</td><td>2672.0</td><td>17.5</td><td>70.0</td><td>2.0</td></tr><tr><th>22</th><td>24.0</td><td>4.0</td><td>107.0</td><td>90.0</td><td>2430.0</td><td>14.5</td><td>70.0</td><td>2.0</td></tr><tr><th>23</th><td>25.0</td><td>4.0</td><td>104.0</td><td>95.0</td><td>2375.0</td><td>17.5</td><td>70.0</td><td>2.0</td></tr><tr><th>24</th><td>26.0</td><td>4.0</td><td>121.0</td><td>113.0</td><td>2234.0</td><td>12.5</td><td>70.0</td><td>2.0</td></tr><tr><th>25</th><td>21.0</td><td>6.0</td><td>199.0</td><td>90.0</td><td>2648.0</td><td>15.0</td><td>70.0</td><td>1.0</td></tr><tr><th>26</th><td>10.0</td><td>8.0</td><td>360.0</td><td>215.0</td><td>4615.0</td><td>14.0</td><td>70.0</td><td>1.0</td></tr><tr><th>27</th><td>10.0</td><td>8.0</td><td>307.0</td><td>200.0</td><td>4376.0</td><td>15.0</td><td>70.0</td><td>1.0</td></tr><tr><th>28</th><td>11.0</td><td>8.0</td><td>318.0</td><td>210.0</td><td>4382.0</td><td>13.5</td><td>70.0</td><td>1.0</td></tr><tr><th>29</th><td>9.0</td><td>8.0</td><td>304.0</td><td>193.0</td><td>4732.0</td><td>18.5</td><td>70.0</td><td>1.0</td></tr><tr><th>30</th><td>27.0</td><td>4.0</td><td>97.0</td><td>88.0</td><td>2130.0</td><td>14.5</td><td>71.0</td><td>3.0</td></tr><tr><th>&vellip;</th><td>&vellip;</td><td>&vellip;</td><td>&vellip;</td><td>&vellip;</td><td>&vellip;</td><td>&vellip;</td><td>&vellip;</td><td>&vellip;</td></tr></tbody></table>"
      ],
      "text/latex": [
       "\\begin{tabular}{r|ccccccccc}\n",
       "\t& MPG & Cylinders & Displacement & Horsepower & Weight & Acceleration & Year & Origin & \\\\\n",
       "\t\\hline\n",
       "\t& Float64 & Float64 & Float64 & Float64 & Float64 & Float64 & Float64 & Float64 & \\\\\n",
       "\t\\hline\n",
       "\t1 & 18.0 & 8.0 & 307.0 & 130.0 & 3504.0 & 12.0 & 70.0 & 1.0 & $\\dots$ \\\\\n",
       "\t2 & 15.0 & 8.0 & 350.0 & 165.0 & 3693.0 & 11.5 & 70.0 & 1.0 & $\\dots$ \\\\\n",
       "\t3 & 18.0 & 8.0 & 318.0 & 150.0 & 3436.0 & 11.0 & 70.0 & 1.0 & $\\dots$ \\\\\n",
       "\t4 & 16.0 & 8.0 & 304.0 & 150.0 & 3433.0 & 12.0 & 70.0 & 1.0 & $\\dots$ \\\\\n",
       "\t5 & 17.0 & 8.0 & 302.0 & 140.0 & 3449.0 & 10.5 & 70.0 & 1.0 & $\\dots$ \\\\\n",
       "\t6 & 15.0 & 8.0 & 429.0 & 198.0 & 4341.0 & 10.0 & 70.0 & 1.0 & $\\dots$ \\\\\n",
       "\t7 & 14.0 & 8.0 & 454.0 & 220.0 & 4354.0 & 9.0 & 70.0 & 1.0 & $\\dots$ \\\\\n",
       "\t8 & 14.0 & 8.0 & 440.0 & 215.0 & 4312.0 & 8.5 & 70.0 & 1.0 & $\\dots$ \\\\\n",
       "\t9 & 14.0 & 8.0 & 455.0 & 225.0 & 4425.0 & 10.0 & 70.0 & 1.0 & $\\dots$ \\\\\n",
       "\t10 & 15.0 & 8.0 & 390.0 & 190.0 & 3850.0 & 8.5 & 70.0 & 1.0 & $\\dots$ \\\\\n",
       "\t11 & 15.0 & 8.0 & 383.0 & 170.0 & 3563.0 & 10.0 & 70.0 & 1.0 & $\\dots$ \\\\\n",
       "\t12 & 14.0 & 8.0 & 340.0 & 160.0 & 3609.0 & 8.0 & 70.0 & 1.0 & $\\dots$ \\\\\n",
       "\t13 & 15.0 & 8.0 & 400.0 & 150.0 & 3761.0 & 9.5 & 70.0 & 1.0 & $\\dots$ \\\\\n",
       "\t14 & 14.0 & 8.0 & 455.0 & 225.0 & 3086.0 & 10.0 & 70.0 & 1.0 & $\\dots$ \\\\\n",
       "\t15 & 24.0 & 4.0 & 113.0 & 95.0 & 2372.0 & 15.0 & 70.0 & 3.0 & $\\dots$ \\\\\n",
       "\t16 & 22.0 & 6.0 & 198.0 & 95.0 & 2833.0 & 15.5 & 70.0 & 1.0 & $\\dots$ \\\\\n",
       "\t17 & 18.0 & 6.0 & 199.0 & 97.0 & 2774.0 & 15.5 & 70.0 & 1.0 & $\\dots$ \\\\\n",
       "\t18 & 21.0 & 6.0 & 200.0 & 85.0 & 2587.0 & 16.0 & 70.0 & 1.0 & $\\dots$ \\\\\n",
       "\t19 & 27.0 & 4.0 & 97.0 & 88.0 & 2130.0 & 14.5 & 70.0 & 3.0 & $\\dots$ \\\\\n",
       "\t20 & 26.0 & 4.0 & 97.0 & 46.0 & 1835.0 & 20.5 & 70.0 & 2.0 & $\\dots$ \\\\\n",
       "\t21 & 25.0 & 4.0 & 110.0 & 87.0 & 2672.0 & 17.5 & 70.0 & 2.0 & $\\dots$ \\\\\n",
       "\t22 & 24.0 & 4.0 & 107.0 & 90.0 & 2430.0 & 14.5 & 70.0 & 2.0 & $\\dots$ \\\\\n",
       "\t23 & 25.0 & 4.0 & 104.0 & 95.0 & 2375.0 & 17.5 & 70.0 & 2.0 & $\\dots$ \\\\\n",
       "\t24 & 26.0 & 4.0 & 121.0 & 113.0 & 2234.0 & 12.5 & 70.0 & 2.0 & $\\dots$ \\\\\n",
       "\t25 & 21.0 & 6.0 & 199.0 & 90.0 & 2648.0 & 15.0 & 70.0 & 1.0 & $\\dots$ \\\\\n",
       "\t26 & 10.0 & 8.0 & 360.0 & 215.0 & 4615.0 & 14.0 & 70.0 & 1.0 & $\\dots$ \\\\\n",
       "\t27 & 10.0 & 8.0 & 307.0 & 200.0 & 4376.0 & 15.0 & 70.0 & 1.0 & $\\dots$ \\\\\n",
       "\t28 & 11.0 & 8.0 & 318.0 & 210.0 & 4382.0 & 13.5 & 70.0 & 1.0 & $\\dots$ \\\\\n",
       "\t29 & 9.0 & 8.0 & 304.0 & 193.0 & 4732.0 & 18.5 & 70.0 & 1.0 & $\\dots$ \\\\\n",
       "\t30 & 27.0 & 4.0 & 97.0 & 88.0 & 2130.0 & 14.5 & 71.0 & 3.0 & $\\dots$ \\\\\n",
       "\t$\\dots$ & $\\dots$ & $\\dots$ & $\\dots$ & $\\dots$ & $\\dots$ & $\\dots$ & $\\dots$ & $\\dots$ &  \\\\\n",
       "\\end{tabular}\n"
      ],
      "text/plain": [
       "392×9 DataFrame. Omitted printing of 4 columns\n",
       "│ Row │ MPG     │ Cylinders │ Displacement │ Horsepower │ Weight  │\n",
       "│     │ \u001b[90mFloat64\u001b[39m │ \u001b[90mFloat64\u001b[39m   │ \u001b[90mFloat64\u001b[39m      │ \u001b[90mFloat64\u001b[39m    │ \u001b[90mFloat64\u001b[39m │\n",
       "├─────┼─────────┼───────────┼──────────────┼────────────┼─────────┤\n",
       "│ 1   │ 18.0    │ 8.0       │ 307.0        │ 130.0      │ 3504.0  │\n",
       "│ 2   │ 15.0    │ 8.0       │ 350.0        │ 165.0      │ 3693.0  │\n",
       "│ 3   │ 18.0    │ 8.0       │ 318.0        │ 150.0      │ 3436.0  │\n",
       "│ 4   │ 16.0    │ 8.0       │ 304.0        │ 150.0      │ 3433.0  │\n",
       "│ 5   │ 17.0    │ 8.0       │ 302.0        │ 140.0      │ 3449.0  │\n",
       "│ 6   │ 15.0    │ 8.0       │ 429.0        │ 198.0      │ 4341.0  │\n",
       "│ 7   │ 14.0    │ 8.0       │ 454.0        │ 220.0      │ 4354.0  │\n",
       "│ 8   │ 14.0    │ 8.0       │ 440.0        │ 215.0      │ 4312.0  │\n",
       "│ 9   │ 14.0    │ 8.0       │ 455.0        │ 225.0      │ 4425.0  │\n",
       "│ 10  │ 15.0    │ 8.0       │ 390.0        │ 190.0      │ 3850.0  │\n",
       "⋮\n",
       "│ 382 │ 38.0    │ 6.0       │ 262.0        │ 85.0       │ 3015.0  │\n",
       "│ 383 │ 26.0    │ 4.0       │ 156.0        │ 92.0       │ 2585.0  │\n",
       "│ 384 │ 22.0    │ 6.0       │ 232.0        │ 112.0      │ 2835.0  │\n",
       "│ 385 │ 32.0    │ 4.0       │ 144.0        │ 96.0       │ 2665.0  │\n",
       "│ 386 │ 36.0    │ 4.0       │ 135.0        │ 84.0       │ 2370.0  │\n",
       "│ 387 │ 27.0    │ 4.0       │ 151.0        │ 90.0       │ 2950.0  │\n",
       "│ 388 │ 27.0    │ 4.0       │ 140.0        │ 86.0       │ 2790.0  │\n",
       "│ 389 │ 44.0    │ 4.0       │ 97.0         │ 52.0       │ 2130.0  │\n",
       "│ 390 │ 32.0    │ 4.0       │ 135.0        │ 84.0       │ 2295.0  │\n",
       "│ 391 │ 28.0    │ 4.0       │ 120.0        │ 79.0       │ 2625.0  │\n",
       "│ 392 │ 31.0    │ 4.0       │ 119.0        │ 82.0       │ 2720.0  │"
      ]
     },
     "execution_count": 2,
     "metadata": {},
     "output_type": "execute_result"
    }
   ],
   "source": [
    "auto = dataset(\"ISLR\", \"Auto\")"
   ]
  },
  {
   "cell_type": "markdown",
   "metadata": {},
   "source": [
    "### Split feature/label"
   ]
  },
  {
   "cell_type": "code",
   "execution_count": 3,
   "metadata": {},
   "outputs": [
    {
     "data": {
      "text/plain": [
       "([18.0, 15.0, 18.0, 16.0, 17.0, 15.0, 14.0, 14.0, 14.0, 15.0  …  26.0, 22.0, 32.0, 36.0, 27.0, 27.0, 44.0, 32.0, 28.0, 31.0], 392×8 DataFrame. Omitted printing of 3 columns\n",
       "│ Row │ Cylinders │ Displacement │ Horsepower │ Weight  │ Acceleration │\n",
       "│     │ \u001b[90mFloat64\u001b[39m   │ \u001b[90mFloat64\u001b[39m      │ \u001b[90mFloat64\u001b[39m    │ \u001b[90mFloat64\u001b[39m │ \u001b[90mFloat64\u001b[39m      │\n",
       "├─────┼───────────┼──────────────┼────────────┼─────────┼──────────────┤\n",
       "│ 1   │ 8.0       │ 307.0        │ 130.0      │ 3504.0  │ 12.0         │\n",
       "│ 2   │ 8.0       │ 350.0        │ 165.0      │ 3693.0  │ 11.5         │\n",
       "│ 3   │ 8.0       │ 318.0        │ 150.0      │ 3436.0  │ 11.0         │\n",
       "│ 4   │ 8.0       │ 304.0        │ 150.0      │ 3433.0  │ 12.0         │\n",
       "│ 5   │ 8.0       │ 302.0        │ 140.0      │ 3449.0  │ 10.5         │\n",
       "│ 6   │ 8.0       │ 429.0        │ 198.0      │ 4341.0  │ 10.0         │\n",
       "│ 7   │ 8.0       │ 454.0        │ 220.0      │ 4354.0  │ 9.0          │\n",
       "│ 8   │ 8.0       │ 440.0        │ 215.0      │ 4312.0  │ 8.5          │\n",
       "│ 9   │ 8.0       │ 455.0        │ 225.0      │ 4425.0  │ 10.0         │\n",
       "│ 10  │ 8.0       │ 390.0        │ 190.0      │ 3850.0  │ 8.5          │\n",
       "⋮\n",
       "│ 382 │ 6.0       │ 262.0        │ 85.0       │ 3015.0  │ 17.0         │\n",
       "│ 383 │ 4.0       │ 156.0        │ 92.0       │ 2585.0  │ 14.5         │\n",
       "│ 384 │ 6.0       │ 232.0        │ 112.0      │ 2835.0  │ 14.7         │\n",
       "│ 385 │ 4.0       │ 144.0        │ 96.0       │ 2665.0  │ 13.9         │\n",
       "│ 386 │ 4.0       │ 135.0        │ 84.0       │ 2370.0  │ 13.0         │\n",
       "│ 387 │ 4.0       │ 151.0        │ 90.0       │ 2950.0  │ 17.3         │\n",
       "│ 388 │ 4.0       │ 140.0        │ 86.0       │ 2790.0  │ 15.6         │\n",
       "│ 389 │ 4.0       │ 97.0         │ 52.0       │ 2130.0  │ 24.6         │\n",
       "│ 390 │ 4.0       │ 135.0        │ 84.0       │ 2295.0  │ 11.6         │\n",
       "│ 391 │ 4.0       │ 120.0        │ 79.0       │ 2625.0  │ 18.6         │\n",
       "│ 392 │ 4.0       │ 119.0        │ 82.0       │ 2720.0  │ 19.4         │)"
      ]
     },
     "execution_count": 3,
     "metadata": {},
     "output_type": "execute_result"
    }
   ],
   "source": [
    "y, X = unpack(auto, ==(:MPG), col->true)"
   ]
  },
  {
   "cell_type": "markdown",
   "metadata": {},
   "source": [
    "### Training/testing set"
   ]
  },
  {
   "cell_type": "code",
   "execution_count": 4,
   "metadata": {},
   "outputs": [],
   "source": [
    "train, test = partition(eachindex(y), 0.5, shuffle=true, rng=444);"
   ]
  },
  {
   "cell_type": "markdown",
   "metadata": {},
   "source": [
    "### Polynomial expansion"
   ]
  },
  {
   "cell_type": "code",
   "execution_count": 5,
   "metadata": {},
   "outputs": [],
   "source": [
    "hp = X.Horsepower\n",
    "X_poly = DataFrame(hp1=hp, hp2=hp.^2, hp3=hp.^3);"
   ]
  },
  {
   "cell_type": "markdown",
   "metadata": {},
   "source": [
    "### Model"
   ]
  },
  {
   "cell_type": "code",
   "execution_count": 6,
   "metadata": {},
   "outputs": [
    {
     "data": {
      "text/plain": [
       "LinearRegressor(\n",
       "    fit_intercept = true,\n",
       "    solver = nothing)\u001b[34m @ 2…84\u001b[39m"
      ]
     },
     "execution_count": 6,
     "metadata": {},
     "output_type": "execute_result"
    }
   ],
   "source": [
    "@load LinearRegressor pkg=MLJLinearModels"
   ]
  },
  {
   "cell_type": "code",
   "execution_count": 7,
   "metadata": {},
   "outputs": [],
   "source": [
    "@pipeline PolynomialReg(fs = FeatureSelector(features=[:hp1, :hp2, :hp3]), lr = LinearRegressor());"
   ]
  },
  {
   "cell_type": "code",
   "execution_count": 8,
   "metadata": {},
   "outputs": [
    {
     "data": {
      "text/plain": [
       "\u001b[34mMachine{PolynomialReg} @ 2…08\u001b[39m\n"
      ]
     },
     "execution_count": 8,
     "metadata": {},
     "output_type": "execute_result"
    }
   ],
   "source": [
    "polyreg = PolynomialReg()\n",
    "match = machine(polyreg, X_poly, y)"
   ]
  },
  {
   "cell_type": "markdown",
   "metadata": {},
   "source": [
    "### Training"
   ]
  },
  {
   "cell_type": "code",
   "execution_count": 9,
   "metadata": {},
   "outputs": [
    {
     "name": "stderr",
     "output_type": "stream",
     "text": [
      "┌ Info: Training \u001b[34mMachine{PolynomialReg} @ 2…08\u001b[39m.\n",
      "└ @ MLJBase /home/yuehhua/.julia/packages/MLJBase/O5b6j/src/machines.jl:187\n",
      "┌ Info: Training \u001b[34mNodalMachine{FeatureSelector} @ 7…28\u001b[39m.\n",
      "└ @ MLJBase /home/yuehhua/.julia/packages/MLJBase/O5b6j/src/machines.jl:187\n",
      "┌ Info: Training \u001b[34mNodalMachine{LinearRegressor} @ 8…93\u001b[39m.\n",
      "└ @ MLJBase /home/yuehhua/.julia/packages/MLJBase/O5b6j/src/machines.jl:187\n"
     ]
    },
    {
     "data": {
      "text/plain": [
       "\u001b[34mMachine{PolynomialReg} @ 2…08\u001b[39m\n"
      ]
     },
     "execution_count": 9,
     "metadata": {},
     "output_type": "execute_result"
    }
   ],
   "source": [
    "fit!(match, rows=train)"
   ]
  },
  {
   "cell_type": "markdown",
   "metadata": {},
   "source": [
    "### Predict"
   ]
  },
  {
   "cell_type": "code",
   "execution_count": 10,
   "metadata": {},
   "outputs": [
    {
     "data": {
      "text/plain": [
       "196-element Array{Float64,1}:\n",
       " 18.446766076547114\n",
       " 20.195178631476864\n",
       " 21.183927100867336\n",
       " 25.159114376427155\n",
       " 18.446766076547114\n",
       " 21.183927100867336\n",
       " 22.252568009919692\n",
       " 14.843530650146391\n",
       " 23.40374959241759\n",
       " 17.119859839436714\n",
       " 15.792127956150885\n",
       " 24.64012008214464\n",
       " 19.821455922458476\n",
       "  ⋮\n",
       " 27.088716172108114\n",
       " 19.28367436796467\n",
       " 20.195178631476864\n",
       " 30.161944435110165\n",
       " 21.601648070636962\n",
       " 13.25839530567923\n",
       " 25.692332100233855\n",
       " 13.597850195179568\n",
       " 30.161944435110165\n",
       " 15.792127956150885\n",
       " 28.886847332536938\n",
       " 28.886847332536938"
      ]
     },
     "execution_count": 10,
     "metadata": {},
     "output_type": "execute_result"
    }
   ],
   "source": [
    "ŷ = predict(match, rows=test)"
   ]
  },
  {
   "cell_type": "markdown",
   "metadata": {},
   "source": [
    "### Evaluation"
   ]
  },
  {
   "cell_type": "code",
   "execution_count": 11,
   "metadata": {},
   "outputs": [
    {
     "data": {
      "text/plain": [
       "4.402480169024946"
      ]
     },
     "execution_count": 11,
     "metadata": {},
     "output_type": "execute_result"
    }
   ],
   "source": [
    "rms(ŷ, y[test])"
   ]
  }
 ],
 "metadata": {
  "kernelspec": {
   "display_name": "Julia 1.4.0",
   "language": "julia",
   "name": "julia-1.4"
  },
  "language_info": {
   "file_extension": ".jl",
   "mimetype": "application/julia",
   "name": "julia",
   "version": "1.4.2"
  }
 },
 "nbformat": 4,
 "nbformat_minor": 4
}
