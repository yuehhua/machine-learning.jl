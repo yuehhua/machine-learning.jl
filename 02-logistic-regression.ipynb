{
 "cells": [
  {
   "cell_type": "markdown",
   "metadata": {},
   "source": [
    "# Logistic Regression"
   ]
  },
  {
   "cell_type": "code",
   "execution_count": 1,
   "metadata": {},
   "outputs": [],
   "source": [
    "using GLM\n",
    "using StatsBase\n",
    "using RDatasets\n",
    "using MLDataUtils"
   ]
  },
  {
   "cell_type": "markdown",
   "metadata": {},
   "source": [
    "## Load data"
   ]
  },
  {
   "cell_type": "code",
   "execution_count": 2,
   "metadata": {},
   "outputs": [
    {
     "data": {
      "text/html": [
       "<table class=\"data-frame\"><thead><tr><th></th><th>Default</th><th>Student</th><th>Balance</th><th>Income</th></tr><tr><th></th><th>Categorical…</th><th>Categorical…</th><th>Float64</th><th>Float64</th></tr></thead><tbody><p>6 rows × 4 columns</p><tr><th>1</th><td>No</td><td>No</td><td>729.526</td><td>44361.6</td></tr><tr><th>2</th><td>No</td><td>Yes</td><td>817.18</td><td>12106.1</td></tr><tr><th>3</th><td>No</td><td>No</td><td>1073.55</td><td>31767.1</td></tr><tr><th>4</th><td>No</td><td>No</td><td>529.251</td><td>35704.5</td></tr><tr><th>5</th><td>No</td><td>No</td><td>785.656</td><td>38463.5</td></tr><tr><th>6</th><td>No</td><td>Yes</td><td>919.589</td><td>7491.56</td></tr></tbody></table>"
      ],
      "text/latex": [
       "\\begin{tabular}{r|cccc}\n",
       "\t& Default & Student & Balance & Income\\\\\n",
       "\t\\hline\n",
       "\t& Categorical… & Categorical… & Float64 & Float64\\\\\n",
       "\t\\hline\n",
       "\t1 & No & No & 729.526 & 44361.6 \\\\\n",
       "\t2 & No & Yes & 817.18 & 12106.1 \\\\\n",
       "\t3 & No & No & 1073.55 & 31767.1 \\\\\n",
       "\t4 & No & No & 529.251 & 35704.5 \\\\\n",
       "\t5 & No & No & 785.656 & 38463.5 \\\\\n",
       "\t6 & No & Yes & 919.589 & 7491.56 \\\\\n",
       "\\end{tabular}\n"
      ],
      "text/plain": [
       "6×4 DataFrame\n",
       "│ Row │ Default      │ Student      │ Balance │ Income  │\n",
       "│     │ \u001b[90mCategorical…\u001b[39m │ \u001b[90mCategorical…\u001b[39m │ \u001b[90mFloat64\u001b[39m │ \u001b[90mFloat64\u001b[39m │\n",
       "├─────┼──────────────┼──────────────┼─────────┼─────────┤\n",
       "│ 1   │ No           │ No           │ 729.526 │ 44361.6 │\n",
       "│ 2   │ No           │ Yes          │ 817.18  │ 12106.1 │\n",
       "│ 3   │ No           │ No           │ 1073.55 │ 31767.1 │\n",
       "│ 4   │ No           │ No           │ 529.251 │ 35704.5 │\n",
       "│ 5   │ No           │ No           │ 785.656 │ 38463.5 │\n",
       "│ 6   │ No           │ Yes          │ 919.589 │ 7491.56 │"
      ]
     },
     "execution_count": 2,
     "metadata": {},
     "output_type": "execute_result"
    }
   ],
   "source": [
    "data = RDatasets.dataset(\"ISLR\", \"Default\")\n",
    "first(data, 6)"
   ]
  },
  {
   "cell_type": "markdown",
   "metadata": {},
   "source": [
    "## Preprocessing"
   ]
  },
  {
   "cell_type": "code",
   "execution_count": 3,
   "metadata": {},
   "outputs": [
    {
     "data": {
      "text/html": [
       "<table class=\"data-frame\"><thead><tr><th></th><th>Default</th><th>Student</th><th>Balance</th><th>Income</th><th>DefaultNum</th><th>StudentNum</th></tr><tr><th></th><th>Categorical…</th><th>Categorical…</th><th>Float64</th><th>Float64</th><th>Float64</th><th>Float64</th></tr></thead><tbody><p>6 rows × 6 columns</p><tr><th>1</th><td>No</td><td>No</td><td>729.526</td><td>44361.6</td><td>0.0</td><td>0.0</td></tr><tr><th>2</th><td>No</td><td>Yes</td><td>817.18</td><td>12106.1</td><td>0.0</td><td>1.0</td></tr><tr><th>3</th><td>No</td><td>No</td><td>1073.55</td><td>31767.1</td><td>0.0</td><td>0.0</td></tr><tr><th>4</th><td>No</td><td>No</td><td>529.251</td><td>35704.5</td><td>0.0</td><td>0.0</td></tr><tr><th>5</th><td>No</td><td>No</td><td>785.656</td><td>38463.5</td><td>0.0</td><td>0.0</td></tr><tr><th>6</th><td>No</td><td>Yes</td><td>919.589</td><td>7491.56</td><td>0.0</td><td>1.0</td></tr></tbody></table>"
      ],
      "text/latex": [
       "\\begin{tabular}{r|cccccc}\n",
       "\t& Default & Student & Balance & Income & DefaultNum & StudentNum\\\\\n",
       "\t\\hline\n",
       "\t& Categorical… & Categorical… & Float64 & Float64 & Float64 & Float64\\\\\n",
       "\t\\hline\n",
       "\t1 & No & No & 729.526 & 44361.6 & 0.0 & 0.0 \\\\\n",
       "\t2 & No & Yes & 817.18 & 12106.1 & 0.0 & 1.0 \\\\\n",
       "\t3 & No & No & 1073.55 & 31767.1 & 0.0 & 0.0 \\\\\n",
       "\t4 & No & No & 529.251 & 35704.5 & 0.0 & 0.0 \\\\\n",
       "\t5 & No & No & 785.656 & 38463.5 & 0.0 & 0.0 \\\\\n",
       "\t6 & No & Yes & 919.589 & 7491.56 & 0.0 & 1.0 \\\\\n",
       "\\end{tabular}\n"
      ],
      "text/plain": [
       "6×6 DataFrame. Omitted printing of 1 columns\n",
       "│ Row │ Default      │ Student      │ Balance │ Income  │ DefaultNum │\n",
       "│     │ \u001b[90mCategorical…\u001b[39m │ \u001b[90mCategorical…\u001b[39m │ \u001b[90mFloat64\u001b[39m │ \u001b[90mFloat64\u001b[39m │ \u001b[90mFloat64\u001b[39m    │\n",
       "├─────┼──────────────┼──────────────┼─────────┼─────────┼────────────┤\n",
       "│ 1   │ No           │ No           │ 729.526 │ 44361.6 │ 0.0        │\n",
       "│ 2   │ No           │ Yes          │ 817.18  │ 12106.1 │ 0.0        │\n",
       "│ 3   │ No           │ No           │ 1073.55 │ 31767.1 │ 0.0        │\n",
       "│ 4   │ No           │ No           │ 529.251 │ 35704.5 │ 0.0        │\n",
       "│ 5   │ No           │ No           │ 785.656 │ 38463.5 │ 0.0        │\n",
       "│ 6   │ No           │ Yes          │ 919.589 │ 7491.56 │ 0.0        │"
      ]
     },
     "execution_count": 3,
     "metadata": {},
     "output_type": "execute_result"
    }
   ],
   "source": [
    "isyes(x) = x == \"Yes\" ? 1.0 : 0.0\n",
    "\n",
    "data[:DefaultNum] = isyes.(data[:Default])\n",
    "data[:StudentNum] = isyes.(data[:Student])\n",
    "first(data, 6)"
   ]
  },
  {
   "cell_type": "markdown",
   "metadata": {},
   "source": [
    "## Training/Testing set"
   ]
  },
  {
   "cell_type": "code",
   "execution_count": 4,
   "metadata": {},
   "outputs": [],
   "source": [
    "indecies = MLDataUtils.shuffleobs(collect(1:nrow(data)))\n",
    "train_ind, test_ind = MLDataUtils.splitobs(indecies, at=0.8);"
   ]
  },
  {
   "cell_type": "code",
   "execution_count": 5,
   "metadata": {},
   "outputs": [
    {
     "data": {
      "text/html": [
       "<table class=\"data-frame\"><thead><tr><th></th><th>Default</th><th>Student</th><th>Balance</th><th>Income</th><th>DefaultNum</th><th>StudentNum</th></tr><tr><th></th><th>Categorical…</th><th>Categorical…</th><th>Float64</th><th>Float64</th><th>Float64</th><th>Float64</th></tr></thead><tbody><p>2,000 rows × 6 columns</p><tr><th>1</th><td>No</td><td>No</td><td>866.028</td><td>38363.4</td><td>0.0</td><td>0.0</td></tr><tr><th>2</th><td>No</td><td>No</td><td>521.8</td><td>22209.1</td><td>0.0</td><td>0.0</td></tr><tr><th>3</th><td>No</td><td>Yes</td><td>495.136</td><td>15519.5</td><td>0.0</td><td>1.0</td></tr><tr><th>4</th><td>No</td><td>No</td><td>1186.8</td><td>52689.3</td><td>0.0</td><td>0.0</td></tr><tr><th>5</th><td>No</td><td>No</td><td>1078.62</td><td>46060.1</td><td>0.0</td><td>0.0</td></tr><tr><th>6</th><td>No</td><td>Yes</td><td>441.626</td><td>15261.7</td><td>0.0</td><td>1.0</td></tr><tr><th>7</th><td>No</td><td>Yes</td><td>1060.22</td><td>22795.9</td><td>0.0</td><td>1.0</td></tr><tr><th>8</th><td>No</td><td>No</td><td>419.441</td><td>34332.7</td><td>0.0</td><td>0.0</td></tr><tr><th>9</th><td>No</td><td>No</td><td>801.803</td><td>46182.3</td><td>0.0</td><td>0.0</td></tr><tr><th>10</th><td>No</td><td>Yes</td><td>498.506</td><td>16967.6</td><td>0.0</td><td>1.0</td></tr><tr><th>11</th><td>No</td><td>Yes</td><td>1908.24</td><td>17642.6</td><td>0.0</td><td>1.0</td></tr><tr><th>12</th><td>No</td><td>No</td><td>372.741</td><td>35570.2</td><td>0.0</td><td>0.0</td></tr><tr><th>13</th><td>No</td><td>Yes</td><td>1262.84</td><td>12407.0</td><td>0.0</td><td>1.0</td></tr><tr><th>14</th><td>No</td><td>Yes</td><td>824.123</td><td>25108.8</td><td>0.0</td><td>1.0</td></tr><tr><th>15</th><td>No</td><td>No</td><td>553.743</td><td>39654.0</td><td>0.0</td><td>0.0</td></tr><tr><th>16</th><td>No</td><td>Yes</td><td>1420.02</td><td>26424.5</td><td>0.0</td><td>1.0</td></tr><tr><th>17</th><td>No</td><td>No</td><td>592.801</td><td>34355.9</td><td>0.0</td><td>0.0</td></tr><tr><th>18</th><td>No</td><td>No</td><td>338.779</td><td>42678.7</td><td>0.0</td><td>0.0</td></tr><tr><th>19</th><td>No</td><td>No</td><td>583.307</td><td>37118.8</td><td>0.0</td><td>0.0</td></tr><tr><th>20</th><td>No</td><td>Yes</td><td>713.923</td><td>26050.0</td><td>0.0</td><td>1.0</td></tr><tr><th>21</th><td>No</td><td>No</td><td>1300.34</td><td>47580.5</td><td>0.0</td><td>0.0</td></tr><tr><th>22</th><td>No</td><td>No</td><td>557.262</td><td>45040.9</td><td>0.0</td><td>0.0</td></tr><tr><th>23</th><td>No</td><td>No</td><td>603.253</td><td>50214.9</td><td>0.0</td><td>0.0</td></tr><tr><th>24</th><td>No</td><td>No</td><td>391.482</td><td>45821.6</td><td>0.0</td><td>0.0</td></tr><tr><th>25</th><td>No</td><td>No</td><td>1743.1</td><td>31438.6</td><td>0.0</td><td>0.0</td></tr><tr><th>26</th><td>Yes</td><td>Yes</td><td>1721.97</td><td>15179.7</td><td>1.0</td><td>1.0</td></tr><tr><th>27</th><td>No</td><td>No</td><td>1469.6</td><td>43437.0</td><td>0.0</td><td>0.0</td></tr><tr><th>28</th><td>No</td><td>No</td><td>42.15</td><td>31812.9</td><td>0.0</td><td>0.0</td></tr><tr><th>29</th><td>No</td><td>Yes</td><td>1704.01</td><td>17986.8</td><td>0.0</td><td>1.0</td></tr><tr><th>30</th><td>No</td><td>Yes</td><td>793.82</td><td>19074.0</td><td>0.0</td><td>1.0</td></tr><tr><th>&vellip;</th><td>&vellip;</td><td>&vellip;</td><td>&vellip;</td><td>&vellip;</td><td>&vellip;</td><td>&vellip;</td></tr></tbody></table>"
      ],
      "text/latex": [
       "\\begin{tabular}{r|cccccc}\n",
       "\t& Default & Student & Balance & Income & DefaultNum & StudentNum\\\\\n",
       "\t\\hline\n",
       "\t& Categorical… & Categorical… & Float64 & Float64 & Float64 & Float64\\\\\n",
       "\t\\hline\n",
       "\t1 & No & No & 866.028 & 38363.4 & 0.0 & 0.0 \\\\\n",
       "\t2 & No & No & 521.8 & 22209.1 & 0.0 & 0.0 \\\\\n",
       "\t3 & No & Yes & 495.136 & 15519.5 & 0.0 & 1.0 \\\\\n",
       "\t4 & No & No & 1186.8 & 52689.3 & 0.0 & 0.0 \\\\\n",
       "\t5 & No & No & 1078.62 & 46060.1 & 0.0 & 0.0 \\\\\n",
       "\t6 & No & Yes & 441.626 & 15261.7 & 0.0 & 1.0 \\\\\n",
       "\t7 & No & Yes & 1060.22 & 22795.9 & 0.0 & 1.0 \\\\\n",
       "\t8 & No & No & 419.441 & 34332.7 & 0.0 & 0.0 \\\\\n",
       "\t9 & No & No & 801.803 & 46182.3 & 0.0 & 0.0 \\\\\n",
       "\t10 & No & Yes & 498.506 & 16967.6 & 0.0 & 1.0 \\\\\n",
       "\t11 & No & Yes & 1908.24 & 17642.6 & 0.0 & 1.0 \\\\\n",
       "\t12 & No & No & 372.741 & 35570.2 & 0.0 & 0.0 \\\\\n",
       "\t13 & No & Yes & 1262.84 & 12407.0 & 0.0 & 1.0 \\\\\n",
       "\t14 & No & Yes & 824.123 & 25108.8 & 0.0 & 1.0 \\\\\n",
       "\t15 & No & No & 553.743 & 39654.0 & 0.0 & 0.0 \\\\\n",
       "\t16 & No & Yes & 1420.02 & 26424.5 & 0.0 & 1.0 \\\\\n",
       "\t17 & No & No & 592.801 & 34355.9 & 0.0 & 0.0 \\\\\n",
       "\t18 & No & No & 338.779 & 42678.7 & 0.0 & 0.0 \\\\\n",
       "\t19 & No & No & 583.307 & 37118.8 & 0.0 & 0.0 \\\\\n",
       "\t20 & No & Yes & 713.923 & 26050.0 & 0.0 & 1.0 \\\\\n",
       "\t21 & No & No & 1300.34 & 47580.5 & 0.0 & 0.0 \\\\\n",
       "\t22 & No & No & 557.262 & 45040.9 & 0.0 & 0.0 \\\\\n",
       "\t23 & No & No & 603.253 & 50214.9 & 0.0 & 0.0 \\\\\n",
       "\t24 & No & No & 391.482 & 45821.6 & 0.0 & 0.0 \\\\\n",
       "\t25 & No & No & 1743.1 & 31438.6 & 0.0 & 0.0 \\\\\n",
       "\t26 & Yes & Yes & 1721.97 & 15179.7 & 1.0 & 1.0 \\\\\n",
       "\t27 & No & No & 1469.6 & 43437.0 & 0.0 & 0.0 \\\\\n",
       "\t28 & No & No & 42.15 & 31812.9 & 0.0 & 0.0 \\\\\n",
       "\t29 & No & Yes & 1704.01 & 17986.8 & 0.0 & 1.0 \\\\\n",
       "\t30 & No & Yes & 793.82 & 19074.0 & 0.0 & 1.0 \\\\\n",
       "\t$\\dots$ & $\\dots$ & $\\dots$ & $\\dots$ & $\\dots$ & $\\dots$ & $\\dots$ \\\\\n",
       "\\end{tabular}\n"
      ],
      "text/plain": [
       "2000×6 DataFrame. Omitted printing of 1 columns\n",
       "│ Row  │ Default      │ Student      │ Balance │ Income  │ DefaultNum │\n",
       "│      │ \u001b[90mCategorical…\u001b[39m │ \u001b[90mCategorical…\u001b[39m │ \u001b[90mFloat64\u001b[39m │ \u001b[90mFloat64\u001b[39m │ \u001b[90mFloat64\u001b[39m    │\n",
       "├──────┼──────────────┼──────────────┼─────────┼─────────┼────────────┤\n",
       "│ 1    │ No           │ No           │ 866.028 │ 38363.4 │ 0.0        │\n",
       "│ 2    │ No           │ No           │ 521.8   │ 22209.1 │ 0.0        │\n",
       "│ 3    │ No           │ Yes          │ 495.136 │ 15519.5 │ 0.0        │\n",
       "│ 4    │ No           │ No           │ 1186.8  │ 52689.3 │ 0.0        │\n",
       "│ 5    │ No           │ No           │ 1078.62 │ 46060.1 │ 0.0        │\n",
       "│ 6    │ No           │ Yes          │ 441.626 │ 15261.7 │ 0.0        │\n",
       "│ 7    │ No           │ Yes          │ 1060.22 │ 22795.9 │ 0.0        │\n",
       "│ 8    │ No           │ No           │ 419.441 │ 34332.7 │ 0.0        │\n",
       "│ 9    │ No           │ No           │ 801.803 │ 46182.3 │ 0.0        │\n",
       "│ 10   │ No           │ Yes          │ 498.506 │ 16967.6 │ 0.0        │\n",
       "⋮\n",
       "│ 1990 │ No           │ No           │ 1814.17 │ 28322.8 │ 0.0        │\n",
       "│ 1991 │ No           │ No           │ 0.0     │ 30684.7 │ 0.0        │\n",
       "│ 1992 │ No           │ Yes          │ 810.541 │ 17252.3 │ 0.0        │\n",
       "│ 1993 │ No           │ No           │ 947.814 │ 42094.5 │ 0.0        │\n",
       "│ 1994 │ No           │ No           │ 1695.39 │ 26623.8 │ 0.0        │\n",
       "│ 1995 │ No           │ No           │ 389.792 │ 53685.5 │ 0.0        │\n",
       "│ 1996 │ No           │ No           │ 0.0     │ 50265.3 │ 0.0        │\n",
       "│ 1997 │ No           │ No           │ 0.0     │ 46581.4 │ 0.0        │\n",
       "│ 1998 │ No           │ No           │ 521.903 │ 47032.6 │ 0.0        │\n",
       "│ 1999 │ No           │ No           │ 507.246 │ 46106.2 │ 0.0        │\n",
       "│ 2000 │ No           │ Yes          │ 1592.55 │ 18024.3 │ 0.0        │"
      ]
     },
     "execution_count": 5,
     "metadata": {},
     "output_type": "execute_result"
    }
   ],
   "source": [
    "train = data[train_ind, :]\n",
    "test = data[test_ind, :]"
   ]
  },
  {
   "cell_type": "markdown",
   "metadata": {},
   "source": [
    "## Model"
   ]
  },
  {
   "cell_type": "code",
   "execution_count": 6,
   "metadata": {},
   "outputs": [
    {
     "data": {
      "text/plain": [
       "StatsModels.DataFrameRegressionModel{GeneralizedLinearModel{GlmResp{Array{Float64,1},Binomial{Float64},LogitLink},DensePredChol{Float64,LinearAlgebra.Cholesky{Float64,Array{Float64,2}}}},Array{Float64,2}}\n",
       "\n",
       "Formula: DefaultNum ~ 1 + Balance + Income\n",
       "\n",
       "Coefficients:\n",
       "               Estimate   Std.Error  z value Pr(>|z|)\n",
       "(Intercept)    -11.3446    0.481304 -23.5705   <1e-99\n",
       "Balance      0.00550756 0.000248322  22.1791   <1e-99\n",
       "Income       2.05294e-5  5.66543e-6  3.62362   0.0003\n"
      ]
     },
     "execution_count": 6,
     "metadata": {},
     "output_type": "execute_result"
    }
   ],
   "source": [
    "logreg = glm(@formula(DefaultNum ~ Balance + Income), train, Binomial(), LogitLink())"
   ]
  },
  {
   "cell_type": "markdown",
   "metadata": {},
   "source": [
    "## Prediction"
   ]
  },
  {
   "cell_type": "code",
   "execution_count": 7,
   "metadata": {},
   "outputs": [
    {
     "data": {
      "text/plain": [
       "2000-element Array{Union{Missing, Float64},1}:\n",
       " 0.00305693731166153   \n",
       " 0.0003304325548684028 \n",
       " 0.0002487124704046108 \n",
       " 0.023510168775308222  \n",
       " 0.011448235383525436  \n",
       " 0.00018426230439239313\n",
       " 0.006449073484437817  \n",
       " 0.00024120088874050055\n",
       " 0.0025212115801270464 \n",
       " 0.00026101402565653875\n",
       " 0.38399861174419103   \n",
       " 0.0001913084006543652 \n",
       " 0.015755093076617276  \n",
       " ⋮                     \n",
       " 0.0004224977315033718 \n",
       " 0.31616134955331027   \n",
       " 2.2217153247511253e-5 \n",
       " 0.0014623015840897306 \n",
       " 0.005167187677641112  \n",
       " 0.18838419540018783   \n",
       " 0.00030477650049113203\n",
       " 3.3209337362472214e-5 \n",
       " 3.079043963597167e-5  \n",
       " 0.0005502430481336342 \n",
       " 0.0004980362341448185 \n",
       " 0.09943929367601344   "
      ]
     },
     "execution_count": 7,
     "metadata": {},
     "output_type": "execute_result"
    }
   ],
   "source": [
    "pred = predict(logreg, test)"
   ]
  },
  {
   "cell_type": "markdown",
   "metadata": {},
   "source": [
    "## Validation"
   ]
  },
  {
   "cell_type": "code",
   "execution_count": 8,
   "metadata": {},
   "outputs": [
    {
     "data": {
      "text/plain": [
       "accuracy (generic function with 1 method)"
      ]
     },
     "execution_count": 8,
     "metadata": {},
     "output_type": "execute_result"
    }
   ],
   "source": [
    "error(x, y) = ((x > 0.5) ? 1.0 : 0.0) == y\n",
    "accuracy(xs, ys) = sum(error.(xs, ys)) / size(xs, 1)"
   ]
  },
  {
   "cell_type": "code",
   "execution_count": 9,
   "metadata": {},
   "outputs": [
    {
     "data": {
      "text/plain": [
       "0.9745"
      ]
     },
     "execution_count": 9,
     "metadata": {},
     "output_type": "execute_result"
    }
   ],
   "source": [
    "accuracy(pred, test[:DefaultNum])"
   ]
  },
  {
   "cell_type": "code",
   "execution_count": null,
   "metadata": {},
   "outputs": [],
   "source": []
  }
 ],
 "metadata": {
  "kernelspec": {
   "display_name": "Julia 1.1.0",
   "language": "julia",
   "name": "julia-1.1"
  },
  "language_info": {
   "file_extension": ".jl",
   "mimetype": "application/julia",
   "name": "julia",
   "version": "1.1.0"
  }
 },
 "nbformat": 4,
 "nbformat_minor": 2
}
