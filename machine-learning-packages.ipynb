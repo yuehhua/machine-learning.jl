{
 "cells": [
  {
   "cell_type": "markdown",
   "metadata": {
    "slideshow": {
     "slide_type": "slide"
    }
   },
   "source": [
    "# Machine Learning packages\n",
    "\n",
    "### Yueh-Hua Tu"
   ]
  },
  {
   "cell_type": "markdown",
   "metadata": {
    "slideshow": {
     "slide_type": "slide"
    }
   },
   "source": [
    "## Linear Regression"
   ]
  },
  {
   "cell_type": "code",
   "execution_count": 1,
   "metadata": {},
   "outputs": [],
   "source": [
    "using GLM\n",
    "using StatsBase\n",
    "using RDatasets\n",
    "using MLDataUtils"
   ]
  },
  {
   "cell_type": "markdown",
   "metadata": {
    "slideshow": {
     "slide_type": "slide"
    }
   },
   "source": [
    "### Load data"
   ]
  },
  {
   "cell_type": "code",
   "execution_count": 2,
   "metadata": {},
   "outputs": [
    {
     "data": {
      "text/html": [
       "<table class=\"data-frame\"><thead><tr><th></th><th>Model</th><th>MPG</th><th>Cyl</th><th>Disp</th><th>HP</th><th>DRat</th><th>WT</th><th>QSec</th><th>VS</th><th>AM</th><th>Gear</th><th>Carb</th></tr><tr><th></th><th>String⍰</th><th>Float64⍰</th><th>Int64⍰</th><th>Float64⍰</th><th>Int64⍰</th><th>Float64⍰</th><th>Float64⍰</th><th>Float64⍰</th><th>Int64⍰</th><th>Int64⍰</th><th>Int64⍰</th><th>Int64⍰</th></tr></thead><tbody><p>6 rows × 12 columns</p><tr><th>1</th><td>Mazda RX4</td><td>21.0</td><td>6</td><td>160.0</td><td>110</td><td>3.9</td><td>2.62</td><td>16.46</td><td>0</td><td>1</td><td>4</td><td>4</td></tr><tr><th>2</th><td>Mazda RX4 Wag</td><td>21.0</td><td>6</td><td>160.0</td><td>110</td><td>3.9</td><td>2.875</td><td>17.02</td><td>0</td><td>1</td><td>4</td><td>4</td></tr><tr><th>3</th><td>Datsun 710</td><td>22.8</td><td>4</td><td>108.0</td><td>93</td><td>3.85</td><td>2.32</td><td>18.61</td><td>1</td><td>1</td><td>4</td><td>1</td></tr><tr><th>4</th><td>Hornet 4 Drive</td><td>21.4</td><td>6</td><td>258.0</td><td>110</td><td>3.08</td><td>3.215</td><td>19.44</td><td>1</td><td>0</td><td>3</td><td>1</td></tr><tr><th>5</th><td>Hornet Sportabout</td><td>18.7</td><td>8</td><td>360.0</td><td>175</td><td>3.15</td><td>3.44</td><td>17.02</td><td>0</td><td>0</td><td>3</td><td>2</td></tr><tr><th>6</th><td>Valiant</td><td>18.1</td><td>6</td><td>225.0</td><td>105</td><td>2.76</td><td>3.46</td><td>20.22</td><td>1</td><td>0</td><td>3</td><td>1</td></tr></tbody></table>"
      ],
      "text/latex": [
       "\\begin{tabular}{r|cccccccccccc}\n",
       "\t& Model & MPG & Cyl & Disp & HP & DRat & WT & QSec & VS & AM & Gear & Carb\\\\\n",
       "\t\\hline\n",
       "\t1 & Mazda RX4 & 21.0 & 6 & 160.0 & 110 & 3.9 & 2.62 & 16.46 & 0 & 1 & 4 & 4 \\\\\n",
       "\t2 & Mazda RX4 Wag & 21.0 & 6 & 160.0 & 110 & 3.9 & 2.875 & 17.02 & 0 & 1 & 4 & 4 \\\\\n",
       "\t3 & Datsun 710 & 22.8 & 4 & 108.0 & 93 & 3.85 & 2.32 & 18.61 & 1 & 1 & 4 & 1 \\\\\n",
       "\t4 & Hornet 4 Drive & 21.4 & 6 & 258.0 & 110 & 3.08 & 3.215 & 19.44 & 1 & 0 & 3 & 1 \\\\\n",
       "\t5 & Hornet Sportabout & 18.7 & 8 & 360.0 & 175 & 3.15 & 3.44 & 17.02 & 0 & 0 & 3 & 2 \\\\\n",
       "\t6 & Valiant & 18.1 & 6 & 225.0 & 105 & 2.76 & 3.46 & 20.22 & 1 & 0 & 3 & 1 \\\\\n",
       "\\end{tabular}\n"
      ],
      "text/plain": [
       "6×12 DataFrame. Omitted printing of 6 columns\n",
       "│ Row │ Model             │ MPG      │ Cyl    │ Disp     │ HP     │ DRat     │\n",
       "│     │ \u001b[90mString⍰\u001b[39m           │ \u001b[90mFloat64⍰\u001b[39m │ \u001b[90mInt64⍰\u001b[39m │ \u001b[90mFloat64⍰\u001b[39m │ \u001b[90mInt64⍰\u001b[39m │ \u001b[90mFloat64⍰\u001b[39m │\n",
       "├─────┼───────────────────┼──────────┼────────┼──────────┼────────┼──────────┤\n",
       "│ 1   │ Mazda RX4         │ 21.0     │ 6      │ 160.0    │ 110    │ 3.9      │\n",
       "│ 2   │ Mazda RX4 Wag     │ 21.0     │ 6      │ 160.0    │ 110    │ 3.9      │\n",
       "│ 3   │ Datsun 710        │ 22.8     │ 4      │ 108.0    │ 93     │ 3.85     │\n",
       "│ 4   │ Hornet 4 Drive    │ 21.4     │ 6      │ 258.0    │ 110    │ 3.08     │\n",
       "│ 5   │ Hornet Sportabout │ 18.7     │ 8      │ 360.0    │ 175    │ 3.15     │\n",
       "│ 6   │ Valiant           │ 18.1     │ 6      │ 225.0    │ 105    │ 2.76     │"
      ]
     },
     "execution_count": 2,
     "metadata": {},
     "output_type": "execute_result"
    }
   ],
   "source": [
    "data = RDatasets.dataset(\"datasets\", \"mtcars\");\n",
    "first(data, 6)"
   ]
  },
  {
   "cell_type": "markdown",
   "metadata": {
    "slideshow": {
     "slide_type": "slide"
    }
   },
   "source": [
    "### Training/Testing set"
   ]
  },
  {
   "cell_type": "code",
   "execution_count": 3,
   "metadata": {},
   "outputs": [],
   "source": [
    "indecies = MLDataUtils.shuffleobs(collect(1:nrow(data)))\n",
    "train_ind, test_ind = MLDataUtils.splitobs(indecies, at = 0.8);"
   ]
  },
  {
   "cell_type": "code",
   "execution_count": 4,
   "metadata": {},
   "outputs": [
    {
     "data": {
      "text/html": [
       "<table class=\"data-frame\"><thead><tr><th></th><th>Model</th><th>MPG</th><th>Cyl</th><th>Disp</th><th>HP</th><th>DRat</th><th>WT</th><th>QSec</th><th>VS</th><th>AM</th><th>Gear</th><th>Carb</th></tr><tr><th></th><th>String⍰</th><th>Float64⍰</th><th>Int64⍰</th><th>Float64⍰</th><th>Int64⍰</th><th>Float64⍰</th><th>Float64⍰</th><th>Float64⍰</th><th>Int64⍰</th><th>Int64⍰</th><th>Int64⍰</th><th>Int64⍰</th></tr></thead><tbody><p>6 rows × 12 columns</p><tr><th>1</th><td>Ford Pantera L</td><td>15.8</td><td>8</td><td>351.0</td><td>264</td><td>4.22</td><td>3.17</td><td>14.5</td><td>0</td><td>1</td><td>5</td><td>4</td></tr><tr><th>2</th><td>Camaro Z28</td><td>13.3</td><td>8</td><td>350.0</td><td>245</td><td>3.73</td><td>3.84</td><td>15.41</td><td>0</td><td>0</td><td>3</td><td>4</td></tr><tr><th>3</th><td>Volvo 142E</td><td>21.4</td><td>4</td><td>121.0</td><td>109</td><td>4.11</td><td>2.78</td><td>18.6</td><td>1</td><td>1</td><td>4</td><td>2</td></tr><tr><th>4</th><td>Datsun 710</td><td>22.8</td><td>4</td><td>108.0</td><td>93</td><td>3.85</td><td>2.32</td><td>18.61</td><td>1</td><td>1</td><td>4</td><td>1</td></tr><tr><th>5</th><td>Chrysler Imperial</td><td>14.7</td><td>8</td><td>440.0</td><td>230</td><td>3.23</td><td>5.345</td><td>17.42</td><td>0</td><td>0</td><td>3</td><td>4</td></tr><tr><th>6</th><td>Toyota Corona</td><td>21.5</td><td>4</td><td>120.1</td><td>97</td><td>3.7</td><td>2.465</td><td>20.01</td><td>1</td><td>0</td><td>3</td><td>1</td></tr></tbody></table>"
      ],
      "text/latex": [
       "\\begin{tabular}{r|cccccccccccc}\n",
       "\t& Model & MPG & Cyl & Disp & HP & DRat & WT & QSec & VS & AM & Gear & Carb\\\\\n",
       "\t\\hline\n",
       "\t1 & Ford Pantera L & 15.8 & 8 & 351.0 & 264 & 4.22 & 3.17 & 14.5 & 0 & 1 & 5 & 4 \\\\\n",
       "\t2 & Camaro Z28 & 13.3 & 8 & 350.0 & 245 & 3.73 & 3.84 & 15.41 & 0 & 0 & 3 & 4 \\\\\n",
       "\t3 & Volvo 142E & 21.4 & 4 & 121.0 & 109 & 4.11 & 2.78 & 18.6 & 1 & 1 & 4 & 2 \\\\\n",
       "\t4 & Datsun 710 & 22.8 & 4 & 108.0 & 93 & 3.85 & 2.32 & 18.61 & 1 & 1 & 4 & 1 \\\\\n",
       "\t5 & Chrysler Imperial & 14.7 & 8 & 440.0 & 230 & 3.23 & 5.345 & 17.42 & 0 & 0 & 3 & 4 \\\\\n",
       "\t6 & Toyota Corona & 21.5 & 4 & 120.1 & 97 & 3.7 & 2.465 & 20.01 & 1 & 0 & 3 & 1 \\\\\n",
       "\\end{tabular}\n"
      ],
      "text/plain": [
       "6×12 DataFrame. Omitted printing of 6 columns\n",
       "│ Row │ Model             │ MPG      │ Cyl    │ Disp     │ HP     │ DRat     │\n",
       "│     │ \u001b[90mString⍰\u001b[39m           │ \u001b[90mFloat64⍰\u001b[39m │ \u001b[90mInt64⍰\u001b[39m │ \u001b[90mFloat64⍰\u001b[39m │ \u001b[90mInt64⍰\u001b[39m │ \u001b[90mFloat64⍰\u001b[39m │\n",
       "├─────┼───────────────────┼──────────┼────────┼──────────┼────────┼──────────┤\n",
       "│ 1   │ Ford Pantera L    │ 15.8     │ 8      │ 351.0    │ 264    │ 4.22     │\n",
       "│ 2   │ Camaro Z28        │ 13.3     │ 8      │ 350.0    │ 245    │ 3.73     │\n",
       "│ 3   │ Volvo 142E        │ 21.4     │ 4      │ 121.0    │ 109    │ 4.11     │\n",
       "│ 4   │ Datsun 710        │ 22.8     │ 4      │ 108.0    │ 93     │ 3.85     │\n",
       "│ 5   │ Chrysler Imperial │ 14.7     │ 8      │ 440.0    │ 230    │ 3.23     │\n",
       "│ 6   │ Toyota Corona     │ 21.5     │ 4      │ 120.1    │ 97     │ 3.7      │"
      ]
     },
     "execution_count": 4,
     "metadata": {},
     "output_type": "execute_result"
    }
   ],
   "source": [
    "train = data[train_ind, :]\n",
    "test = data[test_ind, :]"
   ]
  },
  {
   "cell_type": "markdown",
   "metadata": {
    "slideshow": {
     "slide_type": "slide"
    }
   },
   "source": [
    "### Model"
   ]
  },
  {
   "cell_type": "code",
   "execution_count": 5,
   "metadata": {},
   "outputs": [
    {
     "name": "stderr",
     "output_type": "stream",
     "text": [
      "┌ Warning: In the future eachcol will have names argument set to false by default\n",
      "│   caller = evalcontrasts(::DataFrame, ::Dict{Any,Any}) at modelframe.jl:124\n",
      "└ @ StatsModels /home/pika/.julia/packages/StatsModels/AYB2E/src/modelframe.jl:124\n"
     ]
    },
    {
     "data": {
      "text/plain": [
       "StatsModels.DataFrameRegressionModel{LinearModel{LmResp{Array{Float64,1}},DensePredChol{Float64,LinearAlgebra.Cholesky{Float64,Array{Float64,2}}}},Array{Float64,2}}\n",
       "\n",
       "Formula: MPG ~ 1 + Cyl + Disp + HP + DRat + WT + QSec + VS + AM + Gear + Carb\n",
       "\n",
       "Coefficients:\n",
       "                Estimate Std.Error   t value Pr(>|t|)\n",
       "(Intercept)      14.6607    24.549  0.597201   0.5593\n",
       "Cyl            -0.174004   1.41193 -0.123239   0.9036\n",
       "Disp         -0.00537269 0.0157801 -0.340472   0.7382\n",
       "HP             0.0189388 0.0232905  0.813156   0.4288\n",
       "DRat             2.32819   1.68151   1.38459   0.1864\n",
       "WT              -1.49635   1.93572 -0.773022   0.4515\n",
       "QSec            0.126962  0.707465   0.17946   0.8600\n",
       "VS               1.92495   1.78979   1.07552   0.2991\n",
       "AM               3.64723   1.93173   1.88806   0.0785\n",
       "Gear            0.759327   2.12377  0.357537   0.7257\n",
       "Carb            -1.85788  0.893982  -2.07821   0.0553\n"
      ]
     },
     "execution_count": 5,
     "metadata": {},
     "output_type": "execute_result"
    }
   ],
   "source": [
    "ols = GLM.lm(@formula(MPG ~ Cyl + Disp + HP + DRat + WT + QSec + VS + AM + Gear + Carb), train)"
   ]
  },
  {
   "cell_type": "markdown",
   "metadata": {
    "slideshow": {
     "slide_type": "slide"
    }
   },
   "source": [
    "### Prediction"
   ]
  },
  {
   "cell_type": "code",
   "execution_count": 6,
   "metadata": {},
   "outputs": [
    {
     "name": "stderr",
     "output_type": "stream",
     "text": [
      "┌ Warning: In the future eachcol will have names argument set to false by default\n",
      "│   caller = evalcontrasts(::DataFrame, ::Dict{Symbol,StatsModels.ContrastsMatrix}) at modelframe.jl:124\n",
      "└ @ StatsModels /home/pika/.julia/packages/StatsModels/AYB2E/src/modelframe.jl:124\n"
     ]
    },
    {
     "data": {
      "text/plain": [
       "6-element Array{Union{Missing, Float64},1}:\n",
       " 23.31752756476571 \n",
       " 15.769348961336535\n",
       " 28.043149474588315\n",
       " 29.75211257491646 \n",
       " 11.840815642125223\n",
       " 24.96785130133965 "
      ]
     },
     "execution_count": 6,
     "metadata": {},
     "output_type": "execute_result"
    }
   ],
   "source": [
    "predict(ols, test)"
   ]
  },
  {
   "cell_type": "markdown",
   "metadata": {
    "slideshow": {
     "slide_type": "slide"
    }
   },
   "source": [
    "### Validation"
   ]
  },
  {
   "cell_type": "code",
   "execution_count": 7,
   "metadata": {},
   "outputs": [
    {
     "data": {
      "text/plain": [
       "0.9397740339791928"
      ]
     },
     "execution_count": 7,
     "metadata": {},
     "output_type": "execute_result"
    }
   ],
   "source": [
    "GLM.r²(ols)"
   ]
  },
  {
   "cell_type": "markdown",
   "metadata": {
    "slideshow": {
     "slide_type": "slide"
    }
   },
   "source": [
    "## Logistic Regression"
   ]
  },
  {
   "cell_type": "markdown",
   "metadata": {
    "slideshow": {
     "slide_type": "slide"
    }
   },
   "source": [
    "### Load data"
   ]
  },
  {
   "cell_type": "code",
   "execution_count": 8,
   "metadata": {},
   "outputs": [
    {
     "data": {
      "text/html": [
       "<table class=\"data-frame\"><thead><tr><th></th><th>Default</th><th>Student</th><th>Balance</th><th>Income</th></tr><tr><th></th><th>Categorical…</th><th>Categorical…</th><th>Float64</th><th>Float64</th></tr></thead><tbody><p>6 rows × 4 columns</p><tr><th>1</th><td>No</td><td>No</td><td>729.526</td><td>44361.6</td></tr><tr><th>2</th><td>No</td><td>Yes</td><td>817.18</td><td>12106.1</td></tr><tr><th>3</th><td>No</td><td>No</td><td>1073.55</td><td>31767.1</td></tr><tr><th>4</th><td>No</td><td>No</td><td>529.251</td><td>35704.5</td></tr><tr><th>5</th><td>No</td><td>No</td><td>785.656</td><td>38463.5</td></tr><tr><th>6</th><td>No</td><td>Yes</td><td>919.589</td><td>7491.56</td></tr></tbody></table>"
      ],
      "text/latex": [
       "\\begin{tabular}{r|cccc}\n",
       "\t& Default & Student & Balance & Income\\\\\n",
       "\t\\hline\n",
       "\t1 & No & No & 729.526 & 44361.6 \\\\\n",
       "\t2 & No & Yes & 817.18 & 12106.1 \\\\\n",
       "\t3 & No & No & 1073.55 & 31767.1 \\\\\n",
       "\t4 & No & No & 529.251 & 35704.5 \\\\\n",
       "\t5 & No & No & 785.656 & 38463.5 \\\\\n",
       "\t6 & No & Yes & 919.589 & 7491.56 \\\\\n",
       "\\end{tabular}\n"
      ],
      "text/plain": [
       "6×4 DataFrame\n",
       "│ Row │ Default      │ Student      │ Balance │ Income  │\n",
       "│     │ \u001b[90mCategorical…\u001b[39m │ \u001b[90mCategorical…\u001b[39m │ \u001b[90mFloat64\u001b[39m │ \u001b[90mFloat64\u001b[39m │\n",
       "├─────┼──────────────┼──────────────┼─────────┼─────────┤\n",
       "│ 1   │ No           │ No           │ 729.526 │ 44361.6 │\n",
       "│ 2   │ No           │ Yes          │ 817.18  │ 12106.1 │\n",
       "│ 3   │ No           │ No           │ 1073.55 │ 31767.1 │\n",
       "│ 4   │ No           │ No           │ 529.251 │ 35704.5 │\n",
       "│ 5   │ No           │ No           │ 785.656 │ 38463.5 │\n",
       "│ 6   │ No           │ Yes          │ 919.589 │ 7491.56 │"
      ]
     },
     "execution_count": 8,
     "metadata": {},
     "output_type": "execute_result"
    }
   ],
   "source": [
    "data = RDatasets.dataset(\"ISLR\", \"Default\");\n",
    "first(data, 6)"
   ]
  },
  {
   "cell_type": "markdown",
   "metadata": {
    "slideshow": {
     "slide_type": "slide"
    }
   },
   "source": [
    "### Preprocessing"
   ]
  },
  {
   "cell_type": "code",
   "execution_count": 9,
   "metadata": {},
   "outputs": [
    {
     "data": {
      "text/html": [
       "<table class=\"data-frame\"><thead><tr><th></th><th>Default</th><th>Student</th><th>Balance</th><th>Income</th><th>DefaultNum</th><th>StudentNum</th></tr><tr><th></th><th>Categorical…</th><th>Categorical…</th><th>Float64</th><th>Float64</th><th>Float64</th><th>Float64</th></tr></thead><tbody><p>6 rows × 6 columns</p><tr><th>1</th><td>No</td><td>No</td><td>729.526</td><td>44361.6</td><td>0.0</td><td>0.0</td></tr><tr><th>2</th><td>No</td><td>Yes</td><td>817.18</td><td>12106.1</td><td>0.0</td><td>1.0</td></tr><tr><th>3</th><td>No</td><td>No</td><td>1073.55</td><td>31767.1</td><td>0.0</td><td>0.0</td></tr><tr><th>4</th><td>No</td><td>No</td><td>529.251</td><td>35704.5</td><td>0.0</td><td>0.0</td></tr><tr><th>5</th><td>No</td><td>No</td><td>785.656</td><td>38463.5</td><td>0.0</td><td>0.0</td></tr><tr><th>6</th><td>No</td><td>Yes</td><td>919.589</td><td>7491.56</td><td>0.0</td><td>1.0</td></tr></tbody></table>"
      ],
      "text/latex": [
       "\\begin{tabular}{r|cccccc}\n",
       "\t& Default & Student & Balance & Income & DefaultNum & StudentNum\\\\\n",
       "\t\\hline\n",
       "\t1 & No & No & 729.526 & 44361.6 & 0.0 & 0.0 \\\\\n",
       "\t2 & No & Yes & 817.18 & 12106.1 & 0.0 & 1.0 \\\\\n",
       "\t3 & No & No & 1073.55 & 31767.1 & 0.0 & 0.0 \\\\\n",
       "\t4 & No & No & 529.251 & 35704.5 & 0.0 & 0.0 \\\\\n",
       "\t5 & No & No & 785.656 & 38463.5 & 0.0 & 0.0 \\\\\n",
       "\t6 & No & Yes & 919.589 & 7491.56 & 0.0 & 1.0 \\\\\n",
       "\\end{tabular}\n"
      ],
      "text/plain": [
       "6×6 DataFrame. Omitted printing of 1 columns\n",
       "│ Row │ Default      │ Student      │ Balance │ Income  │ DefaultNum │\n",
       "│     │ \u001b[90mCategorical…\u001b[39m │ \u001b[90mCategorical…\u001b[39m │ \u001b[90mFloat64\u001b[39m │ \u001b[90mFloat64\u001b[39m │ \u001b[90mFloat64\u001b[39m    │\n",
       "├─────┼──────────────┼──────────────┼─────────┼─────────┼────────────┤\n",
       "│ 1   │ No           │ No           │ 729.526 │ 44361.6 │ 0.0        │\n",
       "│ 2   │ No           │ Yes          │ 817.18  │ 12106.1 │ 0.0        │\n",
       "│ 3   │ No           │ No           │ 1073.55 │ 31767.1 │ 0.0        │\n",
       "│ 4   │ No           │ No           │ 529.251 │ 35704.5 │ 0.0        │\n",
       "│ 5   │ No           │ No           │ 785.656 │ 38463.5 │ 0.0        │\n",
       "│ 6   │ No           │ Yes          │ 919.589 │ 7491.56 │ 0.0        │"
      ]
     },
     "execution_count": 9,
     "metadata": {},
     "output_type": "execute_result"
    }
   ],
   "source": [
    "isyes(x) = x == \"Yes\" ? 1.0 : 0.0\n",
    "\n",
    "data[:DefaultNum] = isyes.(data[:Default])\n",
    "data[:StudentNum] = isyes.(data[:Student])\n",
    "first(data, 6)"
   ]
  },
  {
   "cell_type": "markdown",
   "metadata": {
    "slideshow": {
     "slide_type": "slide"
    }
   },
   "source": [
    "### Training/Testing set"
   ]
  },
  {
   "cell_type": "code",
   "execution_count": 10,
   "metadata": {},
   "outputs": [],
   "source": [
    "indecies = MLDataUtils.shuffleobs(collect(1:nrow(data)))\n",
    "train_ind, test_ind = MLDataUtils.splitobs(indecies, at=0.8);"
   ]
  },
  {
   "cell_type": "code",
   "execution_count": 11,
   "metadata": {
    "slideshow": {
     "slide_type": "slide"
    }
   },
   "outputs": [
    {
     "data": {
      "text/html": [
       "<table class=\"data-frame\"><thead><tr><th></th><th>Default</th><th>Student</th><th>Balance</th><th>Income</th><th>DefaultNum</th><th>StudentNum</th></tr><tr><th></th><th>Categorical…</th><th>Categorical…</th><th>Float64</th><th>Float64</th><th>Float64</th><th>Float64</th></tr></thead><tbody><p>2,000 rows × 6 columns</p><tr><th>1</th><td>No</td><td>Yes</td><td>561.392</td><td>21747.3</td><td>0.0</td><td>1.0</td></tr><tr><th>2</th><td>No</td><td>No</td><td>476.15</td><td>58837.7</td><td>0.0</td><td>0.0</td></tr><tr><th>3</th><td>No</td><td>No</td><td>306.19</td><td>30587.0</td><td>0.0</td><td>0.0</td></tr><tr><th>4</th><td>No</td><td>Yes</td><td>880.282</td><td>20177.4</td><td>0.0</td><td>1.0</td></tr><tr><th>5</th><td>Yes</td><td>No</td><td>1278.41</td><td>36675.6</td><td>1.0</td><td>0.0</td></tr><tr><th>6</th><td>No</td><td>Yes</td><td>1036.32</td><td>14108.5</td><td>0.0</td><td>1.0</td></tr><tr><th>7</th><td>No</td><td>No</td><td>0.0</td><td>50231.4</td><td>0.0</td><td>0.0</td></tr><tr><th>8</th><td>No</td><td>No</td><td>913.587</td><td>46907.2</td><td>0.0</td><td>0.0</td></tr><tr><th>9</th><td>No</td><td>No</td><td>380.95</td><td>36943.4</td><td>0.0</td><td>0.0</td></tr><tr><th>10</th><td>No</td><td>No</td><td>1351.85</td><td>40178.0</td><td>0.0</td><td>0.0</td></tr><tr><th>11</th><td>No</td><td>No</td><td>1442.13</td><td>10921.6</td><td>0.0</td><td>0.0</td></tr><tr><th>12</th><td>No</td><td>No</td><td>1018.67</td><td>38421.8</td><td>0.0</td><td>0.0</td></tr><tr><th>13</th><td>No</td><td>No</td><td>1280.0</td><td>30274.3</td><td>0.0</td><td>0.0</td></tr><tr><th>14</th><td>No</td><td>Yes</td><td>882.977</td><td>8833.67</td><td>0.0</td><td>1.0</td></tr><tr><th>15</th><td>No</td><td>No</td><td>213.01</td><td>38950.6</td><td>0.0</td><td>0.0</td></tr><tr><th>16</th><td>No</td><td>Yes</td><td>1128.36</td><td>15669.1</td><td>0.0</td><td>1.0</td></tr><tr><th>17</th><td>No</td><td>Yes</td><td>1027.86</td><td>14322.1</td><td>0.0</td><td>1.0</td></tr><tr><th>18</th><td>No</td><td>Yes</td><td>1031.64</td><td>21432.1</td><td>0.0</td><td>1.0</td></tr><tr><th>19</th><td>No</td><td>No</td><td>419.729</td><td>37444.5</td><td>0.0</td><td>0.0</td></tr><tr><th>20</th><td>No</td><td>Yes</td><td>877.88</td><td>18217.6</td><td>0.0</td><td>1.0</td></tr><tr><th>21</th><td>No</td><td>Yes</td><td>1312.93</td><td>20208.5</td><td>0.0</td><td>1.0</td></tr><tr><th>22</th><td>No</td><td>No</td><td>952.128</td><td>49137.4</td><td>0.0</td><td>0.0</td></tr><tr><th>23</th><td>No</td><td>No</td><td>779.657</td><td>40804.5</td><td>0.0</td><td>0.0</td></tr><tr><th>24</th><td>No</td><td>No</td><td>568.844</td><td>37074.5</td><td>0.0</td><td>0.0</td></tr><tr><th>25</th><td>No</td><td>Yes</td><td>1326.56</td><td>25853.1</td><td>0.0</td><td>1.0</td></tr><tr><th>26</th><td>No</td><td>No</td><td>1276.98</td><td>40611.3</td><td>0.0</td><td>0.0</td></tr><tr><th>27</th><td>No</td><td>Yes</td><td>1499.19</td><td>17560.4</td><td>0.0</td><td>1.0</td></tr><tr><th>28</th><td>No</td><td>No</td><td>933.827</td><td>57377.4</td><td>0.0</td><td>0.0</td></tr><tr><th>29</th><td>No</td><td>No</td><td>1144.12</td><td>33624.9</td><td>0.0</td><td>0.0</td></tr><tr><th>30</th><td>No</td><td>No</td><td>686.384</td><td>28953.3</td><td>0.0</td><td>0.0</td></tr><tr><th>&vellip;</th><td>&vellip;</td><td>&vellip;</td><td>&vellip;</td><td>&vellip;</td><td>&vellip;</td><td>&vellip;</td></tr></tbody></table>"
      ],
      "text/latex": [
       "\\begin{tabular}{r|cccccc}\n",
       "\t& Default & Student & Balance & Income & DefaultNum & StudentNum\\\\\n",
       "\t\\hline\n",
       "\t1 & No & Yes & 561.392 & 21747.3 & 0.0 & 1.0 \\\\\n",
       "\t2 & No & No & 476.15 & 58837.7 & 0.0 & 0.0 \\\\\n",
       "\t3 & No & No & 306.19 & 30587.0 & 0.0 & 0.0 \\\\\n",
       "\t4 & No & Yes & 880.282 & 20177.4 & 0.0 & 1.0 \\\\\n",
       "\t5 & Yes & No & 1278.41 & 36675.6 & 1.0 & 0.0 \\\\\n",
       "\t6 & No & Yes & 1036.32 & 14108.5 & 0.0 & 1.0 \\\\\n",
       "\t7 & No & No & 0.0 & 50231.4 & 0.0 & 0.0 \\\\\n",
       "\t8 & No & No & 913.587 & 46907.2 & 0.0 & 0.0 \\\\\n",
       "\t9 & No & No & 380.95 & 36943.4 & 0.0 & 0.0 \\\\\n",
       "\t10 & No & No & 1351.85 & 40178.0 & 0.0 & 0.0 \\\\\n",
       "\t11 & No & No & 1442.13 & 10921.6 & 0.0 & 0.0 \\\\\n",
       "\t12 & No & No & 1018.67 & 38421.8 & 0.0 & 0.0 \\\\\n",
       "\t13 & No & No & 1280.0 & 30274.3 & 0.0 & 0.0 \\\\\n",
       "\t14 & No & Yes & 882.977 & 8833.67 & 0.0 & 1.0 \\\\\n",
       "\t15 & No & No & 213.01 & 38950.6 & 0.0 & 0.0 \\\\\n",
       "\t16 & No & Yes & 1128.36 & 15669.1 & 0.0 & 1.0 \\\\\n",
       "\t17 & No & Yes & 1027.86 & 14322.1 & 0.0 & 1.0 \\\\\n",
       "\t18 & No & Yes & 1031.64 & 21432.1 & 0.0 & 1.0 \\\\\n",
       "\t19 & No & No & 419.729 & 37444.5 & 0.0 & 0.0 \\\\\n",
       "\t20 & No & Yes & 877.88 & 18217.6 & 0.0 & 1.0 \\\\\n",
       "\t21 & No & Yes & 1312.93 & 20208.5 & 0.0 & 1.0 \\\\\n",
       "\t22 & No & No & 952.128 & 49137.4 & 0.0 & 0.0 \\\\\n",
       "\t23 & No & No & 779.657 & 40804.5 & 0.0 & 0.0 \\\\\n",
       "\t24 & No & No & 568.844 & 37074.5 & 0.0 & 0.0 \\\\\n",
       "\t25 & No & Yes & 1326.56 & 25853.1 & 0.0 & 1.0 \\\\\n",
       "\t26 & No & No & 1276.98 & 40611.3 & 0.0 & 0.0 \\\\\n",
       "\t27 & No & Yes & 1499.19 & 17560.4 & 0.0 & 1.0 \\\\\n",
       "\t28 & No & No & 933.827 & 57377.4 & 0.0 & 0.0 \\\\\n",
       "\t29 & No & No & 1144.12 & 33624.9 & 0.0 & 0.0 \\\\\n",
       "\t30 & No & No & 686.384 & 28953.3 & 0.0 & 0.0 \\\\\n",
       "\t$\\dots$ & $\\dots$ & $\\dots$ & $\\dots$ & $\\dots$ & $\\dots$ & $\\dots$ \\\\\n",
       "\\end{tabular}\n"
      ],
      "text/plain": [
       "2000×6 DataFrame. Omitted printing of 1 columns\n",
       "│ Row  │ Default      │ Student      │ Balance │ Income  │ DefaultNum │\n",
       "│      │ \u001b[90mCategorical…\u001b[39m │ \u001b[90mCategorical…\u001b[39m │ \u001b[90mFloat64\u001b[39m │ \u001b[90mFloat64\u001b[39m │ \u001b[90mFloat64\u001b[39m    │\n",
       "├──────┼──────────────┼──────────────┼─────────┼─────────┼────────────┤\n",
       "│ 1    │ No           │ Yes          │ 561.392 │ 21747.3 │ 0.0        │\n",
       "│ 2    │ No           │ No           │ 476.15  │ 58837.7 │ 0.0        │\n",
       "│ 3    │ No           │ No           │ 306.19  │ 30587.0 │ 0.0        │\n",
       "│ 4    │ No           │ Yes          │ 880.282 │ 20177.4 │ 0.0        │\n",
       "│ 5    │ Yes          │ No           │ 1278.41 │ 36675.6 │ 1.0        │\n",
       "│ 6    │ No           │ Yes          │ 1036.32 │ 14108.5 │ 0.0        │\n",
       "│ 7    │ No           │ No           │ 0.0     │ 50231.4 │ 0.0        │\n",
       "│ 8    │ No           │ No           │ 913.587 │ 46907.2 │ 0.0        │\n",
       "│ 9    │ No           │ No           │ 380.95  │ 36943.4 │ 0.0        │\n",
       "│ 10   │ No           │ No           │ 1351.85 │ 40178.0 │ 0.0        │\n",
       "⋮\n",
       "│ 1990 │ No           │ No           │ 521.903 │ 47032.6 │ 0.0        │\n",
       "│ 1991 │ No           │ No           │ 791.035 │ 47303.7 │ 0.0        │\n",
       "│ 1992 │ No           │ No           │ 1596.87 │ 34655.9 │ 0.0        │\n",
       "│ 1993 │ No           │ Yes          │ 483.421 │ 12596.9 │ 0.0        │\n",
       "│ 1994 │ No           │ No           │ 150.771 │ 31216.8 │ 0.0        │\n",
       "│ 1995 │ No           │ No           │ 1004.26 │ 36895.9 │ 0.0        │\n",
       "│ 1996 │ No           │ No           │ 626.516 │ 49207.0 │ 0.0        │\n",
       "│ 1997 │ No           │ No           │ 1366.73 │ 35425.5 │ 0.0        │\n",
       "│ 1998 │ No           │ No           │ 1474.06 │ 47040.8 │ 0.0        │\n",
       "│ 1999 │ No           │ No           │ 1.97669 │ 51672.4 │ 0.0        │\n",
       "│ 2000 │ No           │ Yes          │ 2092.46 │ 14514.8 │ 0.0        │"
      ]
     },
     "execution_count": 11,
     "metadata": {},
     "output_type": "execute_result"
    }
   ],
   "source": [
    "train = data[train_ind, :]\n",
    "test = data[test_ind, :]"
   ]
  },
  {
   "cell_type": "markdown",
   "metadata": {
    "slideshow": {
     "slide_type": "slide"
    }
   },
   "source": [
    "### Model"
   ]
  },
  {
   "cell_type": "code",
   "execution_count": 12,
   "metadata": {},
   "outputs": [
    {
     "data": {
      "text/plain": [
       "StatsModels.DataFrameRegressionModel{GeneralizedLinearModel{GlmResp{Array{Float64,1},Binomial{Float64},LogitLink},DensePredChol{Float64,LinearAlgebra.Cholesky{Float64,Array{Float64,2}}}},Array{Float64,2}}\n",
       "\n",
       "Formula: DefaultNum ~ 1 + Balance + Income\n",
       "\n",
       "Coefficients:\n",
       "               Estimate   Std.Error  z value Pr(>|z|)\n",
       "(Intercept)     -11.618    0.496266 -23.4109   <1e-99\n",
       "Balance      0.00568553 0.000259296  21.9268   <1e-99\n",
       "Income       2.02646e-5  5.66888e-6  3.57472   0.0004\n"
      ]
     },
     "execution_count": 12,
     "metadata": {},
     "output_type": "execute_result"
    }
   ],
   "source": [
    "logreg = glm(@formula(DefaultNum ~ Balance + Income), train, Binomial(), LogitLink())"
   ]
  },
  {
   "cell_type": "markdown",
   "metadata": {
    "slideshow": {
     "slide_type": "slide"
    }
   },
   "source": [
    "### Prediction"
   ]
  },
  {
   "cell_type": "code",
   "execution_count": 13,
   "metadata": {},
   "outputs": [
    {
     "data": {
      "text/plain": [
       "2000-element Array{Union{Missing, Float64},1}:\n",
       " 0.00034024396710588675\n",
       " 0.0004443174293703553 \n",
       " 9.54004846127362e-5   \n",
       " 0.0020167221292853167 \n",
       " 0.02643235506192927   \n",
       " 0.0043204448555003525 \n",
       " 2.4913076173515666e-5 \n",
       " 0.004180092664907543  \n",
       " 0.0001659814546915922 \n",
       " 0.04237785420866679   \n",
       " 0.039262745252264315  \n",
       " 0.006382969565056107  \n",
       " 0.02349885745801304   \n",
       " ⋮                     \n",
       " 0.00012742497366052106\n",
       " 0.0004536984361026593 \n",
       " 0.002103658535463094  \n",
       " 0.137446797248739     \n",
       " 0.00018146944715101502\n",
       " 3.993538240581394e-5  \n",
       " 0.005705433158083141  \n",
       " 0.0008590887889198012 \n",
       " 0.04190369964691215   \n",
       " 0.09246229319645737   \n",
       " 2.5941133788426722e-5 \n",
       " 0.6394205785962401    "
      ]
     },
     "execution_count": 13,
     "metadata": {},
     "output_type": "execute_result"
    }
   ],
   "source": [
    "pred = predict(logreg, test)"
   ]
  },
  {
   "cell_type": "markdown",
   "metadata": {
    "slideshow": {
     "slide_type": "slide"
    }
   },
   "source": [
    "### Validation"
   ]
  },
  {
   "cell_type": "code",
   "execution_count": 14,
   "metadata": {},
   "outputs": [
    {
     "data": {
      "text/plain": [
       "0.969"
      ]
     },
     "execution_count": 14,
     "metadata": {},
     "output_type": "execute_result"
    }
   ],
   "source": [
    "error(x, y) = ((x > 0.5) ? 1.0 : 0.0) == y\n",
    "accuracy(xs, ys) = sum(error.(xs, ys)) / size(xs, 1)\n",
    "accuracy(pred, test[:DefaultNum])"
   ]
  },
  {
   "cell_type": "markdown",
   "metadata": {
    "slideshow": {
     "slide_type": "slide"
    }
   },
   "source": [
    "## Naive Bayes"
   ]
  },
  {
   "cell_type": "code",
   "execution_count": 15,
   "metadata": {},
   "outputs": [
    {
     "name": "stderr",
     "output_type": "stream",
     "text": [
      "WARNING: using NaiveBayes.train in module Main conflicts with an existing identifier.\n"
     ]
    }
   ],
   "source": [
    "using NaiveBayes"
   ]
  },
  {
   "cell_type": "markdown",
   "metadata": {
    "slideshow": {
     "slide_type": "slide"
    }
   },
   "source": [
    "### Load data"
   ]
  },
  {
   "cell_type": "code",
   "execution_count": 16,
   "metadata": {},
   "outputs": [
    {
     "data": {
      "text/html": [
       "<table class=\"data-frame\"><thead><tr><th></th><th>SepalLength</th><th>SepalWidth</th><th>PetalLength</th><th>PetalWidth</th><th>Species</th></tr><tr><th></th><th>Float64</th><th>Float64</th><th>Float64</th><th>Float64</th><th>Categorical…</th></tr></thead><tbody><p>6 rows × 5 columns</p><tr><th>1</th><td>5.1</td><td>3.5</td><td>1.4</td><td>0.2</td><td>setosa</td></tr><tr><th>2</th><td>4.9</td><td>3.0</td><td>1.4</td><td>0.2</td><td>setosa</td></tr><tr><th>3</th><td>4.7</td><td>3.2</td><td>1.3</td><td>0.2</td><td>setosa</td></tr><tr><th>4</th><td>4.6</td><td>3.1</td><td>1.5</td><td>0.2</td><td>setosa</td></tr><tr><th>5</th><td>5.0</td><td>3.6</td><td>1.4</td><td>0.2</td><td>setosa</td></tr><tr><th>6</th><td>5.4</td><td>3.9</td><td>1.7</td><td>0.4</td><td>setosa</td></tr></tbody></table>"
      ],
      "text/latex": [
       "\\begin{tabular}{r|ccccc}\n",
       "\t& SepalLength & SepalWidth & PetalLength & PetalWidth & Species\\\\\n",
       "\t\\hline\n",
       "\t1 & 5.1 & 3.5 & 1.4 & 0.2 & setosa \\\\\n",
       "\t2 & 4.9 & 3.0 & 1.4 & 0.2 & setosa \\\\\n",
       "\t3 & 4.7 & 3.2 & 1.3 & 0.2 & setosa \\\\\n",
       "\t4 & 4.6 & 3.1 & 1.5 & 0.2 & setosa \\\\\n",
       "\t5 & 5.0 & 3.6 & 1.4 & 0.2 & setosa \\\\\n",
       "\t6 & 5.4 & 3.9 & 1.7 & 0.4 & setosa \\\\\n",
       "\\end{tabular}\n"
      ],
      "text/plain": [
       "6×5 DataFrame\n",
       "│ Row │ SepalLength │ SepalWidth │ PetalLength │ PetalWidth │ Species      │\n",
       "│     │ \u001b[90mFloat64\u001b[39m     │ \u001b[90mFloat64\u001b[39m    │ \u001b[90mFloat64\u001b[39m     │ \u001b[90mFloat64\u001b[39m    │ \u001b[90mCategorical…\u001b[39m │\n",
       "├─────┼─────────────┼────────────┼─────────────┼────────────┼──────────────┤\n",
       "│ 1   │ 5.1         │ 3.5        │ 1.4         │ 0.2        │ setosa       │\n",
       "│ 2   │ 4.9         │ 3.0        │ 1.4         │ 0.2        │ setosa       │\n",
       "│ 3   │ 4.7         │ 3.2        │ 1.3         │ 0.2        │ setosa       │\n",
       "│ 4   │ 4.6         │ 3.1        │ 1.5         │ 0.2        │ setosa       │\n",
       "│ 5   │ 5.0         │ 3.6        │ 1.4         │ 0.2        │ setosa       │\n",
       "│ 6   │ 5.4         │ 3.9        │ 1.7         │ 0.4        │ setosa       │"
      ]
     },
     "execution_count": 16,
     "metadata": {},
     "output_type": "execute_result"
    }
   ],
   "source": [
    "iris = dataset(\"datasets\", \"iris\")\n",
    "first(iris, 6)"
   ]
  },
  {
   "cell_type": "markdown",
   "metadata": {
    "slideshow": {
     "slide_type": "slide"
    }
   },
   "source": [
    "### Training/Testing set"
   ]
  },
  {
   "cell_type": "code",
   "execution_count": 17,
   "metadata": {},
   "outputs": [],
   "source": [
    "indecies = MLDataUtils.shuffleobs(collect(1:nrow(iris)))\n",
    "train_ind, test_ind = MLDataUtils.splitobs(indecies, at=0.8);"
   ]
  },
  {
   "cell_type": "code",
   "execution_count": 18,
   "metadata": {},
   "outputs": [],
   "source": [
    "train = iris[train_ind, :]\n",
    "test = iris[test_ind, :]\n",
    "train_X = Matrix(train[:, 1:4])'[:, :]\n",
    "train_y = Vector(train[:Species])\n",
    "test_X = Matrix(test[:, 1:4])'[:, :]\n",
    "test_y = Vector(test[:Species]);"
   ]
  },
  {
   "cell_type": "markdown",
   "metadata": {
    "slideshow": {
     "slide_type": "slide"
    }
   },
   "source": [
    "### Model"
   ]
  },
  {
   "cell_type": "code",
   "execution_count": 19,
   "metadata": {},
   "outputs": [
    {
     "data": {
      "text/plain": [
       "GaussianNB(Dict(\"virginica\"=>36,\"versicolor\"=>42,\"setosa\"=>42))"
      ]
     },
     "execution_count": 19,
     "metadata": {},
     "output_type": "execute_result"
    }
   ],
   "source": [
    "model = GaussianNB(unique(train[:Species]), 4)\n",
    "fit(model, train_X, train_y)"
   ]
  },
  {
   "cell_type": "markdown",
   "metadata": {
    "slideshow": {
     "slide_type": "slide"
    }
   },
   "source": [
    "## Validation"
   ]
  },
  {
   "cell_type": "code",
   "execution_count": 20,
   "metadata": {},
   "outputs": [
    {
     "name": "stdout",
     "output_type": "stream",
     "text": [
      "Accuracy: 1.0\n"
     ]
    }
   ],
   "source": [
    "acc = sum(predict(model, test_X) .== test_y) / length(test_y)\n",
    "println(\"Accuracy: $acc\")"
   ]
  },
  {
   "cell_type": "markdown",
   "metadata": {
    "slideshow": {
     "slide_type": "slide"
    }
   },
   "source": [
    "## Decision Tree and Random Forest"
   ]
  },
  {
   "cell_type": "code",
   "execution_count": 21,
   "metadata": {},
   "outputs": [
    {
     "name": "stderr",
     "output_type": "stream",
     "text": [
      "WARNING: using DecisionTree.predict in module Main conflicts with an existing identifier.\n"
     ]
    }
   ],
   "source": [
    "using DecisionTree"
   ]
  },
  {
   "cell_type": "markdown",
   "metadata": {
    "slideshow": {
     "slide_type": "slide"
    }
   },
   "source": [
    "### Load data"
   ]
  },
  {
   "cell_type": "code",
   "execution_count": 22,
   "metadata": {},
   "outputs": [],
   "source": [
    "features, labels = DecisionTree.load_data(\"iris\");"
   ]
  },
  {
   "cell_type": "markdown",
   "metadata": {
    "slideshow": {
     "slide_type": "slide"
    }
   },
   "source": [
    "### Casting"
   ]
  },
  {
   "cell_type": "code",
   "execution_count": 23,
   "metadata": {},
   "outputs": [
    {
     "data": {
      "text/plain": [
       "150-element Array{String,1}:\n",
       " \"Iris-setosa\"   \n",
       " \"Iris-setosa\"   \n",
       " \"Iris-setosa\"   \n",
       " \"Iris-setosa\"   \n",
       " \"Iris-setosa\"   \n",
       " \"Iris-setosa\"   \n",
       " \"Iris-setosa\"   \n",
       " \"Iris-setosa\"   \n",
       " \"Iris-setosa\"   \n",
       " \"Iris-setosa\"   \n",
       " \"Iris-setosa\"   \n",
       " \"Iris-setosa\"   \n",
       " \"Iris-setosa\"   \n",
       " ⋮               \n",
       " \"Iris-virginica\"\n",
       " \"Iris-virginica\"\n",
       " \"Iris-virginica\"\n",
       " \"Iris-virginica\"\n",
       " \"Iris-virginica\"\n",
       " \"Iris-virginica\"\n",
       " \"Iris-virginica\"\n",
       " \"Iris-virginica\"\n",
       " \"Iris-virginica\"\n",
       " \"Iris-virginica\"\n",
       " \"Iris-virginica\"\n",
       " \"Iris-virginica\""
      ]
     },
     "execution_count": 23,
     "metadata": {},
     "output_type": "execute_result"
    }
   ],
   "source": [
    "features = float.(features)\n",
    "labels = string.(labels)"
   ]
  },
  {
   "cell_type": "markdown",
   "metadata": {
    "slideshow": {
     "slide_type": "slide"
    }
   },
   "source": [
    "### Model"
   ]
  },
  {
   "cell_type": "code",
   "execution_count": 24,
   "metadata": {},
   "outputs": [
    {
     "data": {
      "text/plain": [
       "DecisionTreeClassifier\n",
       "max_depth:                2\n",
       "min_samples_leaf:         1\n",
       "min_samples_split:        2\n",
       "min_purity_increase:      0.0\n",
       "pruning_purity_threshold: 1.0\n",
       "n_subfeatures:            0\n",
       "classes:                  root:                     "
      ]
     },
     "execution_count": 24,
     "metadata": {},
     "output_type": "execute_result"
    },
    {
     "name": "stdout",
     "output_type": "stream",
     "text": [
      "nothing\n",
      "nothing"
     ]
    }
   ],
   "source": [
    "model = DecisionTree.DecisionTreeClassifier(max_depth=2)"
   ]
  },
  {
   "cell_type": "markdown",
   "metadata": {},
   "source": [
    "Available models:\n",
    "\n",
    "* `DecisionTreeClassifier`\n",
    "* `DecisionTreeRegressor`\n",
    "* `RandomForestClassifier`\n",
    "* `RandomForestRegressor`\n",
    "* `AdaBoostStumpClassifier`"
   ]
  },
  {
   "cell_type": "code",
   "execution_count": 25,
   "metadata": {
    "slideshow": {
     "slide_type": "slide"
    }
   },
   "outputs": [
    {
     "name": "stdout",
     "output_type": "stream",
     "text": [
      "search: \u001b[0m\u001b[1mD\u001b[22m\u001b[0m\u001b[1me\u001b[22m\u001b[0m\u001b[1mc\u001b[22m\u001b[0m\u001b[1mi\u001b[22m\u001b[0m\u001b[1ms\u001b[22m\u001b[0m\u001b[1mi\u001b[22m\u001b[0m\u001b[1mo\u001b[22m\u001b[0m\u001b[1mn\u001b[22m\u001b[0m\u001b[1mT\u001b[22m\u001b[0m\u001b[1mr\u001b[22m\u001b[0m\u001b[1me\u001b[22m\u001b[0m\u001b[1me\u001b[22m\u001b[0m\u001b[1mC\u001b[22m\u001b[0m\u001b[1ml\u001b[22m\u001b[0m\u001b[1ma\u001b[22m\u001b[0m\u001b[1ms\u001b[22m\u001b[0m\u001b[1ms\u001b[22m\u001b[0m\u001b[1mi\u001b[22m\u001b[0m\u001b[1mf\u001b[22m\u001b[0m\u001b[1mi\u001b[22m\u001b[0m\u001b[1me\u001b[22m\u001b[0m\u001b[1mr\u001b[22m\n",
      "\n"
     ]
    },
    {
     "data": {
      "text/latex": [
       "\\begin{verbatim}\n",
       "DecisionTreeClassifier(; pruning_purity_threshold=0.0,\n",
       "                       max_depth::Int=-1,\n",
       "                       min_samples_leaf::Int=1,\n",
       "                       min_samples_split::Int=2,\n",
       "                       min_purity_increase::Float=0.0,\n",
       "                       n_subfeatures::Int=0,\n",
       "                       rng=Random.GLOBAL_RNG)\n",
       "\\end{verbatim}\n",
       "Decision tree classifier. See \\href{https://github.com/bensadeghi/DecisionTree.jl}{DecisionTree.jl's documentation}\n",
       "\n",
       "Hyperparameters:\n",
       "\n",
       "\\begin{itemize}\n",
       "\\item \\texttt{pruning\\_purity\\_threshold}: (post-pruning) merge leaves having \\texttt{>=thresh} combined purity (default: no pruning)\n",
       "\n",
       "\n",
       "\\item \\texttt{max\\_depth}: maximum depth of the decision tree (default: no maximum)\n",
       "\n",
       "\n",
       "\\item \\texttt{min\\_samples\\_leaf}: the minimum number of samples each leaf needs to have (default: 1)\n",
       "\n",
       "\n",
       "\\item \\texttt{min\\_samples\\_split}: the minimum number of samples in needed for a split (default: 2)\n",
       "\n",
       "\n",
       "\\item \\texttt{min\\_purity\\_increase}: minimum purity needed for a split (default: 0.0)\n",
       "\n",
       "\n",
       "\\item \\texttt{n\\_subfeatures}: number of features to select at random (default: keep all)\n",
       "\n",
       "\n",
       "\\item \\texttt{rng}: the random number generator to use. Can be an \\texttt{Int}, which will be used to seed and create a new random number generator.\n",
       "\n",
       "\\end{itemize}\n",
       "Implements \\texttt{fit!}, \\texttt{predict}, \\texttt{predict\\_proba}, \\texttt{get\\_classes}\n",
       "\n"
      ],
      "text/markdown": [
       "```\n",
       "DecisionTreeClassifier(; pruning_purity_threshold=0.0,\n",
       "                       max_depth::Int=-1,\n",
       "                       min_samples_leaf::Int=1,\n",
       "                       min_samples_split::Int=2,\n",
       "                       min_purity_increase::Float=0.0,\n",
       "                       n_subfeatures::Int=0,\n",
       "                       rng=Random.GLOBAL_RNG)\n",
       "```\n",
       "\n",
       "Decision tree classifier. See [DecisionTree.jl's documentation](https://github.com/bensadeghi/DecisionTree.jl)\n",
       "\n",
       "Hyperparameters:\n",
       "\n",
       "  * `pruning_purity_threshold`: (post-pruning) merge leaves having `>=thresh` combined purity (default: no pruning)\n",
       "  * `max_depth`: maximum depth of the decision tree (default: no maximum)\n",
       "  * `min_samples_leaf`: the minimum number of samples each leaf needs to have (default: 1)\n",
       "  * `min_samples_split`: the minimum number of samples in needed for a split (default: 2)\n",
       "  * `min_purity_increase`: minimum purity needed for a split (default: 0.0)\n",
       "  * `n_subfeatures`: number of features to select at random (default: keep all)\n",
       "  * `rng`: the random number generator to use. Can be an `Int`, which will be used to seed and create a new random number generator.\n",
       "\n",
       "Implements `fit!`, `predict`, `predict_proba`, `get_classes`\n"
      ],
      "text/plain": [
       "\u001b[36m  DecisionTreeClassifier(; pruning_purity_threshold=0.0,\u001b[39m\n",
       "\u001b[36m                         max_depth::Int=-1,\u001b[39m\n",
       "\u001b[36m                         min_samples_leaf::Int=1,\u001b[39m\n",
       "\u001b[36m                         min_samples_split::Int=2,\u001b[39m\n",
       "\u001b[36m                         min_purity_increase::Float=0.0,\u001b[39m\n",
       "\u001b[36m                         n_subfeatures::Int=0,\u001b[39m\n",
       "\u001b[36m                         rng=Random.GLOBAL_RNG)\u001b[39m\n",
       "\n",
       "  Decision tree classifier. See DecisionTree.jl's documentation\n",
       "  (https://github.com/bensadeghi/DecisionTree.jl)\n",
       "\n",
       "  Hyperparameters:\n",
       "\n",
       "    •    \u001b[36mpruning_purity_threshold\u001b[39m: (post-pruning) merge leaves having\n",
       "        \u001b[36m>=thresh\u001b[39m combined purity (default: no pruning)\n",
       "\n",
       "    •    \u001b[36mmax_depth\u001b[39m: maximum depth of the decision tree (default: no\n",
       "        maximum)\n",
       "\n",
       "    •    \u001b[36mmin_samples_leaf\u001b[39m: the minimum number of samples each leaf needs to\n",
       "        have (default: 1)\n",
       "\n",
       "    •    \u001b[36mmin_samples_split\u001b[39m: the minimum number of samples in needed for a\n",
       "        split (default: 2)\n",
       "\n",
       "    •    \u001b[36mmin_purity_increase\u001b[39m: minimum purity needed for a split (default:\n",
       "        0.0)\n",
       "\n",
       "    •    \u001b[36mn_subfeatures\u001b[39m: number of features to select at random (default:\n",
       "        keep all)\n",
       "\n",
       "    •    \u001b[36mrng\u001b[39m: the random number generator to use. Can be an \u001b[36mInt\u001b[39m, which will\n",
       "        be used to seed and create a new random number generator.\n",
       "\n",
       "  Implements \u001b[36mfit!\u001b[39m, \u001b[36mpredict\u001b[39m, \u001b[36mpredict_proba\u001b[39m, \u001b[36mget_classes\u001b[39m"
      ]
     },
     "execution_count": 25,
     "metadata": {},
     "output_type": "execute_result"
    }
   ],
   "source": [
    "?DecisionTreeClassifier"
   ]
  },
  {
   "cell_type": "markdown",
   "metadata": {
    "slideshow": {
     "slide_type": "slide"
    }
   },
   "source": [
    "### Training"
   ]
  },
  {
   "cell_type": "code",
   "execution_count": 26,
   "metadata": {},
   "outputs": [
    {
     "data": {
      "text/plain": [
       "DecisionTreeClassifier\n",
       "max_depth:                2\n",
       "min_samples_leaf:         1\n",
       "min_samples_split:        2\n",
       "min_purity_increase:      0.0\n",
       "pruning_purity_threshold: 1.0\n",
       "n_subfeatures:            0\n",
       "classes:                  root:                     "
      ]
     },
     "execution_count": 26,
     "metadata": {},
     "output_type": "execute_result"
    },
    {
     "name": "stdout",
     "output_type": "stream",
     "text": [
      "[\"Iris-setosa\", \"Iris-versicolor\", \"Iris-virginica\"]\n",
      "Decision Tree\n",
      "Leaves: 3\n",
      "Depth:  2"
     ]
    }
   ],
   "source": [
    "DecisionTree.fit!(model, features, labels)"
   ]
  },
  {
   "cell_type": "markdown",
   "metadata": {
    "slideshow": {
     "slide_type": "slide"
    }
   },
   "source": [
    "#### pretty print of the tree, to a depth of 5 nodes"
   ]
  },
  {
   "cell_type": "code",
   "execution_count": 27,
   "metadata": {},
   "outputs": [
    {
     "name": "stdout",
     "output_type": "stream",
     "text": [
      "Feature 3, Threshold 2.45\n",
      "L-> Iris-setosa : 50/50\n",
      "R-> Feature 4, Threshold 1.75\n",
      "    L-> Iris-versicolor : 49/54\n",
      "    R-> Iris-virginica : 45/46\n"
     ]
    }
   ],
   "source": [
    "DecisionTree.print_tree(model, 5)"
   ]
  },
  {
   "cell_type": "markdown",
   "metadata": {
    "slideshow": {
     "slide_type": "slide"
    }
   },
   "source": [
    "### Prediction"
   ]
  },
  {
   "cell_type": "code",
   "execution_count": 28,
   "metadata": {},
   "outputs": [
    {
     "data": {
      "text/plain": [
       "\"Iris-virginica\""
      ]
     },
     "execution_count": 28,
     "metadata": {},
     "output_type": "execute_result"
    }
   ],
   "source": [
    "new_iris = [5.9, 3.0, 5.1, 1.9]\n",
    "DecisionTree.predict(model, new_iris)"
   ]
  },
  {
   "cell_type": "code",
   "execution_count": 29,
   "metadata": {},
   "outputs": [
    {
     "data": {
      "text/plain": [
       "3-element Array{Float64,1}:\n",
       " 0.0                 \n",
       " 0.021739130434782608\n",
       " 0.9782608695652174  "
      ]
     },
     "execution_count": 29,
     "metadata": {},
     "output_type": "execute_result"
    }
   ],
   "source": [
    "DecisionTree.predict_proba(model, new_iris)"
   ]
  },
  {
   "cell_type": "markdown",
   "metadata": {
    "slideshow": {
     "slide_type": "slide"
    }
   },
   "source": [
    "#### the ordering of the columns in `predict_proba`'s output"
   ]
  },
  {
   "cell_type": "code",
   "execution_count": 30,
   "metadata": {},
   "outputs": [
    {
     "data": {
      "text/plain": [
       "3-element Array{String,1}:\n",
       " \"Iris-setosa\"    \n",
       " \"Iris-versicolor\"\n",
       " \"Iris-virginica\" "
      ]
     },
     "execution_count": 30,
     "metadata": {},
     "output_type": "execute_result"
    }
   ],
   "source": [
    "DecisionTree.get_classes(model)"
   ]
  },
  {
   "cell_type": "markdown",
   "metadata": {
    "slideshow": {
     "slide_type": "slide"
    }
   },
   "source": [
    "### Save model"
   ]
  },
  {
   "cell_type": "code",
   "execution_count": 31,
   "metadata": {},
   "outputs": [],
   "source": [
    "using JLD2"
   ]
  },
  {
   "cell_type": "code",
   "execution_count": 32,
   "metadata": {},
   "outputs": [],
   "source": [
    "@save \"models/decision-tree.jld2\" model"
   ]
  },
  {
   "cell_type": "markdown",
   "metadata": {
    "slideshow": {
     "slide_type": "slide"
    }
   },
   "source": [
    "# Packages"
   ]
  },
  {
   "cell_type": "markdown",
   "metadata": {
    "slideshow": {
     "slide_type": "slide"
    }
   },
   "source": [
    "## Distributions\n",
    "\n",
    "* Distributions.jl"
   ]
  },
  {
   "cell_type": "markdown",
   "metadata": {},
   "source": [
    "## Regression\n",
    "\n",
    "* Lasso.jl\n",
    "    * Ridge regression\n",
    "    * LASSO regression\n",
    "    * ElasticNet\n",
    "* LARS.jl\n",
    "    * Least angle regression\n",
    "    * L1-regularized linear regression\n",
    "* Isotonic.jl\n",
    "    * Linear PAVA (fastest)\n",
    "    * Pooled PAVA (slower)\n",
    "    * Active Set (slowest)"
   ]
  },
  {
   "cell_type": "markdown",
   "metadata": {
    "slideshow": {
     "slide_type": "slide"
    }
   },
   "source": [
    "## Clustering\n",
    "\n",
    "* Clustering.jl\n",
    "    * K-means\n",
    "    * K-medoids\n",
    "    * Affinity Propagation\n",
    "    * Density-based spatial clustering of applications with noise (DBSCAN)\n",
    "    * Markov Clustering Algorithm (MCL)\n",
    "    * Fuzzy C-Means Clustering\n",
    "    * Hierarchical Clustering\n",
    "        * Single Linkage\n",
    "        * Average Linkage\n",
    "        * Complete Linkage\n",
    "        * Ward's Linkage"
   ]
  },
  {
   "cell_type": "markdown",
   "metadata": {
    "slideshow": {
     "slide_type": "slide"
    }
   },
   "source": [
    "## Dimensional Reduction\n",
    "\n",
    "* MultivariateStats.jl\n",
    "    * Data Whitening\n",
    "    * Principal Components Analysis (PCA)\n",
    "    * Canonical Correlation Analysis (CCA)\n",
    "    * Classical Multidimensional Scaling (MDS)\n",
    "    * Linear Discriminant Analysis (LDA)\n",
    "    * Multiclass LDA\n",
    "    * Independent Component Analysis (ICA), FastICA\n",
    "    * Probabilistic PCA\n",
    "    * Factor Analysis\n",
    "    * Kernel PCA"
   ]
  },
  {
   "cell_type": "markdown",
   "metadata": {
    "slideshow": {
     "slide_type": "slide"
    }
   },
   "source": [
    "## Dimensional Reduction\n",
    "\n",
    "* NMF.jl\n",
    "    * Lee & Seung's Multiplicative Update (for both MSE & Divergence objectives)\n",
    "    * (Naive) Projected Alternate Least Squared\n",
    "    * ALS Projected Gradient Methods\n",
    "    * Random Initialization\n",
    "    * NNDSVD Initialization"
   ]
  },
  {
   "cell_type": "markdown",
   "metadata": {},
   "source": [
    "## Kernel Density Estimtion\n",
    "\n",
    "* KernelDensity.jl"
   ]
  },
  {
   "cell_type": "markdown",
   "metadata": {
    "slideshow": {
     "slide_type": "slide"
    }
   },
   "source": [
    "## Time Series Analysis\n",
    "\n",
    "* TimeSeries.jl"
   ]
  },
  {
   "cell_type": "markdown",
   "metadata": {
    "slideshow": {
     "slide_type": "slide"
    }
   },
   "source": [
    "# Go to deep learning!"
   ]
  }
 ],
 "metadata": {
  "kernelspec": {
   "display_name": "Julia 1.0.3",
   "language": "julia",
   "name": "julia-1.0"
  },
  "language_info": {
   "file_extension": ".jl",
   "mimetype": "application/julia",
   "name": "julia",
   "version": "1.0.3"
  }
 },
 "nbformat": 4,
 "nbformat_minor": 2
}
